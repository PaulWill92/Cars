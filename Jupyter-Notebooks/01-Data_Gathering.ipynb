{
 "cells": [
  {
   "cell_type": "markdown",
   "metadata": {},
   "source": [
    "# Autovillage webscraper\n",
    "\n",
    "Within this notebook i will be making a script that will crawl and scrape\n",
    "this [website](https://www.autovillage.co.uk/used-car/filter/bodystyle/saloon). <br>\n",
    "My goal is to create a data frame with the below features: <br>\n",
    "1. make - cars brand\n",
    "2. model - cars model\n",
    "3. doors - # of doors the car has\n",
    "4. body_type - saloon, hatchback, sport, suv, etc\n",
    "5. transmission - automatic or manual\n",
    "6. Mileage - # of miles on the odometer\n",
    "7. engine_size - in cc\n",
    "8. price - in £\n",
    "9. year - car's year of registration\n",
    "\n",
    "My plan of action is to parse into the elements I want on my web page, reverse engineer a for loop based off the containers I make, and use an array to store my data."
   ]
  },
  {
   "cell_type": "markdown",
   "metadata": {},
   "source": [
    "### The packages I will use:"
   ]
  },
  {
   "cell_type": "code",
   "execution_count": 1,
   "metadata": {},
   "outputs": [],
   "source": [
    "# dataframe\n",
    "import pandas as pd\n",
    "import numpy as np\n",
    "\n",
    "# Webscraping libraries\n",
    "from urllib.request import urlopen # url inspector\n",
    "from bs4 import BeautifulSoup\n",
    "import re\n",
    "from selenium import webdriver # connects to chrome browser\n",
    "import warnings\n",
    "warnings.filterwarnings('ignore')\n",
    "\n",
    "# Web crawler imports\n",
    "import requests\n",
    "from requests import get\n",
    "\n",
    "# Web crawlers random seeds/time delays\n",
    "from time import sleep\n",
    "from random import randint\n",
    "\n",
    "# image viewer for cell outputs\n",
    "from IPython.display import display, Markdown, Latex, Image, display_html, HTML"
   ]
  },
  {
   "cell_type": "markdown",
   "metadata": {},
   "source": [
    "## Establishing a connection\n",
    "I will start by establishing a connection to the website autovilliage this will allow me to send and read responses."
   ]
  },
  {
   "cell_type": "code",
   "execution_count": 2,
   "metadata": {},
   "outputs": [],
   "source": [
    "# establish my url as a string\n",
    "my_url = 'https://www.autovillage.co.uk/used-car/filter/bodystyle/saloon'"
   ]
  },
  {
   "cell_type": "code",
   "execution_count": 3,
   "metadata": {},
   "outputs": [],
   "source": [
    "my_client = urlopen(my_url) # open up a connection to the webpage\n",
    "autovillage_page =my_client.read() # reads all the html from the webpage"
   ]
  },
  {
   "cell_type": "markdown",
   "metadata": {},
   "source": [
    "## Parse the HTML"
   ]
  },
  {
   "cell_type": "markdown",
   "metadata": {},
   "source": [
    "Parsing allows me to read the response object html syntax as a giant string which python can handle."
   ]
  },
  {
   "cell_type": "code",
   "execution_count": 4,
   "metadata": {},
   "outputs": [],
   "source": [
    "# HTML parsing\n",
    "page_soup = BeautifulSoup(autovillage_page, \"html.parser\")"
   ]
  },
  {
   "cell_type": "code",
   "execution_count": 5,
   "metadata": {},
   "outputs": [
    {
     "data": {
      "text/plain": [
       "<h1>Used Cars for Sale</h1>"
      ]
     },
     "execution_count": 5,
     "metadata": {},
     "output_type": "execute_result"
    }
   ],
   "source": [
    "page_soup.h1 # can view tags just by passing tag onto the soup"
   ]
  },
  {
   "cell_type": "markdown",
   "metadata": {},
   "source": [
    "## Traverse the HTML\n",
    "Capture exactly the elements I want by inspecting the web page code. Once I found the exact points within the HTML code I want to reference, I can save them as variables and reference them as containers in my for loops."
   ]
  },
  {
   "cell_type": "code",
   "execution_count": null,
   "metadata": {
    "scrolled": true
   },
   "outputs": [],
   "source": [
    "page_soup.body # run this if you are a saddist and want to view the entire webpage html code or else use inspector on your web browser"
   ]
  },
  {
   "cell_type": "markdown",
   "metadata": {},
   "source": [
    "### Create container\n",
    "The container is the html code that houses exactly what we need."
   ]
  },
  {
   "cell_type": "code",
   "execution_count": 7,
   "metadata": {},
   "outputs": [],
   "source": [
    "# only focus on the html code that contains the info that's important to me\n",
    "# thats important for me\n",
    "container = page_soup.findAll(\"div\", {\"class\":\"ucatid20\"}) # found the ucatid20 tag from inspecting webpage and selecting the entire container="
   ]
  },
  {
   "cell_type": "code",
   "execution_count": 8,
   "metadata": {},
   "outputs": [
    {
     "data": {
      "text/plain": [
       "10"
      ]
     },
     "execution_count": 8,
     "metadata": {},
     "output_type": "execute_result"
    }
   ],
   "source": [
    "# check how many containers there are (should be 10 since 10 cars)\n",
    "len(container) \n"
   ]
  },
  {
   "cell_type": "markdown",
   "metadata": {},
   "source": [
    "It found 10 of my cars on the page this is correct as I know visually there are 10 cars listed on each of the webpages."
   ]
  },
  {
   "cell_type": "markdown",
   "metadata": {},
   "source": [
    "### The images\n",
    "For fun I will webscrape the images and loop the outputs. This will be a good starting base to structure my web scraper on."
   ]
  },
  {
   "cell_type": "code",
   "execution_count": 9,
   "metadata": {},
   "outputs": [
    {
     "data": {
      "text/plain": [
       "<img alt=\"BMW 5 Series\" src=\"https://cdn-csnetworkstock.s3.amazonaws.com/bmw/5-series/24278/34092224/bmw_5-series_1_pl.jpg\"/>"
      ]
     },
     "execution_count": 9,
     "metadata": {},
     "output_type": "execute_result"
    }
   ],
   "source": [
    "# I will index into the html code that contains the images\n",
    "container[0].findAll(\"div\", {\"class\":\"mb5\"})[0].img\n",
    "# change first number index to swap cars"
   ]
  },
  {
   "cell_type": "code",
   "execution_count": 10,
   "metadata": {},
   "outputs": [
    {
     "data": {
      "text/html": [
       "<img alt=\"BMW 5 Series\" src=\"https://cdn-csnetworkstock.s3.amazonaws.com/bmw/5-series/24278/34092224/bmw_5-series_1_pl.jpg\"/>"
      ],
      "text/plain": [
       "<IPython.core.display.HTML object>"
      ]
     },
     "metadata": {},
     "output_type": "display_data"
    }
   ],
   "source": [
    "# finds the images of the cars index into 1 car of the container and specify only the img flags within the containers html code\n",
    "image = container[0].findAll(\"div\", {\"class\":\"mb5\"})\n",
    "\n",
    "# use ipython display to view the html/yml code as an output cell\n",
    "display(HTML(str(image[0].img)))"
   ]
  },
  {
   "cell_type": "markdown",
   "metadata": {},
   "source": [
    "great! the parsing worked now lets loop!"
   ]
  },
  {
   "cell_type": "code",
   "execution_count": 11,
   "metadata": {},
   "outputs": [
    {
     "data": {
      "text/html": [
       "<img alt=\"BMW 5 Series\" src=\"https://cdn-csnetworkstock.s3.amazonaws.com/bmw/5-series/24278/34092224/bmw_5-series_1_pl.jpg\"/>"
      ],
      "text/plain": [
       "<IPython.core.display.HTML object>"
      ]
     },
     "metadata": {},
     "output_type": "display_data"
    },
    {
     "data": {
      "text/html": [
       "<img alt=\"BMW M5\" src=\"https://cdn-csnetworkstock.s3.amazonaws.com/bmw/m5/46518/33789436/bmw_m5_1_pl.jpg\"/>"
      ],
      "text/plain": [
       "<IPython.core.display.HTML object>"
      ]
     },
     "metadata": {},
     "output_type": "display_data"
    },
    {
     "data": {
      "text/html": [
       "<img alt=\"Jaguar XF\" src=\"https://cdn-csnetworkstock.s3.amazonaws.com/jaguar/xf/23279/31625631/jaguar_xf_1_pl.jpg\"/>"
      ],
      "text/plain": [
       "<IPython.core.display.HTML object>"
      ]
     },
     "metadata": {},
     "output_type": "display_data"
    },
    {
     "data": {
      "text/html": [
       "<img alt=\"BMW 3 Series\" src=\"https://cdn-csnetworkstock.s3.amazonaws.com/bmw/3-series/23112/33352915/bmw_3-series_1_pl.jpg\"/>"
      ],
      "text/plain": [
       "<IPython.core.display.HTML object>"
      ]
     },
     "metadata": {},
     "output_type": "display_data"
    },
    {
     "data": {
      "text/html": [
       "<img alt=\"Volkswagen Passat\" src=\"https://cdn-csnetworkstock.s3.amazonaws.com/volkswagen/passat/31892/34228875/volkswagen_passat_1_pl.jpg\"/>"
      ],
      "text/plain": [
       "<IPython.core.display.HTML object>"
      ]
     },
     "metadata": {},
     "output_type": "display_data"
    },
    {
     "data": {
      "text/html": [
       "<img alt=\"Mazda 6\" src=\"https://cdn-csnetworkstock.s3.amazonaws.com/mazda/6/50270/33231480/mazda_6_1_pl.jpg\"/>"
      ],
      "text/plain": [
       "<IPython.core.display.HTML object>"
      ]
     },
     "metadata": {},
     "output_type": "display_data"
    },
    {
     "data": {
      "text/html": [
       "<img alt=\"Saab 9-5\" src=\"https://cdn-csnetworkstock.s3.amazonaws.com/saab/9-5/25259/34439341/saab_9-5_1_pl.jpg\"/>"
      ],
      "text/plain": [
       "<IPython.core.display.HTML object>"
      ]
     },
     "metadata": {},
     "output_type": "display_data"
    },
    {
     "data": {
      "text/html": [
       "<img alt=\"BMW 3 Series\" src=\"https://cdn-csnetworkstock.s3.amazonaws.com/bmw/3-series/52342/34256469/bmw_3-series_1_pl.jpg\"/>"
      ],
      "text/plain": [
       "<IPython.core.display.HTML object>"
      ]
     },
     "metadata": {},
     "output_type": "display_data"
    },
    {
     "data": {
      "text/html": [
       "<img alt=\"Mercedes-Benz C Class\" src=\"https://cdn-csnetworkstock.s3.amazonaws.com/mercedes-benz/c-class/54746/34250300/mercedes-benz_c-class_1_pl.jpg\"/>"
      ],
      "text/plain": [
       "<IPython.core.display.HTML object>"
      ]
     },
     "metadata": {},
     "output_type": "display_data"
    },
    {
     "data": {
      "text/html": [
       "<img alt=\"Audi A4\" src=\"https://cdn-csnetworkstock.s3.amazonaws.com/audi/a4/46723/33838455/audi_a4_1_pl.jpg\"/>"
      ],
      "text/plain": [
       "<IPython.core.display.HTML object>"
      ]
     },
     "metadata": {},
     "output_type": "display_data"
    }
   ],
   "source": [
    "# a for loop that iterates over all 10 containers and returns the images using ipython display output\n",
    "\n",
    "for item in range(0,len(container)):\n",
    "    display(HTML(str(container[item].findAll(\"div\", {\"class\":\"mb5\"})[0].img)))\n",
    "\n"
   ]
  },
  {
   "cell_type": "markdown",
   "metadata": {},
   "source": [
    "## Parse containers\n",
    "Now that my little demo worked, I can parse into the features I will need for my Data Frame. I will still be using the alinkContainer as I found that the website seems to store its car details in that container.\n",
    "\n",
    "Just as above, I will test by parsing into 1 car container and once I get it right I will reverse engineer a for loop to iterate over all of the containers."
   ]
  },
  {
   "cell_type": "code",
   "execution_count": 12,
   "metadata": {},
   "outputs": [],
   "source": [
    "# use this container for our car names potentially\n",
    "name_container = page_soup.findAll(\"div\", {\"class\":\"alinkContainer\"})"
   ]
  },
  {
   "cell_type": "code",
   "execution_count": 13,
   "metadata": {},
   "outputs": [
    {
     "data": {
      "text/plain": [
       "<a href=\"/used-car/bmw/5-series/mtz_67056_56381734\">\n",
       "BMW 5 Series 520d xDrive M Sport 4dr Auto</a>"
      ]
     },
     "execution_count": 13,
     "metadata": {},
     "output_type": "execute_result"
    }
   ],
   "source": [
    "# this is one path to get the name of the car but it might not be optimal\n",
    "name_container[0].div.a"
   ]
  },
  {
   "cell_type": "code",
   "execution_count": 14,
   "metadata": {},
   "outputs": [
    {
     "data": {
      "text/plain": [
       "[<div class=\"avprice\">£28,450</div>]"
      ]
     },
     "execution_count": 14,
     "metadata": {},
     "output_type": "execute_result"
    }
   ],
   "source": [
    "# price\n",
    "pricing = name_container[1].findAll(\"div\", {\"class\": \"avprice\"}) # our prices\n",
    "pricing"
   ]
  },
  {
   "cell_type": "code",
   "execution_count": 15,
   "metadata": {},
   "outputs": [
    {
     "data": {
      "text/plain": [
       "<div class=\"avprice\">£28,450</div>"
      ]
     },
     "execution_count": 15,
     "metadata": {},
     "output_type": "execute_result"
    }
   ],
   "source": [
    "# This container houses the price of the car's it is seperate from the other containers that house the details.\n",
    "pricing2 = name_container[1].find(\"div\", class_=\"avprice\") # our prices\n",
    "pricing2 # this method allows you to chain more find/findall commands without returning error"
   ]
  },
  {
   "cell_type": "markdown",
   "metadata": {},
   "source": [
    "## Parsing into my features\n",
    "All of my features except price are in the same class:item flag. The only thing required is to index into the correct feature using python indexing."
   ]
  },
  {
   "cell_type": "code",
   "execution_count": 16,
   "metadata": {},
   "outputs": [
    {
     "data": {
      "text/plain": [
       "<div class=\"item\">\n",
       "2018 BMW 5 Series \n",
       "\n",
       "</div>"
      ]
     },
     "execution_count": 16,
     "metadata": {},
     "output_type": "execute_result"
    }
   ],
   "source": [
    "# year + name \n",
    "year_name_model_html = container[0].div.findAll(\"div\", {\"class\":\"item\"})[0]\n",
    "year_name_model_html"
   ]
  },
  {
   "cell_type": "code",
   "execution_count": 17,
   "metadata": {},
   "outputs": [
    {
     "data": {
      "text/plain": [
       "<span>1995cc Automatic </span>"
      ]
     },
     "execution_count": 17,
     "metadata": {},
     "output_type": "execute_result"
    }
   ],
   "source": [
    "# engine + transmission\n",
    "eng_tran_html = container[0].div.span\n",
    "eng_tran_html"
   ]
  },
  {
   "cell_type": "code",
   "execution_count": 18,
   "metadata": {},
   "outputs": [
    {
     "data": {
      "text/plain": [
       "<span> 4 Door Saloon</span>"
      ]
     },
     "execution_count": 18,
     "metadata": {},
     "output_type": "execute_result"
    }
   ],
   "source": [
    "# door + body type\n",
    "door_body_html = container[0].div.findAll(\"div\", {\"class\":\"item\"})[2].span\n",
    "door_body_html#.get_text()"
   ]
  },
  {
   "cell_type": "code",
   "execution_count": 19,
   "metadata": {},
   "outputs": [
    {
     "data": {
      "text/plain": [
       "<span> 19,479 miles</span>"
      ]
     },
     "execution_count": 19,
     "metadata": {},
     "output_type": "execute_result"
    }
   ],
   "source": [
    "# Mileage\n",
    "mileage_html = container[0].div.findAll(\"div\", {\"class\":\"item\"})[3].span\n",
    "mileage_html#.get_text()"
   ]
  },
  {
   "cell_type": "markdown",
   "metadata": {},
   "source": [
    "Great! I found all of my features. The code above will help me create my scraper."
   ]
  },
  {
   "cell_type": "markdown",
   "metadata": {},
   "source": [
    "## Looping my containers\n",
    "In this section, I will create for loops to append lists of elements from my cars container's and create data frame columns. I have already indexed into the right places I just need to iterate them. When I have got to the absolute end of my parsing, I can use the `get_text()` to extract the text. (use this only at the end). `.strip()` removes white space from the code."
   ]
  },
  {
   "cell_type": "code",
   "execution_count": 20,
   "metadata": {},
   "outputs": [
    {
     "data": {
      "text/plain": [
       "[<div class=\"avprice\">£25,998</div>,\n",
       " <div class=\"avprice\">£28,450</div>,\n",
       " <div class=\"avprice\">£11,995</div>,\n",
       " <div class=\"avprice\">£17,999</div>,\n",
       " <div class=\"avprice\">£10,495</div>,\n",
       " <div class=\"avprice\">£26,295</div>,\n",
       " <div class=\"avprice\">£1,995</div>,\n",
       " <div class=\"avprice\">£36,090</div>,\n",
       " <div class=\"avprice\">£7,000</div>,\n",
       " <div class=\"avprice\">£27,490</div>]"
      ]
     },
     "execution_count": 20,
     "metadata": {},
     "output_type": "execute_result"
    }
   ],
   "source": [
    "container2 = page_soup.findAll(\"div\", {\"class\":\"avprice\"})\n",
    "container2"
   ]
  },
  {
   "cell_type": "code",
   "execution_count": 21,
   "metadata": {},
   "outputs": [],
   "source": [
    "price =[] # car price\n",
    "year_make_model =[] # year made, brand name, model\n",
    "eng_tran =[] # engine size and transmission type\n",
    "door_body =[] # number of doors and body style\n",
    "mileage =[] # number of miles on the odometer\n",
    "\n",
    "# loop within container2 and return just the text\n",
    "for item in container2:\n",
    "    \n",
    "    #price\n",
    "    price.append(item.text)\n",
    "    \n",
    "for item in range(0,len(container)):\n",
    "    \n",
    "    #year, make, and model\n",
    "    car_names= container[item].div.findAll(\"div\", {\"class\":\"item\"})[0]\n",
    "    year_make_model.append(car_names.get_text().strip())\n",
    "    \n",
    "    #engine size and transmission type\n",
    "    tran = container[item].div.span\n",
    "    eng_tran.append(tran.get_text())\n",
    "    \n",
    "    # number of doors and car body type\n",
    "    door_bod = container[item].div.findAll(\"div\", {\"class\":\"item\"})[2].span\n",
    "    door_body.append(door_bod.get_text())\n",
    "    \n",
    "    # Car mileage\n",
    "    car_mileage = container[item].div.findAll(\"div\", {\"class\":\"item\"})[3].span\n",
    "    mileage.append(car_mileage)\n",
    "    "
   ]
  },
  {
   "cell_type": "code",
   "execution_count": 22,
   "metadata": {},
   "outputs": [
    {
     "data": {
      "text/plain": [
       "['£25,998',\n",
       " '£28,450',\n",
       " '£11,995',\n",
       " '£17,999',\n",
       " '£10,495',\n",
       " '£26,295',\n",
       " '£1,995',\n",
       " '£36,090',\n",
       " '£7,000',\n",
       " '£27,490']"
      ]
     },
     "execution_count": 22,
     "metadata": {},
     "output_type": "execute_result"
    }
   ],
   "source": [
    "# Check to see if the features turned out alright\n",
    "price"
   ]
  },
  {
   "cell_type": "code",
   "execution_count": 23,
   "metadata": {},
   "outputs": [
    {
     "name": "stdout",
     "output_type": "stream",
     "text": [
      "Rows in price: 10\n",
      "Rows in mileage: 10\n",
      "Rows in door count/body style: 10\n",
      "Rows in engine size/transmission: 10\n",
      "Rows in year/make/model: 10\n"
     ]
    }
   ],
   "source": [
    "# lets count how many cars we have in our features it should be 10\n",
    "print(\"Rows in price:\",len(price))\n",
    "print(\"Rows in mileage:\",len(mileage))\n",
    "print(\"Rows in door count/body style:\",len(door_body))\n",
    "print(\"Rows in engine size/transmission:\",len(eng_tran))\n",
    "print(\"Rows in year/make/model:\",len(year_make_model))"
   ]
  },
  {
   "cell_type": "markdown",
   "metadata": {},
   "source": [
    "## Make Our data frame\n",
    "Test our webscraper by making a data frame practice run."
   ]
  },
  {
   "cell_type": "code",
   "execution_count": 24,
   "metadata": {},
   "outputs": [],
   "source": [
    "car_df = pd.DataFrame({'price':price, \n",
    "                       'mileage':mileage, \n",
    "                       'door/body':door_body, \n",
    "                       'eng/tran':eng_tran, \n",
    "                       'year/make/model':year_make_model})"
   ]
  },
  {
   "cell_type": "code",
   "execution_count": 25,
   "metadata": {},
   "outputs": [
    {
     "data": {
      "text/html": [
       "<div>\n",
       "<style scoped>\n",
       "    .dataframe tbody tr th:only-of-type {\n",
       "        vertical-align: middle;\n",
       "    }\n",
       "\n",
       "    .dataframe tbody tr th {\n",
       "        vertical-align: top;\n",
       "    }\n",
       "\n",
       "    .dataframe thead th {\n",
       "        text-align: right;\n",
       "    }\n",
       "</style>\n",
       "<table border=\"1\" class=\"dataframe\">\n",
       "  <thead>\n",
       "    <tr style=\"text-align: right;\">\n",
       "      <th></th>\n",
       "      <th>price</th>\n",
       "      <th>mileage</th>\n",
       "      <th>door/body</th>\n",
       "      <th>eng/tran</th>\n",
       "      <th>year/make/model</th>\n",
       "    </tr>\n",
       "  </thead>\n",
       "  <tbody>\n",
       "    <tr>\n",
       "      <th>0</th>\n",
       "      <td>£25,998</td>\n",
       "      <td>[ 19,479 miles]</td>\n",
       "      <td>4 Door Saloon</td>\n",
       "      <td>1995cc Automatic</td>\n",
       "      <td>2018 BMW 5 Series</td>\n",
       "    </tr>\n",
       "    <tr>\n",
       "      <th>1</th>\n",
       "      <td>£28,450</td>\n",
       "      <td>[ 36,000 miles]</td>\n",
       "      <td>4 Door Saloon</td>\n",
       "      <td>4395cc Automatic</td>\n",
       "      <td>2016 BMW M5</td>\n",
       "    </tr>\n",
       "    <tr>\n",
       "      <th>2</th>\n",
       "      <td>£11,995</td>\n",
       "      <td>[ 63,910 miles]</td>\n",
       "      <td>4 Door Saloon</td>\n",
       "      <td>2179cc Automatic</td>\n",
       "      <td>2014 Jaguar XF</td>\n",
       "    </tr>\n",
       "    <tr>\n",
       "      <th>3</th>\n",
       "      <td>£17,999</td>\n",
       "      <td>[ 13,503 miles]</td>\n",
       "      <td>4 Door Saloon</td>\n",
       "      <td>1995cc Manual</td>\n",
       "      <td>2018 BMW 3 Series</td>\n",
       "    </tr>\n",
       "    <tr>\n",
       "      <th>4</th>\n",
       "      <td>£10,495</td>\n",
       "      <td>[ 61,000 miles]</td>\n",
       "      <td>4 Door Saloon</td>\n",
       "      <td>1968cc Manual</td>\n",
       "      <td>2016 Volkswagen Passat</td>\n",
       "    </tr>\n",
       "    <tr>\n",
       "      <th>5</th>\n",
       "      <td>£26,295</td>\n",
       "      <td>[ 10 miles]</td>\n",
       "      <td>4 Door Saloon</td>\n",
       "      <td>2191cc Manual</td>\n",
       "      <td>2019 Mazda 6</td>\n",
       "    </tr>\n",
       "    <tr>\n",
       "      <th>6</th>\n",
       "      <td>£1,995</td>\n",
       "      <td>[ 110,000 miles]</td>\n",
       "      <td>4 Door Saloon</td>\n",
       "      <td>1910cc Manual</td>\n",
       "      <td>2009 Saab 9-5</td>\n",
       "    </tr>\n",
       "    <tr>\n",
       "      <th>7</th>\n",
       "      <td>£36,090</td>\n",
       "      <td>None</td>\n",
       "      <td>4 Door Saloon</td>\n",
       "      <td>1998cc Automatic</td>\n",
       "      <td>2019 BMW 3 Series</td>\n",
       "    </tr>\n",
       "    <tr>\n",
       "      <th>8</th>\n",
       "      <td>£7,000</td>\n",
       "      <td>[ 98,000 miles]</td>\n",
       "      <td>4 Door Saloon</td>\n",
       "      <td>2987cc Automatic</td>\n",
       "      <td>2011 Mercedes-Benz C Class</td>\n",
       "    </tr>\n",
       "    <tr>\n",
       "      <th>9</th>\n",
       "      <td>£27,490</td>\n",
       "      <td>[ 8,900 miles]</td>\n",
       "      <td>4 Door Saloon</td>\n",
       "      <td>2000cc Automatic</td>\n",
       "      <td>2019 Audi A4</td>\n",
       "    </tr>\n",
       "  </tbody>\n",
       "</table>\n",
       "</div>"
      ],
      "text/plain": [
       "     price           mileage       door/body           eng/tran  \\\n",
       "0  £25,998   [ 19,479 miles]   4 Door Saloon  1995cc Automatic    \n",
       "1  £28,450   [ 36,000 miles]   4 Door Saloon  4395cc Automatic    \n",
       "2  £11,995   [ 63,910 miles]   4 Door Saloon  2179cc Automatic    \n",
       "3  £17,999   [ 13,503 miles]   4 Door Saloon     1995cc Manual    \n",
       "4  £10,495   [ 61,000 miles]   4 Door Saloon     1968cc Manual    \n",
       "5  £26,295       [ 10 miles]   4 Door Saloon     2191cc Manual    \n",
       "6   £1,995  [ 110,000 miles]   4 Door Saloon     1910cc Manual    \n",
       "7  £36,090              None   4 Door Saloon  1998cc Automatic    \n",
       "8   £7,000   [ 98,000 miles]   4 Door Saloon  2987cc Automatic    \n",
       "9  £27,490    [ 8,900 miles]   4 Door Saloon  2000cc Automatic    \n",
       "\n",
       "              year/make/model  \n",
       "0           2018 BMW 5 Series  \n",
       "1                 2016 BMW M5  \n",
       "2              2014 Jaguar XF  \n",
       "3           2018 BMW 3 Series  \n",
       "4      2016 Volkswagen Passat  \n",
       "5                2019 Mazda 6  \n",
       "6               2009 Saab 9-5  \n",
       "7           2019 BMW 3 Series  \n",
       "8  2011 Mercedes-Benz C Class  \n",
       "9                2019 Audi A4  "
      ]
     },
     "execution_count": 25,
     "metadata": {},
     "output_type": "execute_result"
    }
   ],
   "source": [
    "car_df"
   ]
  },
  {
   "cell_type": "markdown",
   "metadata": {},
   "source": [
    "Great! the webscraper worked! but this is only effective for 1 page. We need to set up a webcrawler to do many other pages."
   ]
  },
  {
   "cell_type": "markdown",
   "metadata": {},
   "source": [
    "## Save DF\n",
    "Testing save for DF."
   ]
  },
  {
   "cell_type": "code",
   "execution_count": null,
   "metadata": {},
   "outputs": [],
   "source": [
    "save_path = '../Raw-Data/car_practice.csv'"
   ]
  },
  {
   "cell_type": "code",
   "execution_count": null,
   "metadata": {},
   "outputs": [],
   "source": [
    "car_df.to_csv(save_path)"
   ]
  },
  {
   "cell_type": "markdown",
   "metadata": {},
   "source": [
    "## Creating My Webcrawler\n",
    "Now that I know everything works on each webpage, I will automate the process of scraping my web pages by creating a webcrawler.\n",
    "\n",
    "A crawler essentially goes through each page and applies your web scraper. It's very handy as I plan on using a few thousand cars for my data set."
   ]
  },
  {
   "cell_type": "code",
   "execution_count": 26,
   "metadata": {},
   "outputs": [],
   "source": [
    "# set up crawler\n",
    "\n",
    "# this line of code takes my first webpage and iterates into my defined page range\n",
    "for i in range(0,150): #range of pages to scrape\n",
    "    url= 'https://www.autovillage.co.uk/used-car/page/{}/filter/bodystyle/saloon'.format(i)\n",
    "    html= urlopen(url)\n",
    "    autovillage_page= html.read()\n",
    "    soup= BeautifulSoup(autovillage_page, \"html.parser\")\n",
    "    \n",
    "    # Define my containers so I can reference them in below loops\n",
    "    container= page_soup.findAll(\"div\", {\"class\":\"ucatid20\"})\n",
    "    container2= page_soup.findAll(\"div\", {\"class\":\"avprice\"})\n",
    "    \n",
    "    # iterate into my price container\n",
    "    for item in container2:\n",
    "        # create price feature\n",
    "        price.append(item.text)\n",
    "        \n",
    "    # iterate into my other features container   \n",
    "    for item in range(0,len(container)):\n",
    "    \n",
    "        #year, make, and model\n",
    "        car_names= container[item].div.findAll(\"div\", {\"class\":\"item\"})[0]\n",
    "        year_make_model.append(car_names.get_text().strip())\n",
    "    \n",
    "        #engine size and transmission type\n",
    "        tran = container[item].div.span\n",
    "        eng_tran.append(tran.get_text())\n",
    "    \n",
    "        # number of doors and car body type\n",
    "        door_bod = container[item].div.findAll(\"div\", {\"class\":\"item\"})[2].span\n",
    "        door_body.append(door_bod.get_text())\n",
    "    \n",
    "        # Car mileage\n",
    "        car_mileage = container[item].div.findAll(\"div\", {\"class\":\"item\"})[3].span\n",
    "        mileage.append(car_mileage)\n",
    "    \n",
    "    "
   ]
  },
  {
   "cell_type": "markdown",
   "metadata": {},
   "source": [
    "Great! the webcrawler worked! Now lets form a data frame out of the arrays."
   ]
  },
  {
   "cell_type": "markdown",
   "metadata": {},
   "source": [
    "# Create the Data Frame"
   ]
  },
  {
   "cell_type": "code",
   "execution_count": 27,
   "metadata": {},
   "outputs": [],
   "source": [
    "# Create the DataFrame\n",
    "car_df_main = pd.DataFrame({'price':price, \n",
    "                       'mileage':mileage, \n",
    "                       'door/body':door_body, \n",
    "                       'eng/tran':eng_tran, \n",
    "                       'year/make/model':year_make_model})\n"
   ]
  },
  {
   "cell_type": "code",
   "execution_count": 28,
   "metadata": {},
   "outputs": [
    {
     "data": {
      "text/html": [
       "<div>\n",
       "<style scoped>\n",
       "    .dataframe tbody tr th:only-of-type {\n",
       "        vertical-align: middle;\n",
       "    }\n",
       "\n",
       "    .dataframe tbody tr th {\n",
       "        vertical-align: top;\n",
       "    }\n",
       "\n",
       "    .dataframe thead th {\n",
       "        text-align: right;\n",
       "    }\n",
       "</style>\n",
       "<table border=\"1\" class=\"dataframe\">\n",
       "  <thead>\n",
       "    <tr style=\"text-align: right;\">\n",
       "      <th></th>\n",
       "      <th>price</th>\n",
       "      <th>mileage</th>\n",
       "      <th>door/body</th>\n",
       "      <th>eng/tran</th>\n",
       "      <th>year/make/model</th>\n",
       "    </tr>\n",
       "  </thead>\n",
       "  <tbody>\n",
       "    <tr>\n",
       "      <th>0</th>\n",
       "      <td>£25,998</td>\n",
       "      <td>[ 19,479 miles]</td>\n",
       "      <td>4 Door Saloon</td>\n",
       "      <td>1995cc Automatic</td>\n",
       "      <td>2018 BMW 5 Series</td>\n",
       "    </tr>\n",
       "    <tr>\n",
       "      <th>1</th>\n",
       "      <td>£28,450</td>\n",
       "      <td>[ 36,000 miles]</td>\n",
       "      <td>4 Door Saloon</td>\n",
       "      <td>4395cc Automatic</td>\n",
       "      <td>2016 BMW M5</td>\n",
       "    </tr>\n",
       "    <tr>\n",
       "      <th>2</th>\n",
       "      <td>£11,995</td>\n",
       "      <td>[ 63,910 miles]</td>\n",
       "      <td>4 Door Saloon</td>\n",
       "      <td>2179cc Automatic</td>\n",
       "      <td>2014 Jaguar XF</td>\n",
       "    </tr>\n",
       "    <tr>\n",
       "      <th>3</th>\n",
       "      <td>£17,999</td>\n",
       "      <td>[ 13,503 miles]</td>\n",
       "      <td>4 Door Saloon</td>\n",
       "      <td>1995cc Manual</td>\n",
       "      <td>2018 BMW 3 Series</td>\n",
       "    </tr>\n",
       "    <tr>\n",
       "      <th>4</th>\n",
       "      <td>£10,495</td>\n",
       "      <td>[ 61,000 miles]</td>\n",
       "      <td>4 Door Saloon</td>\n",
       "      <td>1968cc Manual</td>\n",
       "      <td>2016 Volkswagen Passat</td>\n",
       "    </tr>\n",
       "    <tr>\n",
       "      <th>...</th>\n",
       "      <td>...</td>\n",
       "      <td>...</td>\n",
       "      <td>...</td>\n",
       "      <td>...</td>\n",
       "      <td>...</td>\n",
       "    </tr>\n",
       "    <tr>\n",
       "      <th>1505</th>\n",
       "      <td>£26,295</td>\n",
       "      <td>[ 10 miles]</td>\n",
       "      <td>4 Door Saloon</td>\n",
       "      <td>2191cc Manual</td>\n",
       "      <td>2019 Mazda 6</td>\n",
       "    </tr>\n",
       "    <tr>\n",
       "      <th>1506</th>\n",
       "      <td>£1,995</td>\n",
       "      <td>[ 110,000 miles]</td>\n",
       "      <td>4 Door Saloon</td>\n",
       "      <td>1910cc Manual</td>\n",
       "      <td>2009 Saab 9-5</td>\n",
       "    </tr>\n",
       "    <tr>\n",
       "      <th>1507</th>\n",
       "      <td>£36,090</td>\n",
       "      <td>None</td>\n",
       "      <td>4 Door Saloon</td>\n",
       "      <td>1998cc Automatic</td>\n",
       "      <td>2019 BMW 3 Series</td>\n",
       "    </tr>\n",
       "    <tr>\n",
       "      <th>1508</th>\n",
       "      <td>£7,000</td>\n",
       "      <td>[ 98,000 miles]</td>\n",
       "      <td>4 Door Saloon</td>\n",
       "      <td>2987cc Automatic</td>\n",
       "      <td>2011 Mercedes-Benz C Class</td>\n",
       "    </tr>\n",
       "    <tr>\n",
       "      <th>1509</th>\n",
       "      <td>£27,490</td>\n",
       "      <td>[ 8,900 miles]</td>\n",
       "      <td>4 Door Saloon</td>\n",
       "      <td>2000cc Automatic</td>\n",
       "      <td>2019 Audi A4</td>\n",
       "    </tr>\n",
       "  </tbody>\n",
       "</table>\n",
       "<p>1510 rows × 5 columns</p>\n",
       "</div>"
      ],
      "text/plain": [
       "        price           mileage       door/body           eng/tran  \\\n",
       "0     £25,998   [ 19,479 miles]   4 Door Saloon  1995cc Automatic    \n",
       "1     £28,450   [ 36,000 miles]   4 Door Saloon  4395cc Automatic    \n",
       "2     £11,995   [ 63,910 miles]   4 Door Saloon  2179cc Automatic    \n",
       "3     £17,999   [ 13,503 miles]   4 Door Saloon     1995cc Manual    \n",
       "4     £10,495   [ 61,000 miles]   4 Door Saloon     1968cc Manual    \n",
       "...       ...               ...             ...                ...   \n",
       "1505  £26,295       [ 10 miles]   4 Door Saloon     2191cc Manual    \n",
       "1506   £1,995  [ 110,000 miles]   4 Door Saloon     1910cc Manual    \n",
       "1507  £36,090              None   4 Door Saloon  1998cc Automatic    \n",
       "1508   £7,000   [ 98,000 miles]   4 Door Saloon  2987cc Automatic    \n",
       "1509  £27,490    [ 8,900 miles]   4 Door Saloon  2000cc Automatic    \n",
       "\n",
       "                 year/make/model  \n",
       "0              2018 BMW 5 Series  \n",
       "1                    2016 BMW M5  \n",
       "2                 2014 Jaguar XF  \n",
       "3              2018 BMW 3 Series  \n",
       "4         2016 Volkswagen Passat  \n",
       "...                          ...  \n",
       "1505                2019 Mazda 6  \n",
       "1506               2009 Saab 9-5  \n",
       "1507           2019 BMW 3 Series  \n",
       "1508  2011 Mercedes-Benz C Class  \n",
       "1509                2019 Audi A4  \n",
       "\n",
       "[1510 rows x 5 columns]"
      ]
     },
     "execution_count": 28,
     "metadata": {},
     "output_type": "execute_result"
    }
   ],
   "source": [
    "car_df_main"
   ]
  },
  {
   "cell_type": "markdown",
   "metadata": {},
   "source": [
    "It worked! we created our data frame and we can run this script as many times we want to retrieve more cars in the future. This website refreshes it's cars order and I didn't set a random seed so I am unable to replicate this exact dataframe more than once."
   ]
  },
  {
   "cell_type": "markdown",
   "metadata": {},
   "source": [
    "## Main Data Frame Save\n",
    "I will save my main created dataframe as a csv file in my raw data folder. I will then load it into my [Data Cleaning](https://github.com/PaulWill92/cars/blob/master/Jupyter-Notebooks/02-Data_Cleaning.ipynb) notebook and proceed to clean it."
   ]
  },
  {
   "cell_type": "code",
   "execution_count": 31,
   "metadata": {},
   "outputs": [],
   "source": [
    "# Create our save directory path\n",
    "car_save_path = '../Raw-Data/new-saloon.csv'\n",
    "car_df_main.to_csv(car_save_path) # running this cell multiple times overwrites saves"
   ]
  },
  {
   "cell_type": "code",
   "execution_count": null,
   "metadata": {},
   "outputs": [],
   "source": []
  }
 ],
 "metadata": {
  "kernelspec": {
   "display_name": "Python 3",
   "language": "python",
   "name": "python3"
  },
  "language_info": {
   "codemirror_mode": {
    "name": "ipython",
    "version": 3
   },
   "file_extension": ".py",
   "mimetype": "text/x-python",
   "name": "python",
   "nbconvert_exporter": "python",
   "pygments_lexer": "ipython3",
   "version": "3.7.4"
  },
  "toc-autonumbering": false,
  "toc-showcode": true,
  "toc-showmarkdowntxt": true
 },
 "nbformat": 4,
 "nbformat_minor": 4
}
