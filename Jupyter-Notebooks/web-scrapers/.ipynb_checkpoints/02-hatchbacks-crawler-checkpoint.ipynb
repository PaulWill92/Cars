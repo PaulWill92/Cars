{
 "cells": [
  {
   "cell_type": "markdown",
   "metadata": {},
   "source": [
    "# Hatchbacks"
   ]
  },
  {
   "cell_type": "markdown",
   "metadata": {},
   "source": [
    "### Imports"
   ]
  },
  {
   "cell_type": "code",
   "execution_count": 1,
   "metadata": {},
   "outputs": [],
   "source": [
    "import pandas as pd\n",
    "import numpy as np\n",
    "\n",
    "# Webscraping libraries\n",
    "from urllib.request import urlopen # url inspector\n",
    "from bs4 import BeautifulSoup\n",
    "import re\n",
    "from selenium import webdriver # connects to chrome browser\n",
    "import warnings\n",
    "warnings.filterwarnings('ignore')\n",
    "\n",
    "# Web crawler imports\n",
    "import requests\n",
    "from requests import get\n",
    "\n",
    "# Web crawlers random seeds/time delays\n",
    "from time import sleep\n",
    "from random import randint\n",
    "\n",
    "# image viewer for cell outputs\n",
    "from IPython.display import display, Markdown, Latex, Image, display_html, HTML"
   ]
  },
  {
   "cell_type": "markdown",
   "metadata": {},
   "source": [
    "## View Cars"
   ]
  },
  {
   "cell_type": "code",
   "execution_count": 2,
   "metadata": {},
   "outputs": [],
   "source": [
    "body_type=[\"Saloon\", \n",
    "           \"Hatchback\", \n",
    "           \"Estate\", \n",
    "           \"Coupe\", \n",
    "           \"Convertible\", \n",
    "           \"4x4\", \n",
    "           \"MPV\"]"
   ]
  },
  {
   "cell_type": "code",
   "execution_count": 3,
   "metadata": {},
   "outputs": [],
   "source": [
    "my_url = 'https://www.autovillage.co.uk/used-car/filter/bodystyle/hatchback'\n",
    "my_client = urlopen(my_url) # open up a connection to the webpage\n",
    "image_viewer =my_client.read() # reads all the html from the webpage"
   ]
  },
  {
   "cell_type": "code",
   "execution_count": 4,
   "metadata": {},
   "outputs": [],
   "source": [
    "image_soup = BeautifulSoup(image_viewer, \"html.parser\")\n",
    "container_image = image_soup.findAll(\"div\", {\"class\":\"ucatid20\"}) # found the ucatid20 tag from inspecting webpage and selecting the entire container\n"
   ]
  },
  {
   "cell_type": "code",
   "execution_count": 5,
   "metadata": {},
   "outputs": [
    {
     "data": {
      "text/html": [
       "<img alt=\"Hyundai Ioniq\" src=\"https://cdn-csnetworkstock.s3.amazonaws.com/hyundai/ioniq/22390/33984656/hyundai_ioniq_1_pl.jpg\"/>"
      ],
      "text/plain": [
       "<IPython.core.display.HTML object>"
      ]
     },
     "metadata": {},
     "output_type": "display_data"
    },
    {
     "data": {
      "text/html": [
       "<img alt=\"Ford Focus\" src=\"https://cdn-csnetworkstock.s3.amazonaws.com/ford/focus/23760/31719442/ford_focus_1_pl.jpg\"/>"
      ],
      "text/plain": [
       "<IPython.core.display.HTML object>"
      ]
     },
     "metadata": {},
     "output_type": "display_data"
    },
    {
     "data": {
      "text/html": [
       "<img alt=\"Mercedes-Benz A Class\" src=\"https://cdn-csnetworkstock.s3.amazonaws.com/mercedes-benz/a-class/36733/34038445/mercedes-benz_a-class_1_pl.jpg\"/>"
      ],
      "text/plain": [
       "<IPython.core.display.HTML object>"
      ]
     },
     "metadata": {},
     "output_type": "display_data"
    },
    {
     "data": {
      "text/html": [
       "<img alt=\"Seat Leon\" src=\"https://cdn-csnetworkstock.s3.amazonaws.com/seat/leon/24409/32919655/seat_leon_1_pl.jpg\"/>"
      ],
      "text/plain": [
       "<IPython.core.display.HTML object>"
      ]
     },
     "metadata": {},
     "output_type": "display_data"
    },
    {
     "data": {
      "text/html": [
       "<img alt=\"Ford Mondeo\" src=\"https://cdn-csnetworkstock.s3.amazonaws.com/ford/mondeo/55838/34052262/ford_mondeo_1_pl.jpg\"/>"
      ],
      "text/plain": [
       "<IPython.core.display.HTML object>"
      ]
     },
     "metadata": {},
     "output_type": "display_data"
    },
    {
     "data": {
      "text/html": [
       "<img alt=\"Peugeot 208\" src=\"https://cdn-csnetworkstock.s3.amazonaws.com/peugeot/208/22491/34092234/peugeot_208_1_pl.jpg\"/>"
      ],
      "text/plain": [
       "<IPython.core.display.HTML object>"
      ]
     },
     "metadata": {},
     "output_type": "display_data"
    },
    {
     "data": {
      "text/html": [
       "<img alt=\"Ford Fiesta\" src=\"https://cdn-csnetworkstock.s3.amazonaws.com/ford/fiesta/23808/34046093/ford_fiesta_1_pl.jpg\"/>"
      ],
      "text/plain": [
       "<IPython.core.display.HTML object>"
      ]
     },
     "metadata": {},
     "output_type": "display_data"
    },
    {
     "data": {
      "text/html": [
       "<img alt=\"Vauxhall Mokka\" src=\"https://cdn-csnetworkstock.s3.amazonaws.com/vauxhall/mokka/24950/34159840/vauxhall_mokka_1_pl.jpg\"/>"
      ],
      "text/plain": [
       "<IPython.core.display.HTML object>"
      ]
     },
     "metadata": {},
     "output_type": "display_data"
    },
    {
     "data": {
      "text/html": [
       "<img alt=\"Renault Kadjar\" src=\"https://cdn-csnetworkstock.s3.amazonaws.com/renault/kadjar/23744/34173657/renault_kadjar_1_pl.jpg\"/>"
      ],
      "text/plain": [
       "<IPython.core.display.HTML object>"
      ]
     },
     "metadata": {},
     "output_type": "display_data"
    },
    {
     "data": {
      "text/html": [
       "<img alt=\"Peugeot 208\" src=\"https://cdn-csnetworkstock.s3.amazonaws.com/peugeot/208/22412/34213629/peugeot_208_1_pl.jpg\"/>"
      ],
      "text/plain": [
       "<IPython.core.display.HTML object>"
      ]
     },
     "metadata": {},
     "output_type": "display_data"
    }
   ],
   "source": [
    "# Lets view our cars by using a for loop with the image flag we parsed into\n",
    "\n",
    "for item in range(0,len(container_image)):\n",
    "    display(HTML(str(container_image[item].findAll(\"div\", {\"class\":\"mb5\"})[0].img)))\n"
   ]
  },
  {
   "cell_type": "markdown",
   "metadata": {},
   "source": [
    "## Web Crawler"
   ]
  },
  {
   "cell_type": "code",
   "execution_count": 6,
   "metadata": {},
   "outputs": [],
   "source": [
    "# Features\n",
    "price =[] # car price\n",
    "year_make_model =[] # year made, brand name, model\n",
    "eng_tran =[] # engine size and transmission type\n",
    "door_body =[] # number of doors and body style\n",
    "mileage =[] # number of miles on the odometer"
   ]
  },
  {
   "cell_type": "code",
   "execution_count": 7,
   "metadata": {},
   "outputs": [],
   "source": [
    "# set up crawler (150 page test limit) to return 1,500 cars\n",
    "\n",
    "for i in range(0,150): #range of pages to scrape\n",
    "    url= 'https://www.autovillage.co.uk/used-car/page/{}/filter/bodystyle/hatchback'.format(i)\n",
    "    html= urlopen(url)\n",
    "    autovillage_page= html.read()\n",
    "    soup= BeautifulSoup(autovillage_page, \"html.parser\")\n",
    "    \n",
    "    \n",
    "    container= soup.findAll(\"div\", {\"class\":\"ucatid20\"})\n",
    "    container2= soup.findAll(\"div\", {\"class\":\"avprice\"})\n",
    "    \n",
    "    for item in container2:\n",
    "    #price\n",
    "        price.append(item.text)\n",
    "        # web scraper code use soup as conection\n",
    "    for item in range(0,len(container)):\n",
    "    \n",
    "        #year, make, and model\n",
    "        car_names= container[item].div.findAll(\"div\", {\"class\":\"item\"})[0]\n",
    "        year_make_model.append(car_names.get_text().strip())\n",
    "    \n",
    "        #engine size and transmission type\n",
    "        tran = container[item].div.span\n",
    "        eng_tran.append(tran.get_text())\n",
    "    \n",
    "        # number of doors and car body type\n",
    "        door_bod = container[item].div.findAll(\"div\", {\"class\":\"item\"})[2].span\n",
    "        door_body.append(door_bod.get_text())\n",
    "    \n",
    "        # Car mileage\n",
    "        car_mileage = container[item].div.findAll(\"div\", {\"class\":\"item\"})[3].span\n",
    "        mileage.append(car_mileage)"
   ]
  },
  {
   "cell_type": "markdown",
   "metadata": {},
   "source": [
    "## Shape of Features"
   ]
  },
  {
   "cell_type": "code",
   "execution_count": 8,
   "metadata": {},
   "outputs": [
    {
     "name": "stdout",
     "output_type": "stream",
     "text": [
      "Rows in price: 1500\n",
      "Rows in mileage: 1500\n",
      "Rows in door count/body style: 1500\n",
      "Rows in engine size/transmission: 1500\n",
      "Rows in year/make/model: 1500\n"
     ]
    }
   ],
   "source": [
    "# lets count how many cars we have in our features it should be 10\n",
    "print(\"Rows in price:\",len(price))\n",
    "print(\"Rows in mileage:\",len(mileage))\n",
    "print(\"Rows in door count/body style:\",len(door_body))\n",
    "print(\"Rows in engine size/transmission:\",len(eng_tran))\n",
    "print(\"Rows in year/make/model:\",len(year_make_model))"
   ]
  },
  {
   "cell_type": "markdown",
   "metadata": {},
   "source": [
    "## Create Data Frame"
   ]
  },
  {
   "cell_type": "code",
   "execution_count": 9,
   "metadata": {},
   "outputs": [],
   "source": [
    "# Create the DataFrame\n",
    "hatchback_df = pd.DataFrame({'price':price, \n",
    "                       'mileage':mileage, \n",
    "                       'door/body':door_body, \n",
    "                       'eng/tran':eng_tran, \n",
    "                       'year/make/model':year_make_model})"
   ]
  },
  {
   "cell_type": "code",
   "execution_count": 11,
   "metadata": {},
   "outputs": [
    {
     "data": {
      "text/html": [
       "<div>\n",
       "<style scoped>\n",
       "    .dataframe tbody tr th:only-of-type {\n",
       "        vertical-align: middle;\n",
       "    }\n",
       "\n",
       "    .dataframe tbody tr th {\n",
       "        vertical-align: top;\n",
       "    }\n",
       "\n",
       "    .dataframe thead th {\n",
       "        text-align: right;\n",
       "    }\n",
       "</style>\n",
       "<table border=\"1\" class=\"dataframe\">\n",
       "  <thead>\n",
       "    <tr style=\"text-align: right;\">\n",
       "      <th></th>\n",
       "      <th>price</th>\n",
       "      <th>mileage</th>\n",
       "      <th>door/body</th>\n",
       "      <th>eng/tran</th>\n",
       "      <th>year/make/model</th>\n",
       "    </tr>\n",
       "  </thead>\n",
       "  <tbody>\n",
       "    <tr>\n",
       "      <th>0</th>\n",
       "      <td>£16,498</td>\n",
       "      <td>[ 16,046 miles]</td>\n",
       "      <td>5 Door Hatchback</td>\n",
       "      <td>1580cc Automatic</td>\n",
       "      <td>2018 Hyundai Ioniq</td>\n",
       "    </tr>\n",
       "    <tr>\n",
       "      <th>1</th>\n",
       "      <td>£14,370</td>\n",
       "      <td>[ 7,024 miles]</td>\n",
       "      <td>5 Door Hatchback</td>\n",
       "      <td>1499cc Manual</td>\n",
       "      <td>2018 Ford Focus</td>\n",
       "    </tr>\n",
       "    <tr>\n",
       "      <th>2</th>\n",
       "      <td>£15,790</td>\n",
       "      <td>[ 26,993 miles]</td>\n",
       "      <td>5 Door Hatchback</td>\n",
       "      <td>1461cc Manual</td>\n",
       "      <td>2017 Mercedes-Benz A Class</td>\n",
       "    </tr>\n",
       "    <tr>\n",
       "      <th>3</th>\n",
       "      <td>£13,999</td>\n",
       "      <td>[ 6,003 miles]</td>\n",
       "      <td>5 Door Hatchback</td>\n",
       "      <td>1498cc Manual</td>\n",
       "      <td>2019 Seat Leon</td>\n",
       "    </tr>\n",
       "    <tr>\n",
       "      <th>4</th>\n",
       "      <td>£5,972</td>\n",
       "      <td>[ 79,800 miles]</td>\n",
       "      <td>5 Door Hatchback</td>\n",
       "      <td>1997cc Manual</td>\n",
       "      <td>2013 Ford Mondeo</td>\n",
       "    </tr>\n",
       "    <tr>\n",
       "      <th>...</th>\n",
       "      <td>...</td>\n",
       "      <td>...</td>\n",
       "      <td>...</td>\n",
       "      <td>...</td>\n",
       "      <td>...</td>\n",
       "    </tr>\n",
       "    <tr>\n",
       "      <th>1495</th>\n",
       "      <td>£15,800</td>\n",
       "      <td>[ 14,003 miles]</td>\n",
       "      <td>5 Door Hatchback</td>\n",
       "      <td>1000cc Manual</td>\n",
       "      <td>2019 Seat Arona</td>\n",
       "    </tr>\n",
       "    <tr>\n",
       "      <th>1496</th>\n",
       "      <td>£3,500</td>\n",
       "      <td>[ 101,254 miles]</td>\n",
       "      <td>5 Door Hatchback</td>\n",
       "      <td>1598cc Manual</td>\n",
       "      <td>2011 Toyota Auris</td>\n",
       "    </tr>\n",
       "    <tr>\n",
       "      <th>1497</th>\n",
       "      <td>£11,799</td>\n",
       "      <td>[ 51,875 miles]</td>\n",
       "      <td>3 Door Hatchback</td>\n",
       "      <td>1395cc Automatic</td>\n",
       "      <td>2015 Audi A1</td>\n",
       "    </tr>\n",
       "    <tr>\n",
       "      <th>1498</th>\n",
       "      <td>£7,495</td>\n",
       "      <td>[ 69,000 miles]</td>\n",
       "      <td>5 Door Hatchback</td>\n",
       "      <td>1598cc Manual</td>\n",
       "      <td>2011 Nissan Qashqai+2</td>\n",
       "    </tr>\n",
       "    <tr>\n",
       "      <th>1499</th>\n",
       "      <td>£23,298</td>\n",
       "      <td>[ 1,218 miles]</td>\n",
       "      <td>5 Door Hatchback</td>\n",
       "      <td>1498cc Automatic</td>\n",
       "      <td>2019 Volkswagen Arteon</td>\n",
       "    </tr>\n",
       "  </tbody>\n",
       "</table>\n",
       "<p>1500 rows × 5 columns</p>\n",
       "</div>"
      ],
      "text/plain": [
       "        price           mileage          door/body           eng/tran  \\\n",
       "0     £16,498   [ 16,046 miles]   5 Door Hatchback  1580cc Automatic    \n",
       "1     £14,370    [ 7,024 miles]   5 Door Hatchback     1499cc Manual    \n",
       "2     £15,790   [ 26,993 miles]   5 Door Hatchback     1461cc Manual    \n",
       "3     £13,999    [ 6,003 miles]   5 Door Hatchback     1498cc Manual    \n",
       "4      £5,972   [ 79,800 miles]   5 Door Hatchback     1997cc Manual    \n",
       "...       ...               ...                ...                ...   \n",
       "1495  £15,800   [ 14,003 miles]   5 Door Hatchback     1000cc Manual    \n",
       "1496   £3,500  [ 101,254 miles]   5 Door Hatchback     1598cc Manual    \n",
       "1497  £11,799   [ 51,875 miles]   3 Door Hatchback  1395cc Automatic    \n",
       "1498   £7,495   [ 69,000 miles]   5 Door Hatchback     1598cc Manual    \n",
       "1499  £23,298    [ 1,218 miles]   5 Door Hatchback  1498cc Automatic    \n",
       "\n",
       "                 year/make/model  \n",
       "0             2018 Hyundai Ioniq  \n",
       "1                2018 Ford Focus  \n",
       "2     2017 Mercedes-Benz A Class  \n",
       "3                 2019 Seat Leon  \n",
       "4               2013 Ford Mondeo  \n",
       "...                          ...  \n",
       "1495             2019 Seat Arona  \n",
       "1496           2011 Toyota Auris  \n",
       "1497                2015 Audi A1  \n",
       "1498       2011 Nissan Qashqai+2  \n",
       "1499      2019 Volkswagen Arteon  \n",
       "\n",
       "[1500 rows x 5 columns]"
      ]
     },
     "execution_count": 11,
     "metadata": {},
     "output_type": "execute_result"
    }
   ],
   "source": [
    "hatchback_df"
   ]
  },
  {
   "cell_type": "markdown",
   "metadata": {},
   "source": [
    "## Clean the Data Frame"
   ]
  },
  {
   "cell_type": "markdown",
   "metadata": {},
   "source": [
    "I can use `str.extract()` ,`str.replace()` . and `.astype(int)` to clean my data."
   ]
  },
  {
   "cell_type": "code",
   "execution_count": null,
   "metadata": {},
   "outputs": [],
   "source": []
  },
  {
   "cell_type": "markdown",
   "metadata": {},
   "source": [
    "## Save the Data Frame"
   ]
  },
  {
   "cell_type": "code",
   "execution_count": 12,
   "metadata": {},
   "outputs": [],
   "source": [
    "# Create our save directory path\n",
    "hatchback_save_path = '../../Raw-Data/hatchback.csv'\n",
    "hatchback_df.to_csv(hatchback_save_path) # running this cell multiple times overwrites save"
   ]
  },
  {
   "cell_type": "code",
   "execution_count": null,
   "metadata": {},
   "outputs": [],
   "source": []
  }
 ],
 "metadata": {
  "kernelspec": {
   "display_name": "Python 3",
   "language": "python",
   "name": "python3"
  },
  "language_info": {
   "codemirror_mode": {
    "name": "ipython",
    "version": 3
   },
   "file_extension": ".py",
   "mimetype": "text/x-python",
   "name": "python",
   "nbconvert_exporter": "python",
   "pygments_lexer": "ipython3",
   "version": "3.7.4"
  }
 },
 "nbformat": 4,
 "nbformat_minor": 4
}
