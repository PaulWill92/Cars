{
 "cells": [
  {
   "cell_type": "markdown",
   "metadata": {},
   "source": [
    "# Web crawler"
   ]
  },
  {
   "cell_type": "code",
   "execution_count": 1,
   "metadata": {},
   "outputs": [],
   "source": [
    "import pandas as pd\n",
    "import numpy as np\n",
    "\n",
    "# Webscraping libraries\n",
    "from urllib.request import urlopen # url inspector\n",
    "from bs4 import BeautifulSoup\n",
    "import re\n",
    "\n",
    "\n",
    "\n",
    "\n",
    "\n",
    "\n"
   ]
  },
  {
   "cell_type": "markdown",
   "metadata": {},
   "source": [
    "## Set up the crawler"
   ]
  },
  {
   "cell_type": "code",
   "execution_count": 154,
   "metadata": {},
   "outputs": [],
   "source": [
    "def web_crawler():\n",
    "  \n",
    "    print(\"\"\"\n",
    "    Auto Village Webscraper!\n",
    "    \n",
    "    A car web scraping program created by Paul Aleksis Williams.\n",
    "    \n",
    "    Program description:\n",
    "    \n",
    "    \n",
    "    This programs scrapes cars listed on the autovillage.co.uk website, cleans the\n",
    "    entries, drops duplicated entries, drops entries with missing values, and\n",
    "    returns a data frame that contains 1 target variable and 8 features.\n",
    "    \n",
    "    Program inputs:\n",
    "    \n",
    "    \n",
    "    1. Input the body style of cars you want to scrape ot leave empty for all.\n",
    "       options: saloon, hatchback, 4x4, estate, coupe, convertible, mpv. For\n",
    "       multiple styles seperate input with a comma.\n",
    "    \n",
    "    2. Input the number of pages to scrape there are 10 cars per page. If left\n",
    "       blank, it will scrape 1 page per body style.\n",
    "    \n",
    "    3. Input a name for the file to save it as a csv in the current directory.\n",
    "       If left blank, It will not save but you can set it as a variable to view\n",
    "       the table.\n",
    "       \n",
    "       \n",
    "    Program output:\n",
    "    \n",
    "    \n",
    "    The function returns a cleaned data frame of cars scraped from autovillage.co.uk\n",
    "    dropping all the missing values within the websites interface, and removing any\n",
    "    duplicated cars.\n",
    "    \n",
    "    \n",
    "    Program save feature:\n",
    "    \n",
    "    \n",
    "    You can leave the save input empty and the file will not be saved.\n",
    "    \n",
    "    You can set a variable for this function in jupyter notebooks and manipulate\n",
    "    the created pandas object as normal.\n",
    "    \n",
    "    \n",
    "    \"\"\")\n",
    "    \n",
    "    \n",
    "    \n",
    "    # Features\n",
    "    price =[] # car price\n",
    "    year_make_model =[] # year made, brand name, model\n",
    "    eng_tran =[] # engine size and transmission type\n",
    "    door_body =[] # number of doors and body style\n",
    "    mileage =[] # number of miles on the odometer\n",
    "    \n",
    "    # body style available inputs\n",
    "    all_styles = [\"saloon\", \"hatchback\", \"4x4\", \"estate\", \"coupe\", \"convertible\", \"mpv\"]\n",
    "    \n",
    "    # take user input of body style. If left blank all body inputs will be taken\n",
    "    print(\"\\n\")\n",
    "    print(\"Inputs:\")\n",
    "    print(\"------------------------------------------------------------------------------------------------------\")\n",
    "    input_body = input(\"Enter a body style (or leave blank for all): \")\n",
    "    input_body = input_body.lower().replace(\",\", \"\")\n",
    "    \n",
    "    if input_body==\"\":\n",
    "        bodystyle = all_styles\n",
    "    else: \n",
    "        bodystyle = list(input_body.split())\n",
    "    \n",
    "    \n",
    "    # amount of pages input\n",
    "    input_pages = input(\"Enter the amount of pages you want to scrape (or leave blank for 1): \")\n",
    "    \n",
    "    if input_pages ==\"\":\n",
    "        pages= [1]\n",
    "    else:\n",
    "        pages = range(0, int(input_pages)+1)\n",
    "\n",
    "    \n",
    "    for i in pages:\n",
    "        for p in bodystyle:\n",
    "            url= 'https://www.autovillage.co.uk/used-car/page/{}/filter/bodystyle/{}'.format(i, p)\n",
    "            html= urlopen(url)\n",
    "            autovillage_page= html.read()\n",
    "            soup= BeautifulSoup(autovillage_page, \"html.parser\")\n",
    "\n",
    "            # parsed into the container that holds information about the cars\n",
    "            container= soup.findAll(\"div\", {\"class\":\"ucatid20\"})\n",
    "            # parsed to be price only\n",
    "            container2= soup.findAll(\"div\", {\"class\":\"avprice\"})\n",
    "\n",
    "            for item in container2:\n",
    "                #price\n",
    "                price.append(item.text)\n",
    "\n",
    "            for item in range(0,len(container)):\n",
    "\n",
    "                #year, make, and model\n",
    "                car_names= container[item].div.findAll(\"div\", {\"class\":\"item\"})[0]\n",
    "                year_make_model.append(car_names.get_text().strip())\n",
    "\n",
    "                #engine size and transmission type\n",
    "                tran = container[item].div.span\n",
    "                eng_tran.append(tran.get_text())\n",
    "\n",
    "                # number of doors and car body type\n",
    "                door_bod = container[item].div.findAll(\"div\", {\"class\":\"item\"})[2].span\n",
    "                door_body.append(door_bod.get_text())\n",
    "\n",
    "                # Car mileage\n",
    "                car_mileage = container[item].div.findAll(\"div\", {\"class\":\"item\"})[3].span \n",
    "                # fix null objects where certain features were not entered\n",
    "                if car_mileage is None:\n",
    "                    mileage.append(\"\")\n",
    "                else:\n",
    "                    for item in car_mileage:\n",
    "                           mileage.append(item)\n",
    "\n",
    "\n",
    "        # make the df\n",
    "        df = pd.DataFrame({'price':price, \n",
    "                           'mileage':mileage, \n",
    "                           'door/body':door_body, \n",
    "                           'eng/tran':eng_tran, \n",
    "                           'year/make/model':year_make_model})        \n",
    "         \n",
    "    # clean the df\n",
    "    # remove my pound signs and commas from the price column\n",
    "\n",
    "    df['price'] = df['price'].str.replace(\"£|,\",\"\")\n",
    "\n",
    "    # remove span html flags from mileage\n",
    "\n",
    "    df['mileage'] = df['mileage'].str.replace(\"miles|,\", \"\")\n",
    "\n",
    "    \n",
    "    # remove door from door/body\n",
    "    df['door/body'] = df['door/body'].str.replace(\"Door\", \"\")\n",
    "\n",
    "    # remove cc from eng (may convert this to litres later)\n",
    "    df['eng/tran'] = df['eng/tran'].str.replace(\"cc\", \"\")\n",
    "\n",
    "    # remove class from mercedes so that it can follow a year-model-class format like the other cars do\n",
    "    df['year/make/model'] = df['year/make/model'].str.replace(\"Class\", \"\")\n",
    "    df['year/make/model'] = df['year/make/model'].str.replace(\"Land Rover\", \"Land-Rover\")\n",
    "    df['year/make/model'] = df['year/make/model'].str.replace(\"Range Rover Sport\", \"Range-Rover-Sport\")\n",
    "    df['year/make/model'] = df['year/make/model'].str.replace(\"Discovery Sport\", \"Discovery-Sport\")\n",
    "    df['year/make/model'] = df['year/make/model'].str.replace(\"Aston Martin\", \"Aston-Martin\")\n",
    "    df['year/make/model'] = df['year/make/model'].str.replace(\"Alfa Romeo\", \"Alfa-Romeo\")\n",
    "    df['year/make/model'] = df['year/make/model'].str.replace(\"Corvette\", \"Chevrolet\")\n",
    "    df['year/make/model'] = df['year/make/model'].str.replace(\"C7\", \"Corvette-C7\")\n",
    "    # split door count and body style\n",
    "\n",
    "    df[['door_count','body_style']]= df['door/body'].str.split(expand=True)\n",
    "\n",
    "    # split engine size and transmission\n",
    "\n",
    "    df[['engine_size(cc)', 'transmission']] = df['eng/tran'].str.split(expand=True)\n",
    "\n",
    "    # split year , make, and model into seperate columns\n",
    "\n",
    "    df['year'] = df['year/make/model'].str.split(' ', expand=True)[0]\n",
    "    df['brand'] = df['year/make/model'].str.split(' ', expand=True)[1]\n",
    "    df['model'] = df['year/make/model'].str.split(' ', expand=True)[2]\n",
    "\n",
    "    # drop the labels that were split and rename the old ones to include measurement unit\n",
    "    df.drop(labels=['door/body','eng/tran', 'year/make/model'], axis=1, inplace=True)\n",
    "    df.rename(columns={\"mileage\": \"mileage(mi)\", \"price\":\"price(£)\"}, inplace=True)\n",
    "    \n",
    "    # convert strings to integers\n",
    "    df['price(£)'] = pd.to_numeric(df['price(£)'], errors='coerce')\n",
    "    df['mileage(mi)'] = pd.to_numeric(df['mileage(mi)'], errors='coerce')\n",
    "    df['door_count'] = pd.to_numeric(df['door_count'], errors='coerce')\n",
    "    df['engine_size(cc)'] = pd.to_numeric(df['engine_size(cc)'], errors='coerce')\n",
    "    df['year'] = pd.to_numeric(df['year'], errors='coerce')\n",
    "    \n",
    "    \n",
    "    # Drop nulls\n",
    "    df.dropna(axis=0, inplace=True)\n",
    "    \n",
    "    \n",
    "    # Drop duplicates\n",
    "    df.drop_duplicates(keep='first', inplace=True)\n",
    "    \n",
    "    # Count how many cars got scraped\n",
    "    print(\"\\n\")\n",
    "    print(\"Output:\")\n",
    "    print(\"------------------------------------------------------------------------------------------------------\")\n",
    "    print(\"Done! you scraped: \", len(df), \"cars!\")\n",
    "    \n",
    "    # Create the save with user defined name. If left blank the save wont happen\n",
    "    input_save = input(\"Name to save file as (leave blank to not save): \")\n",
    "    save_file_name = str(input_save)\n",
    "\n",
    "    file_path = save_file_name+\".csv\"\n",
    "    result = df.to_csv(file_path)\n",
    "    \n",
    "    print(\"------------------------------------------------------------------------------------------------------\")\n",
    "    if save_file_name == \"\":\n",
    "        print(\"File Not Saved!\")\n",
    "    else:\n",
    "        print(\"File saved as {}\".format(save_file_name+\".csv\"), \"in the current directory!\")\n",
    "    \n",
    "    return df"
   ]
  },
  {
   "cell_type": "markdown",
   "metadata": {},
   "source": [
    "## Test it:"
   ]
  },
  {
   "cell_type": "code",
   "execution_count": 153,
   "metadata": {},
   "outputs": [
    {
     "name": "stdout",
     "output_type": "stream",
     "text": [
      "\n",
      "    Auto Village Webscraper!\n",
      "    \n",
      "    A car web scraping program created by Paul Aleksis Williams.\n",
      "    \n",
      "    Program description:\n",
      "    \n",
      "    \n",
      "    This programs scrapes cars listed on the autovillage.co.uk website, cleans the\n",
      "    entries, drops duplicated entries, drops entries with missing values, and\n",
      "    returns a data frame that contains 1 target variable and 8 features.\n",
      "    \n",
      "    Program inputs:\n",
      "    \n",
      "    \n",
      "    1. Input the body style of cars you want to scrape ot leave empty for all.\n",
      "       options: saloon, hatchback, 4x4, estate, coupe, convertible, mpv. For\n",
      "       multiple styles seperate input with a comma.\n",
      "    \n",
      "    2. Input the number of pages to scrape there are 10 cars per page. If left\n",
      "       blank, it will scrape 1 page per body style.\n",
      "    \n",
      "    3. Input a name for the file to save it as a csv in the current directory.\n",
      "       If left blank, It will not save but you can set it as a variable to view\n",
      "       the table.\n",
      "       \n",
      "       \n",
      "    Program output:\n",
      "    \n",
      "    \n",
      "    The function returns a cleaned data frame of cars scraped from autovillage.co.uk\n",
      "    dropping all the missing values within the websites interface, and removing any\n",
      "    duplicated cars.\n",
      "    \n",
      "    \n",
      "    Program save feature:\n",
      "    \n",
      "    \n",
      "    You can leave the save input empty and the file will not be saved.\n",
      "    \n",
      "    You can set a variable for this function in jupyter notebooks and manipulate\n",
      "    the created pandas object as normal.\n",
      "    \n",
      "    \n",
      "    \n",
      "------------------------------------------------------------------------------------------------------\n",
      "Inputs:\n",
      "------------------------------------------------------------------------------------------------------\n"
     ]
    },
    {
     "name": "stdin",
     "output_type": "stream",
     "text": [
      "Enter a body style (or leave blank for all):  \n",
      "Enter the amount of pages you want to scrape (or leave blank for 1):  \n"
     ]
    },
    {
     "name": "stdout",
     "output_type": "stream",
     "text": [
      "------------------------------------------------------------------------------------------------------\n",
      "Output:\n",
      "------------------------------------------------------------------------------------------------------\n",
      "Done! you scraped:  68 cars!\n"
     ]
    },
    {
     "name": "stdin",
     "output_type": "stream",
     "text": [
      "Name to save file as (leave blank to not save):  \n"
     ]
    },
    {
     "name": "stdout",
     "output_type": "stream",
     "text": [
      "------------------------------------------------------------------------------------------------------\n",
      "File Not Saved!\n"
     ]
    }
   ],
   "source": [
    "df1 = web_crawler()"
   ]
  },
  {
   "cell_type": "code",
   "execution_count": 147,
   "metadata": {},
   "outputs": [
    {
     "data": {
      "text/html": [
       "<div>\n",
       "<style scoped>\n",
       "    .dataframe tbody tr th:only-of-type {\n",
       "        vertical-align: middle;\n",
       "    }\n",
       "\n",
       "    .dataframe tbody tr th {\n",
       "        vertical-align: top;\n",
       "    }\n",
       "\n",
       "    .dataframe thead th {\n",
       "        text-align: right;\n",
       "    }\n",
       "</style>\n",
       "<table border=\"1\" class=\"dataframe\">\n",
       "  <thead>\n",
       "    <tr style=\"text-align: right;\">\n",
       "      <th></th>\n",
       "      <th>price(£)</th>\n",
       "      <th>mileage(mi)</th>\n",
       "      <th>door_count</th>\n",
       "      <th>body_style</th>\n",
       "      <th>engine_size(cc)</th>\n",
       "      <th>transmission</th>\n",
       "      <th>year</th>\n",
       "      <th>brand</th>\n",
       "      <th>model</th>\n",
       "    </tr>\n",
       "  </thead>\n",
       "  <tbody>\n",
       "    <tr>\n",
       "      <th>0</th>\n",
       "      <td>8995</td>\n",
       "      <td>55000</td>\n",
       "      <td>4.0</td>\n",
       "      <td>Saloon</td>\n",
       "      <td>1595</td>\n",
       "      <td>Manual</td>\n",
       "      <td>2013.0</td>\n",
       "      <td>Mercedes-Benz</td>\n",
       "      <td>C</td>\n",
       "    </tr>\n",
       "    <tr>\n",
       "      <th>1</th>\n",
       "      <td>11500</td>\n",
       "      <td>16296</td>\n",
       "      <td>4.0</td>\n",
       "      <td>Saloon</td>\n",
       "      <td>2000</td>\n",
       "      <td>Manual</td>\n",
       "      <td>2017.0</td>\n",
       "      <td>Mazda</td>\n",
       "      <td>3</td>\n",
       "    </tr>\n",
       "    <tr>\n",
       "      <th>2</th>\n",
       "      <td>10790</td>\n",
       "      <td>62800</td>\n",
       "      <td>4.0</td>\n",
       "      <td>Saloon</td>\n",
       "      <td>2179</td>\n",
       "      <td>Automatic</td>\n",
       "      <td>2014.0</td>\n",
       "      <td>Jaguar</td>\n",
       "      <td>XF</td>\n",
       "    </tr>\n",
       "    <tr>\n",
       "      <th>3</th>\n",
       "      <td>9499</td>\n",
       "      <td>56606</td>\n",
       "      <td>4.0</td>\n",
       "      <td>Saloon</td>\n",
       "      <td>1995</td>\n",
       "      <td>Manual</td>\n",
       "      <td>2013.0</td>\n",
       "      <td>BMW</td>\n",
       "      <td>5</td>\n",
       "    </tr>\n",
       "    <tr>\n",
       "      <th>4</th>\n",
       "      <td>24990</td>\n",
       "      <td>9784</td>\n",
       "      <td>4.0</td>\n",
       "      <td>Saloon</td>\n",
       "      <td>1998</td>\n",
       "      <td>Automatic</td>\n",
       "      <td>2017.0</td>\n",
       "      <td>BMW</td>\n",
       "      <td>5</td>\n",
       "    </tr>\n",
       "    <tr>\n",
       "      <th>...</th>\n",
       "      <td>...</td>\n",
       "      <td>...</td>\n",
       "      <td>...</td>\n",
       "      <td>...</td>\n",
       "      <td>...</td>\n",
       "      <td>...</td>\n",
       "      <td>...</td>\n",
       "      <td>...</td>\n",
       "      <td>...</td>\n",
       "    </tr>\n",
       "    <tr>\n",
       "      <th>65</th>\n",
       "      <td>10990</td>\n",
       "      <td>30000</td>\n",
       "      <td>5.0</td>\n",
       "      <td>MPV</td>\n",
       "      <td>1560</td>\n",
       "      <td>Automatic</td>\n",
       "      <td>2017.0</td>\n",
       "      <td>Citroen</td>\n",
       "      <td>Berlingo</td>\n",
       "    </tr>\n",
       "    <tr>\n",
       "      <th>66</th>\n",
       "      <td>16649</td>\n",
       "      <td>49444</td>\n",
       "      <td>5.0</td>\n",
       "      <td>MPV</td>\n",
       "      <td>1997</td>\n",
       "      <td>Manual</td>\n",
       "      <td>2016.0</td>\n",
       "      <td>Ford</td>\n",
       "      <td>Galaxy</td>\n",
       "    </tr>\n",
       "    <tr>\n",
       "      <th>67</th>\n",
       "      <td>14295</td>\n",
       "      <td>10000</td>\n",
       "      <td>5.0</td>\n",
       "      <td>MPV</td>\n",
       "      <td>1364</td>\n",
       "      <td>Automatic</td>\n",
       "      <td>2017.0</td>\n",
       "      <td>Vauxhall</td>\n",
       "      <td>Zafira</td>\n",
       "    </tr>\n",
       "    <tr>\n",
       "      <th>68</th>\n",
       "      <td>9495</td>\n",
       "      <td>61650</td>\n",
       "      <td>5.0</td>\n",
       "      <td>MPV</td>\n",
       "      <td>1598</td>\n",
       "      <td>Manual</td>\n",
       "      <td>2015.0</td>\n",
       "      <td>Renault</td>\n",
       "      <td>Grand</td>\n",
       "    </tr>\n",
       "    <tr>\n",
       "      <th>69</th>\n",
       "      <td>9675</td>\n",
       "      <td>50000</td>\n",
       "      <td>5.0</td>\n",
       "      <td>MPV</td>\n",
       "      <td>999</td>\n",
       "      <td>Manual</td>\n",
       "      <td>2016.0</td>\n",
       "      <td>Ford</td>\n",
       "      <td>Grand</td>\n",
       "    </tr>\n",
       "  </tbody>\n",
       "</table>\n",
       "<p>68 rows × 9 columns</p>\n",
       "</div>"
      ],
      "text/plain": [
       "    price(£)  mileage(mi)  door_count body_style  engine_size(cc)  \\\n",
       "0       8995        55000         4.0     Saloon             1595   \n",
       "1      11500        16296         4.0     Saloon             2000   \n",
       "2      10790        62800         4.0     Saloon             2179   \n",
       "3       9499        56606         4.0     Saloon             1995   \n",
       "4      24990         9784         4.0     Saloon             1998   \n",
       "..       ...          ...         ...        ...              ...   \n",
       "65     10990        30000         5.0        MPV             1560   \n",
       "66     16649        49444         5.0        MPV             1997   \n",
       "67     14295        10000         5.0        MPV             1364   \n",
       "68      9495        61650         5.0        MPV             1598   \n",
       "69      9675        50000         5.0        MPV              999   \n",
       "\n",
       "   transmission    year          brand     model  \n",
       "0        Manual  2013.0  Mercedes-Benz         C  \n",
       "1        Manual  2017.0          Mazda         3  \n",
       "2     Automatic  2014.0         Jaguar        XF  \n",
       "3        Manual  2013.0            BMW         5  \n",
       "4     Automatic  2017.0            BMW         5  \n",
       "..          ...     ...            ...       ...  \n",
       "65    Automatic  2017.0        Citroen  Berlingo  \n",
       "66       Manual  2016.0           Ford    Galaxy  \n",
       "67    Automatic  2017.0       Vauxhall    Zafira  \n",
       "68       Manual  2015.0        Renault     Grand  \n",
       "69       Manual  2016.0           Ford     Grand  \n",
       "\n",
       "[68 rows x 9 columns]"
      ]
     },
     "execution_count": 147,
     "metadata": {},
     "output_type": "execute_result"
    }
   ],
   "source": [
    "df1"
   ]
  },
  {
   "cell_type": "code",
   "execution_count": 30,
   "metadata": {},
   "outputs": [],
   "source": [
    "from IPython.display import HTML, display"
   ]
  },
  {
   "cell_type": "code",
   "execution_count": 87,
   "metadata": {},
   "outputs": [],
   "source": [
    "def car_viewer():\n",
    "    \n",
    "    input_body = input(\"What body type of car do you want to view? \")\n",
    "    bodystyle = str(input_body)\n",
    "    \n",
    "    \n",
    "    input_brand = input(\"What brand do you want to view? \")\n",
    "    brand= str(input_brand.title().replace(\" \", \"-\"))\n",
    "    \n",
    "    \n",
    "    \n",
    "    input_pages = input(\"What page do you want to view? \")\n",
    "    pages = int(input_pages)\n",
    "    \n",
    "    my_url = 'https://www.autovillage.co.uk/used-car/{}/page/{}/filter/bodystyle/{}'.format(brand, pages, bodystyle)\n",
    "\n",
    "    \n",
    "    my_client = urlopen(my_url) # open up a connection to the webpage\n",
    "    image_viewer =my_client.read() # reads all the html from the webpage\n",
    "    \n",
    "    image_soup = BeautifulSoup(image_viewer, \"html.parser\")\n",
    "    container_image = image_soup.findAll(\"div\", {\"class\":\"ucatid20\"})\n",
    "    \n",
    "    for item in range(0,len(container_image)):\n",
    "        cars = display(HTML(str(container_image[item].findAll(\"div\", {\"class\":\"mb5\"})[0].img)))\n",
    "    \n",
    "    return cars"
   ]
  },
  {
   "cell_type": "code",
   "execution_count": 98,
   "metadata": {},
   "outputs": [
    {
     "name": "stdout",
     "output_type": "stream",
     "text": [
      "Auto Village Webscraper!\n",
      "------------------------------------------------------------------------------------------------------\n",
      "Body style choices (seperate with commas): saloon, hatchback, 4x4, estate, coupe, convertible, or mpv.\n",
      "Pages: a single integer (note there are 10 cars per page)\n",
      "Save File: name you want to call your csv file\n",
      "------------------------------------------------------------------------------------------------------\n",
      "\n",
      "\n",
      "Inputs:\n",
      "------------------------------------------------------------------------------------------------------\n"
     ]
    },
    {
     "name": "stdin",
     "output_type": "stream",
     "text": [
      "Enter a body style (or leave blank for all):  \n",
      "Enter the amount of pages you want to scrape:  3\n"
     ]
    },
    {
     "name": "stdout",
     "output_type": "stream",
     "text": [
      "------------------------------------------------------------------------------------------------------\n",
      "You scraped:  195 cars\n"
     ]
    },
    {
     "name": "stdin",
     "output_type": "stream",
     "text": [
      "Name to save file as (leave blank to not save):  \n"
     ]
    },
    {
     "name": "stdout",
     "output_type": "stream",
     "text": [
      "------------------------------------------------------------------------------------------------------\n",
      "File Not Saved!\n"
     ]
    }
   ],
   "source": [
    "df = web_crawler()"
   ]
  },
  {
   "cell_type": "code",
   "execution_count": 99,
   "metadata": {},
   "outputs": [
    {
     "data": {
      "text/html": [
       "<div>\n",
       "<style scoped>\n",
       "    .dataframe tbody tr th:only-of-type {\n",
       "        vertical-align: middle;\n",
       "    }\n",
       "\n",
       "    .dataframe tbody tr th {\n",
       "        vertical-align: top;\n",
       "    }\n",
       "\n",
       "    .dataframe thead th {\n",
       "        text-align: right;\n",
       "    }\n",
       "</style>\n",
       "<table border=\"1\" class=\"dataframe\">\n",
       "  <thead>\n",
       "    <tr style=\"text-align: right;\">\n",
       "      <th></th>\n",
       "      <th>price(£)</th>\n",
       "      <th>mileage(mi)</th>\n",
       "      <th>door_count</th>\n",
       "      <th>body_style</th>\n",
       "      <th>engine_size(cc)</th>\n",
       "      <th>transmission</th>\n",
       "      <th>year</th>\n",
       "      <th>brand</th>\n",
       "      <th>model</th>\n",
       "    </tr>\n",
       "  </thead>\n",
       "  <tbody>\n",
       "    <tr>\n",
       "      <th>0</th>\n",
       "      <td>7498</td>\n",
       "      <td>46152.0</td>\n",
       "      <td>4.0</td>\n",
       "      <td>Saloon</td>\n",
       "      <td>1685.0</td>\n",
       "      <td>Manual</td>\n",
       "      <td>2014.0</td>\n",
       "      <td>Hyundai</td>\n",
       "      <td>I40</td>\n",
       "    </tr>\n",
       "    <tr>\n",
       "      <th>1</th>\n",
       "      <td>26190</td>\n",
       "      <td>7126.0</td>\n",
       "      <td>4.0</td>\n",
       "      <td>Saloon</td>\n",
       "      <td>1500.0</td>\n",
       "      <td>Automatic</td>\n",
       "      <td>2019.0</td>\n",
       "      <td>Mercedes-Benz</td>\n",
       "      <td>C</td>\n",
       "    </tr>\n",
       "    <tr>\n",
       "      <th>2</th>\n",
       "      <td>15600</td>\n",
       "      <td>25997.0</td>\n",
       "      <td>4.0</td>\n",
       "      <td>Saloon</td>\n",
       "      <td>1600.0</td>\n",
       "      <td>Manual</td>\n",
       "      <td>2016.0</td>\n",
       "      <td>Mercedes-Benz</td>\n",
       "      <td>C</td>\n",
       "    </tr>\n",
       "    <tr>\n",
       "      <th>4</th>\n",
       "      <td>17498</td>\n",
       "      <td>57290.0</td>\n",
       "      <td>4.0</td>\n",
       "      <td>Saloon</td>\n",
       "      <td>1968.0</td>\n",
       "      <td>Automatic</td>\n",
       "      <td>2015.0</td>\n",
       "      <td>Audi</td>\n",
       "      <td>A6</td>\n",
       "    </tr>\n",
       "    <tr>\n",
       "      <th>5</th>\n",
       "      <td>7999</td>\n",
       "      <td>38000.0</td>\n",
       "      <td>4.0</td>\n",
       "      <td>Saloon</td>\n",
       "      <td>1968.0</td>\n",
       "      <td>Manual</td>\n",
       "      <td>2014.0</td>\n",
       "      <td>Volkswagen</td>\n",
       "      <td>Passat</td>\n",
       "    </tr>\n",
       "  </tbody>\n",
       "</table>\n",
       "</div>"
      ],
      "text/plain": [
       "   price(£)  mileage(mi)  door_count body_style  engine_size(cc) transmission  \\\n",
       "0      7498      46152.0         4.0     Saloon           1685.0       Manual   \n",
       "1     26190       7126.0         4.0     Saloon           1500.0    Automatic   \n",
       "2     15600      25997.0         4.0     Saloon           1600.0       Manual   \n",
       "4     17498      57290.0         4.0     Saloon           1968.0    Automatic   \n",
       "5      7999      38000.0         4.0     Saloon           1968.0       Manual   \n",
       "\n",
       "     year          brand   model  \n",
       "0  2014.0        Hyundai     I40  \n",
       "1  2019.0  Mercedes-Benz       C  \n",
       "2  2016.0  Mercedes-Benz       C  \n",
       "4  2015.0           Audi      A6  \n",
       "5  2014.0     Volkswagen  Passat  "
      ]
     },
     "execution_count": 99,
     "metadata": {},
     "output_type": "execute_result"
    }
   ],
   "source": [
    "df.head()"
   ]
  },
  {
   "cell_type": "code",
   "execution_count": 100,
   "metadata": {},
   "outputs": [
    {
     "name": "stdin",
     "output_type": "stream",
     "text": [
      "What body type of car do you want to view?  saloon\n",
      "What brand do you want to view?  hyundai\n",
      "What page do you want to view?  1\n"
     ]
    },
    {
     "data": {
      "text/html": [
       "<img alt=\"Hyundai I40\" src=\"https://cdn-csnetworkstock.s3.amazonaws.com/hyundai/i40/22461/34106061/hyundai_i40_1_pl.jpg\"/>"
      ],
      "text/plain": [
       "<IPython.core.display.HTML object>"
      ]
     },
     "metadata": {},
     "output_type": "display_data"
    },
    {
     "data": {
      "text/html": [
       "<img alt=\"Hyundai I40\" src=\"https://cdn-csnetworkstock.s3.amazonaws.com/hyundai/i40/28687/33331484/hyundai_i40_1_pl.jpg\"/>"
      ],
      "text/plain": [
       "<IPython.core.display.HTML object>"
      ]
     },
     "metadata": {},
     "output_type": "display_data"
    },
    {
     "data": {
      "text/html": [
       "<img alt=\"Hyundai I40\" src=\"https://cdn-csnetworkstock.s3.amazonaws.com/hyundai/i40/22874/34316501/hyundai_i40_1_pl.jpg\"/>"
      ],
      "text/plain": [
       "<IPython.core.display.HTML object>"
      ]
     },
     "metadata": {},
     "output_type": "display_data"
    },
    {
     "data": {
      "text/html": [
       "<img alt=\"Hyundai I40\" src=\"https://cdn-csnetworkstock.s3.amazonaws.com/hyundai/i40/22610/33588198/hyundai_i40_1_pl.jpg\"/>"
      ],
      "text/plain": [
       "<IPython.core.display.HTML object>"
      ]
     },
     "metadata": {},
     "output_type": "display_data"
    },
    {
     "data": {
      "text/html": [
       "<img alt=\"Hyundai I40\" src=\"https://cdn-csnetworkstock.s3.amazonaws.com/hyundai/i40/29418/32987512/hyundai_i40_1_pl.jpg\"/>"
      ],
      "text/plain": [
       "<IPython.core.display.HTML object>"
      ]
     },
     "metadata": {},
     "output_type": "display_data"
    },
    {
     "data": {
      "text/html": [
       "<img alt=\"Hyundai I40\" src=\"https://cdn-csnetworkstock.s3.amazonaws.com/hyundai/i40/45244/34413647/hyundai_i40_1_pl.jpg\"/>"
      ],
      "text/plain": [
       "<IPython.core.display.HTML object>"
      ]
     },
     "metadata": {},
     "output_type": "display_data"
    },
    {
     "data": {
      "text/html": [
       "<img alt=\"Hyundai I40\" src=\"https://cdn-csnetworkstock.s3.amazonaws.com/hyundai/i40/28568/33408844/hyundai_i40_1_pl.jpg\"/>"
      ],
      "text/plain": [
       "<IPython.core.display.HTML object>"
      ]
     },
     "metadata": {},
     "output_type": "display_data"
    },
    {
     "data": {
      "text/html": [
       "<img alt=\"Hyundai I40\" src=\"https://cdn-csnetworkstock.s3.amazonaws.com/hyundai/i40/27246/33501366/hyundai_i40_1_pl.jpg\"/>"
      ],
      "text/plain": [
       "<IPython.core.display.HTML object>"
      ]
     },
     "metadata": {},
     "output_type": "display_data"
    },
    {
     "data": {
      "text/html": [
       "<img alt=\"Hyundai I40\" src=\"https://cdn-csnetworkstock.s3.amazonaws.com/hyundai/i40/23910/33935702/hyundai_i40_1_pl.jpg\"/>"
      ],
      "text/plain": [
       "<IPython.core.display.HTML object>"
      ]
     },
     "metadata": {},
     "output_type": "display_data"
    },
    {
     "data": {
      "text/html": [
       "<img alt=\"Hyundai I40\" src=\"https://cdn-csnetworkstock.s3.amazonaws.com/hyundai/i40/54673/33532811/hyundai_i40_1_pl.jpg\"/>"
      ],
      "text/plain": [
       "<IPython.core.display.HTML object>"
      ]
     },
     "metadata": {},
     "output_type": "display_data"
    }
   ],
   "source": [
    "car_viewer()"
   ]
  },
  {
   "cell_type": "code",
   "execution_count": null,
   "metadata": {},
   "outputs": [],
   "source": []
  }
 ],
 "metadata": {
  "kernelspec": {
   "display_name": "Python 3",
   "language": "python",
   "name": "python3"
  },
  "language_info": {
   "codemirror_mode": {
    "name": "ipython",
    "version": 3
   },
   "file_extension": ".py",
   "mimetype": "text/x-python",
   "name": "python",
   "nbconvert_exporter": "python",
   "pygments_lexer": "ipython3",
   "version": "3.7.4"
  }
 },
 "nbformat": 4,
 "nbformat_minor": 4
}
