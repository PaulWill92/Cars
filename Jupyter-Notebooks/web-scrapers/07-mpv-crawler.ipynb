{
 "cells": [
  {
   "cell_type": "markdown",
   "metadata": {},
   "source": [
    "# MPV"
   ]
  },
  {
   "cell_type": "markdown",
   "metadata": {},
   "source": [
    "### Imports"
   ]
  },
  {
   "cell_type": "code",
   "execution_count": 1,
   "metadata": {},
   "outputs": [],
   "source": [
    "import pandas as pd\n",
    "import numpy as np\n",
    "\n",
    "# Webscraping libraries\n",
    "from urllib.request import urlopen # url inspector\n",
    "from bs4 import BeautifulSoup\n",
    "import re\n",
    "from selenium import webdriver # connects to chrome browser\n",
    "import warnings\n",
    "warnings.filterwarnings('ignore')\n",
    "\n",
    "# Web crawler imports\n",
    "import requests\n",
    "from requests import get\n",
    "\n",
    "# Web crawlers random seeds/time delays\n",
    "from time import sleep\n",
    "from random import randint\n",
    "\n",
    "# image viewer for cell outputs\n",
    "from IPython.display import display, Markdown, Latex, Image, display_html, HTML"
   ]
  },
  {
   "cell_type": "markdown",
   "metadata": {},
   "source": [
    "## View Cars"
   ]
  },
  {
   "cell_type": "code",
   "execution_count": 2,
   "metadata": {},
   "outputs": [],
   "source": [
    "body_type=[\"Saloon\", \n",
    "           \"Hatchback\", \n",
    "           \"Estate\", \n",
    "           \"Coupe\", \n",
    "           \"Convertible\", \n",
    "           \"4x4\", \n",
    "           \"MPV\"]"
   ]
  },
  {
   "cell_type": "code",
   "execution_count": 3,
   "metadata": {},
   "outputs": [],
   "source": [
    "my_url = 'https://www.autovillage.co.uk/used-car/filter/bodystyle/mpv'\n",
    "my_client = urlopen(my_url) # open up a connection to the webpage\n",
    "image_viewer =my_client.read() # reads all the html from the webpage"
   ]
  },
  {
   "cell_type": "code",
   "execution_count": 4,
   "metadata": {},
   "outputs": [],
   "source": [
    "image_soup = BeautifulSoup(image_viewer, \"html.parser\")\n",
    "container_image = image_soup.findAll(\"div\", {\"class\":\"ucatid20\"}) # found the ucatid20 tag from inspecting webpage and selecting the entire container\n"
   ]
  },
  {
   "cell_type": "code",
   "execution_count": 5,
   "metadata": {},
   "outputs": [
    {
     "data": {
      "text/html": [
       "<img alt=\"Citroen C4 Grand Picasso\" src=\"https://cdn-csnetworkstock.s3.amazonaws.com/citroen/c4-grand-picasso/53306/33472881/citroen_c4-grand-picasso_1_pl.jpg\"/>"
      ],
      "text/plain": [
       "<IPython.core.display.HTML object>"
      ]
     },
     "metadata": {},
     "output_type": "display_data"
    },
    {
     "data": {
      "text/html": [
       "<img alt=\"Vauxhall Meriva\" src=\"https://cdn-csnetworkstock.s3.amazonaws.com/vauxhall/meriva/24950/34126037/vauxhall_meriva_1_pl.jpg\"/>"
      ],
      "text/plain": [
       "<IPython.core.display.HTML object>"
      ]
     },
     "metadata": {},
     "output_type": "display_data"
    },
    {
     "data": {
      "text/html": [
       "<img alt=\"Renault Scenic\" src=\"https://cdn-csnetworkstock.s3.amazonaws.com/renault/scenic/54497/34315038/renault_scenic_1_pl.jpg\"/>"
      ],
      "text/plain": [
       "<IPython.core.display.HTML object>"
      ]
     },
     "metadata": {},
     "output_type": "display_data"
    },
    {
     "data": {
      "text/html": [
       "<img alt=\"Ford B-MAX\" src=\"https://cdn-csnetworkstock.s3.amazonaws.com/ford/b-max/31495/32266459/ford_b-max_1_pl.jpg\"/>"
      ],
      "text/plain": [
       "<IPython.core.display.HTML object>"
      ]
     },
     "metadata": {},
     "output_type": "display_data"
    },
    {
     "data": {
      "text/html": [
       "<img alt=\"Nissan Elgrand\" src=\"https://cdn-csnetworkstock.s3.amazonaws.com/nissan/elgrand/55851/34079856/nissan_elgrand_1_pl.jpg\"/>"
      ],
      "text/plain": [
       "<IPython.core.display.HTML object>"
      ]
     },
     "metadata": {},
     "output_type": "display_data"
    },
    {
     "data": {
      "text/html": [
       "<img alt=\"Ford S-Max\" src=\"https://cdn-csnetworkstock.s3.amazonaws.com/ford/s-max/35151/34141293/ford_s-max_1_pl.jpg\"/>"
      ],
      "text/plain": [
       "<IPython.core.display.HTML object>"
      ]
     },
     "metadata": {},
     "output_type": "display_data"
    },
    {
     "data": {
      "text/html": [
       "<img alt=\"Ford B-MAX\" src=\"https://cdn-csnetworkstock.s3.amazonaws.com/ford/b-max/23031/34268857/ford_b-max_1_pl.jpg\"/>"
      ],
      "text/plain": [
       "<IPython.core.display.HTML object>"
      ]
     },
     "metadata": {},
     "output_type": "display_data"
    },
    {
     "data": {
      "text/html": [
       "<img alt=\"Vauxhall Zafira\" src=\"https://cdn-csnetworkstock.s3.amazonaws.com/vauxhall/zafira/27670/33844674/vauxhall_zafira_1_pl.jpg\"/>"
      ],
      "text/plain": [
       "<IPython.core.display.HTML object>"
      ]
     },
     "metadata": {},
     "output_type": "display_data"
    },
    {
     "data": {
      "text/html": [
       "<img alt=\"Citroen C3 Picasso\" src=\"https://cdn-csnetworkstock.s3.amazonaws.com/citroen/c3-picasso/36766/33846153/citroen_c3-picasso_1_pl.jpg\"/>"
      ],
      "text/plain": [
       "<IPython.core.display.HTML object>"
      ]
     },
     "metadata": {},
     "output_type": "display_data"
    },
    {
     "data": {
      "text/html": [
       "<img alt=\"Ford Grand C-Max\" src=\"https://cdn-csnetworkstock.s3.amazonaws.com/ford/grand-c-max/43350/34351719/ford_grand-c-max_1_pl.jpg\"/>"
      ],
      "text/plain": [
       "<IPython.core.display.HTML object>"
      ]
     },
     "metadata": {},
     "output_type": "display_data"
    }
   ],
   "source": [
    "# Lets view our cars by using a for loop with the image flag we parsed into\n",
    "\n",
    "for item in range(0,len(container_image)):\n",
    "    display(HTML(str(container_image[item].findAll(\"div\", {\"class\":\"mb5\"})[0].img)))\n"
   ]
  },
  {
   "cell_type": "markdown",
   "metadata": {},
   "source": [
    "## Web Crawler"
   ]
  },
  {
   "cell_type": "code",
   "execution_count": 6,
   "metadata": {},
   "outputs": [],
   "source": [
    "# Features\n",
    "price =[] # car price\n",
    "year_make_model =[] # year made, brand name, model\n",
    "eng_tran =[] # engine size and transmission type\n",
    "door_body =[] # number of doors and body style\n",
    "mileage =[] # number of miles on the odometer"
   ]
  },
  {
   "cell_type": "code",
   "execution_count": 7,
   "metadata": {},
   "outputs": [],
   "source": [
    "# set up crawler (150 page test limit) to return 1,500 cars\n",
    "\n",
    "for i in range(0,150): #range of pages to scrape\n",
    "    url= 'https://www.autovillage.co.uk/used-car/page/{}/filter/bodystyle/mpv'.format(i)\n",
    "    html= urlopen(url)\n",
    "    autovillage_page= html.read()\n",
    "    soup= BeautifulSoup(autovillage_page, \"html.parser\")\n",
    "    \n",
    "    \n",
    "    container= soup.findAll(\"div\", {\"class\":\"ucatid20\"})\n",
    "    container2= soup.findAll(\"div\", {\"class\":\"avprice\"})\n",
    "    \n",
    "    for item in container2:\n",
    "    #price\n",
    "        price.append(item.text)\n",
    "        # web scraper code use soup as conection\n",
    "    for item in range(0,len(container)):\n",
    "    \n",
    "        #year, make, and model\n",
    "        car_names= container[item].div.findAll(\"div\", {\"class\":\"item\"})[0]\n",
    "        year_make_model.append(car_names.get_text().strip())\n",
    "    \n",
    "        #engine size and transmission type\n",
    "        tran = container[item].div.span\n",
    "        eng_tran.append(tran.get_text())\n",
    "    \n",
    "        # number of doors and car body type\n",
    "        door_bod = container[item].div.findAll(\"div\", {\"class\":\"item\"})[2].span\n",
    "        door_body.append(door_bod.get_text())\n",
    "    \n",
    "        # Car mileage\n",
    "        car_mileage = container[item].div.findAll(\"div\", {\"class\":\"item\"})[3].span\n",
    "        mileage.append(car_mileage)"
   ]
  },
  {
   "cell_type": "markdown",
   "metadata": {},
   "source": [
    "## Shape of features"
   ]
  },
  {
   "cell_type": "code",
   "execution_count": 8,
   "metadata": {},
   "outputs": [
    {
     "name": "stdout",
     "output_type": "stream",
     "text": [
      "Rows in price: 1500\n",
      "Rows in mileage: 1500\n",
      "Rows in door count/body style: 1500\n",
      "Rows in engine size/transmission: 1500\n",
      "Rows in year/make/model: 1500\n"
     ]
    }
   ],
   "source": [
    "# lets count how many cars we have in our features it should be 10\n",
    "print(\"Rows in price:\",len(price))\n",
    "print(\"Rows in mileage:\",len(mileage))\n",
    "print(\"Rows in door count/body style:\",len(door_body))\n",
    "print(\"Rows in engine size/transmission:\",len(eng_tran))\n",
    "print(\"Rows in year/make/model:\",len(year_make_model))"
   ]
  },
  {
   "cell_type": "markdown",
   "metadata": {},
   "source": [
    "## Create Data Frame"
   ]
  },
  {
   "cell_type": "code",
   "execution_count": 9,
   "metadata": {},
   "outputs": [],
   "source": [
    "# Create the DataFrame\n",
    "mpv_df = pd.DataFrame({'price':price, \n",
    "                       'mileage':mileage, \n",
    "                       'door/body':door_body, \n",
    "                       'eng/tran':eng_tran, \n",
    "                       'year/make/model':year_make_model})"
   ]
  },
  {
   "cell_type": "code",
   "execution_count": 10,
   "metadata": {},
   "outputs": [
    {
     "data": {
      "text/html": [
       "<div>\n",
       "<style scoped>\n",
       "    .dataframe tbody tr th:only-of-type {\n",
       "        vertical-align: middle;\n",
       "    }\n",
       "\n",
       "    .dataframe tbody tr th {\n",
       "        vertical-align: top;\n",
       "    }\n",
       "\n",
       "    .dataframe thead th {\n",
       "        text-align: right;\n",
       "    }\n",
       "</style>\n",
       "<table border=\"1\" class=\"dataframe\">\n",
       "  <thead>\n",
       "    <tr style=\"text-align: right;\">\n",
       "      <th></th>\n",
       "      <th>price</th>\n",
       "      <th>mileage</th>\n",
       "      <th>door/body</th>\n",
       "      <th>eng/tran</th>\n",
       "      <th>year/make/model</th>\n",
       "    </tr>\n",
       "  </thead>\n",
       "  <tbody>\n",
       "    <tr>\n",
       "      <th>0</th>\n",
       "      <td>£11,990</td>\n",
       "      <td>[ 9,000 miles]</td>\n",
       "      <td>5 Door MPV</td>\n",
       "      <td>1560cc Manual</td>\n",
       "      <td>2018 Citroen C4 Grand Picasso</td>\n",
       "    </tr>\n",
       "    <tr>\n",
       "      <th>1</th>\n",
       "      <td>£5,899</td>\n",
       "      <td>[ 44,386 miles]</td>\n",
       "      <td>5 Door MPV</td>\n",
       "      <td>1400cc Manual</td>\n",
       "      <td>2016 Vauxhall Meriva</td>\n",
       "    </tr>\n",
       "    <tr>\n",
       "      <th>2</th>\n",
       "      <td>£2,499</td>\n",
       "      <td>[ 71,000 miles]</td>\n",
       "      <td>5 Door MPV</td>\n",
       "      <td>1461cc Manual</td>\n",
       "      <td>2009 Renault Scenic</td>\n",
       "    </tr>\n",
       "    <tr>\n",
       "      <th>3</th>\n",
       "      <td>£4,995</td>\n",
       "      <td>[ 76,000 miles]</td>\n",
       "      <td>5 Door MPV</td>\n",
       "      <td>998cc Manual</td>\n",
       "      <td>2012 Ford B-MAX</td>\n",
       "    </tr>\n",
       "    <tr>\n",
       "      <th>4</th>\n",
       "      <td>£5,490</td>\n",
       "      <td>[ 55,000 miles]</td>\n",
       "      <td>5 Door MPV</td>\n",
       "      <td>3500cc Automatic</td>\n",
       "      <td>2002 Nissan Elgrand</td>\n",
       "    </tr>\n",
       "    <tr>\n",
       "      <th>...</th>\n",
       "      <td>...</td>\n",
       "      <td>...</td>\n",
       "      <td>...</td>\n",
       "      <td>...</td>\n",
       "      <td>...</td>\n",
       "    </tr>\n",
       "    <tr>\n",
       "      <th>1495</th>\n",
       "      <td>£5,995</td>\n",
       "      <td>[ 79,610 miles]</td>\n",
       "      <td>5 Door MPV</td>\n",
       "      <td>1560cc Manual</td>\n",
       "      <td>2013 Ford C-Max</td>\n",
       "    </tr>\n",
       "    <tr>\n",
       "      <th>1496</th>\n",
       "      <td>£5,995</td>\n",
       "      <td>[ 32,000 miles]</td>\n",
       "      <td>5 Door MPV</td>\n",
       "      <td>1461cc Manual</td>\n",
       "      <td>2016 Nissan Note</td>\n",
       "    </tr>\n",
       "    <tr>\n",
       "      <th>1497</th>\n",
       "      <td>£6,790</td>\n",
       "      <td>[ 128,000 miles]</td>\n",
       "      <td>5 Door MPV</td>\n",
       "      <td>1560cc Manual</td>\n",
       "      <td>2016 Citroen C4 Grand Picasso</td>\n",
       "    </tr>\n",
       "    <tr>\n",
       "      <th>1498</th>\n",
       "      <td>£21,598</td>\n",
       "      <td>[ 10 miles]</td>\n",
       "      <td>5 Door MPV</td>\n",
       "      <td>1499cc Automatic</td>\n",
       "      <td>2020 Citroen Berlingo</td>\n",
       "    </tr>\n",
       "    <tr>\n",
       "      <th>1499</th>\n",
       "      <td>£7,999</td>\n",
       "      <td>[ 39,000 miles]</td>\n",
       "      <td>5 Door MPV</td>\n",
       "      <td>1560cc Manual</td>\n",
       "      <td>2015 Peugeot Partner Tepee</td>\n",
       "    </tr>\n",
       "  </tbody>\n",
       "</table>\n",
       "<p>1500 rows × 5 columns</p>\n",
       "</div>"
      ],
      "text/plain": [
       "        price           mileage    door/body           eng/tran  \\\n",
       "0     £11,990    [ 9,000 miles]   5 Door MPV     1560cc Manual    \n",
       "1      £5,899   [ 44,386 miles]   5 Door MPV     1400cc Manual    \n",
       "2      £2,499   [ 71,000 miles]   5 Door MPV     1461cc Manual    \n",
       "3      £4,995   [ 76,000 miles]   5 Door MPV      998cc Manual    \n",
       "4      £5,490   [ 55,000 miles]   5 Door MPV  3500cc Automatic    \n",
       "...       ...               ...          ...                ...   \n",
       "1495   £5,995   [ 79,610 miles]   5 Door MPV     1560cc Manual    \n",
       "1496   £5,995   [ 32,000 miles]   5 Door MPV     1461cc Manual    \n",
       "1497   £6,790  [ 128,000 miles]   5 Door MPV     1560cc Manual    \n",
       "1498  £21,598       [ 10 miles]   5 Door MPV  1499cc Automatic    \n",
       "1499   £7,999   [ 39,000 miles]   5 Door MPV     1560cc Manual    \n",
       "\n",
       "                    year/make/model  \n",
       "0     2018 Citroen C4 Grand Picasso  \n",
       "1              2016 Vauxhall Meriva  \n",
       "2               2009 Renault Scenic  \n",
       "3                   2012 Ford B-MAX  \n",
       "4               2002 Nissan Elgrand  \n",
       "...                             ...  \n",
       "1495                2013 Ford C-Max  \n",
       "1496               2016 Nissan Note  \n",
       "1497  2016 Citroen C4 Grand Picasso  \n",
       "1498          2020 Citroen Berlingo  \n",
       "1499     2015 Peugeot Partner Tepee  \n",
       "\n",
       "[1500 rows x 5 columns]"
      ]
     },
     "execution_count": 10,
     "metadata": {},
     "output_type": "execute_result"
    }
   ],
   "source": [
    "mpv_df"
   ]
  },
  {
   "cell_type": "markdown",
   "metadata": {},
   "source": [
    "## Clean the Data Frame"
   ]
  },
  {
   "cell_type": "markdown",
   "metadata": {},
   "source": [
    "I can use `str.extract()` ,`str.replace()` . and `.astype(int)` to clean my data."
   ]
  },
  {
   "cell_type": "code",
   "execution_count": null,
   "metadata": {},
   "outputs": [],
   "source": []
  },
  {
   "cell_type": "markdown",
   "metadata": {},
   "source": [
    "## Save the Data Frame"
   ]
  },
  {
   "cell_type": "code",
   "execution_count": 11,
   "metadata": {},
   "outputs": [],
   "source": [
    "# Create our save directory path\n",
    "mpv_save_path = '../../Raw-Data/mpv.csv'\n",
    "mpv_df.to_csv(mpv_save_path) # running this cell multiple times overwrites save"
   ]
  },
  {
   "cell_type": "code",
   "execution_count": null,
   "metadata": {},
   "outputs": [],
   "source": []
  }
 ],
 "metadata": {
  "kernelspec": {
   "display_name": "Python 3",
   "language": "python",
   "name": "python3"
  },
  "language_info": {
   "codemirror_mode": {
    "name": "ipython",
    "version": 3
   },
   "file_extension": ".py",
   "mimetype": "text/x-python",
   "name": "python",
   "nbconvert_exporter": "python",
   "pygments_lexer": "ipython3",
   "version": "3.7.4"
  }
 },
 "nbformat": 4,
 "nbformat_minor": 4
}
