{
 "cells": [
  {
   "cell_type": "markdown",
   "metadata": {},
   "source": [
    "# Saloons"
   ]
  },
  {
   "cell_type": "markdown",
   "metadata": {},
   "source": [
    "### Imports"
   ]
  },
  {
   "cell_type": "code",
   "execution_count": 1,
   "metadata": {},
   "outputs": [],
   "source": [
    "import pandas as pd\n",
    "import numpy as np\n",
    "\n",
    "# Webscraping libraries\n",
    "from urllib.request import urlopen # url inspector\n",
    "from bs4 import BeautifulSoup\n",
    "import re\n",
    "from selenium import webdriver # connects to chrome browser\n",
    "import warnings\n",
    "warnings.filterwarnings('ignore')\n",
    "\n",
    "# Web crawler imports\n",
    "import requests\n",
    "from requests import get\n",
    "\n",
    "# Web crawlers random seeds/time delays\n",
    "from time import sleep\n",
    "from random import randint\n",
    "\n",
    "# image viewer for cell outputs\n",
    "from IPython.display import display, Markdown, Latex, Image, display_html, HTML"
   ]
  },
  {
   "cell_type": "markdown",
   "metadata": {},
   "source": [
    "## View Cars"
   ]
  },
  {
   "cell_type": "code",
   "execution_count": 2,
   "metadata": {},
   "outputs": [],
   "source": [
    "body_type=[\"Saloon\", \n",
    "           \"Hatchback\", \n",
    "           \"Estate\", \n",
    "           \"Coupe\", \n",
    "           \"Convertible\", \n",
    "           \"4x4\", \n",
    "           \"MPV\"]"
   ]
  },
  {
   "cell_type": "code",
   "execution_count": 3,
   "metadata": {},
   "outputs": [],
   "source": [
    "my_url = 'https://www.autovillage.co.uk/used-car/filter/bodystyle/saloon'\n",
    "my_client = urlopen(my_url) # open up a connection to the webpage\n",
    "image_viewer =my_client.read() # reads all the html from the webpage"
   ]
  },
  {
   "cell_type": "code",
   "execution_count": 4,
   "metadata": {},
   "outputs": [],
   "source": [
    "image_soup = BeautifulSoup(image_viewer, \"html.parser\")\n",
    "container_image = image_soup.findAll(\"div\", {\"class\":\"ucatid20\"}) # found the ucatid20 tag from inspecting webpage and selecting the entire container\n"
   ]
  },
  {
   "cell_type": "code",
   "execution_count": 5,
   "metadata": {},
   "outputs": [
    {
     "data": {
      "text/html": [
       "<img alt=\"Volvo S90\" src=\"https://cdn-csnetworkstock.s3.amazonaws.com/volvo/s90/43639/33365303/volvo_s90_1_pl.jpg\"/>"
      ],
      "text/plain": [
       "<IPython.core.display.HTML object>"
      ]
     },
     "metadata": {},
     "output_type": "display_data"
    },
    {
     "data": {
      "text/html": [
       "<img alt=\"Volkswagen Passat\" src=\"https://cdn-csnetworkstock.s3.amazonaws.com/volkswagen/passat/46777/33721840/volkswagen_passat_1_pl.jpg\"/>"
      ],
      "text/plain": [
       "<IPython.core.display.HTML object>"
      ]
     },
     "metadata": {},
     "output_type": "display_data"
    },
    {
     "data": {
      "text/html": [
       "<img alt=\"Volkswagen Passat\" src=\"https://cdn-csnetworkstock.s3.amazonaws.com/volkswagen/passat/22493/33216234/volkswagen_passat_1_pl.jpg\"/>"
      ],
      "text/plain": [
       "<IPython.core.display.HTML object>"
      ]
     },
     "metadata": {},
     "output_type": "display_data"
    },
    {
     "data": {
      "text/html": [
       "<img alt=\"Volvo S60\" src=\"https://cdn-csnetworkstock.s3.amazonaws.com/volvo/s60/30589/33964630/volvo_s60_1_pl.jpg\"/>"
      ],
      "text/plain": [
       "<IPython.core.display.HTML object>"
      ]
     },
     "metadata": {},
     "output_type": "display_data"
    },
    {
     "data": {
      "text/html": [
       "<img alt=\"Jaguar XF\" src=\"https://cdn-csnetworkstock.s3.amazonaws.com/jaguar/xf/32007/34012250/jaguar_xf_1_pl.jpg\"/>"
      ],
      "text/plain": [
       "<IPython.core.display.HTML object>"
      ]
     },
     "metadata": {},
     "output_type": "display_data"
    },
    {
     "data": {
      "text/html": [
       "<img alt=\"Jaguar XJ Series\" src=\"https://cdn-csnetworkstock.s3.amazonaws.com/jaguar/xj-series/42578/34066039/jaguar_xj-series_1_pl.jpg\"/>"
      ],
      "text/plain": [
       "<IPython.core.display.HTML object>"
      ]
     },
     "metadata": {},
     "output_type": "display_data"
    },
    {
     "data": {
      "text/html": [
       "<img alt=\"BMW 5 Series\" src=\"https://cdn-csnetworkstock.s3.amazonaws.com/bmw/5-series/22475/34033715/bmw_5-series_1_pl.jpg\"/>"
      ],
      "text/plain": [
       "<IPython.core.display.HTML object>"
      ]
     },
     "metadata": {},
     "output_type": "display_data"
    },
    {
     "data": {
      "text/html": [
       "<img alt=\"Mercedes-Benz C Class\" src=\"https://cdn-csnetworkstock.s3.amazonaws.com/mercedes-benz/c-class/30519/34147462/mercedes-benz_c-class_1_pl.jpg\"/>"
      ],
      "text/plain": [
       "<IPython.core.display.HTML object>"
      ]
     },
     "metadata": {},
     "output_type": "display_data"
    },
    {
     "data": {
      "text/html": [
       "<img alt=\"Mercedes-Benz S Class\" src=\"https://cdn-csnetworkstock.s3.amazonaws.com/mercedes-benz/s-class/24934/34188913/mercedes-benz_s-class_1_pl.jpg\"/>"
      ],
      "text/plain": [
       "<IPython.core.display.HTML object>"
      ]
     },
     "metadata": {},
     "output_type": "display_data"
    },
    {
     "data": {
      "text/html": [
       "<img alt=\"Mercedes-Benz C Class\" src=\"https://cdn-csnetworkstock.s3.amazonaws.com/mercedes-benz/c-class/30589/34336463/mercedes-benz_c-class_1_pl.jpg\"/>"
      ],
      "text/plain": [
       "<IPython.core.display.HTML object>"
      ]
     },
     "metadata": {},
     "output_type": "display_data"
    }
   ],
   "source": [
    "# Lets view our cars by using a for loop with the image flag we parsed into\n",
    "\n",
    "for item in range(0,len(container_image)):\n",
    "    display(HTML(str(container_image[item].findAll(\"div\", {\"class\":\"mb5\"})[0].img)))\n"
   ]
  },
  {
   "cell_type": "markdown",
   "metadata": {},
   "source": [
    "## Web Crawler"
   ]
  },
  {
   "cell_type": "code",
   "execution_count": 6,
   "metadata": {},
   "outputs": [],
   "source": [
    "# Features\n",
    "price =[] # car price\n",
    "year_make_model =[] # year made, brand name, model\n",
    "eng_tran =[] # engine size and transmission type\n",
    "door_body =[] # number of doors and body style\n",
    "mileage =[] # number of miles on the odometer"
   ]
  },
  {
   "cell_type": "code",
   "execution_count": 7,
   "metadata": {},
   "outputs": [],
   "source": [
    "# set up crawler (150 page test limit to return 1,500 cars)\n",
    "\n",
    "for i in range(0,150): #range of pages to scrape\n",
    "    url= 'https://www.autovillage.co.uk/used-car/page/{}/filter/bodystyle/saloon'.format(i)\n",
    "    html= urlopen(url)\n",
    "    autovillage_page= html.read()\n",
    "    soup= BeautifulSoup(autovillage_page, \"html.parser\")\n",
    "    \n",
    "    # parsed into the container that holds information about the cars\n",
    "    container= soup.findAll(\"div\", {\"class\":\"ucatid20\"})\n",
    "    # parsed to be price only\n",
    "    container2= soup.findAll(\"div\", {\"class\":\"avprice\"})\n",
    "    \n",
    "    for item in container2:\n",
    "        #price\n",
    "        price.append(item.text)\n",
    "       \n",
    "    for item in range(0,len(container)):\n",
    "    \n",
    "        #year, make, and model\n",
    "        car_names= container[item].div.findAll(\"div\", {\"class\":\"item\"})[0]\n",
    "        year_make_model.append(car_names.get_text().strip())\n",
    "    \n",
    "        #engine size and transmission type\n",
    "        tran = container[item].div.span\n",
    "        eng_tran.append(tran.get_text())\n",
    "    \n",
    "        # number of doors and car body type\n",
    "        door_bod = container[item].div.findAll(\"div\", {\"class\":\"item\"})[2].span\n",
    "        door_body.append(door_bod.get_text())\n",
    "    \n",
    "        # Car mileage\n",
    "        car_mileage = container[item].div.findAll(\"div\", {\"class\":\"item\"})[3].span\n",
    "        mileage.append(car_mileage)\n",
    "        "
   ]
  },
  {
   "cell_type": "markdown",
   "metadata": {},
   "source": [
    "## Shape of Features"
   ]
  },
  {
   "cell_type": "code",
   "execution_count": 8,
   "metadata": {},
   "outputs": [
    {
     "name": "stdout",
     "output_type": "stream",
     "text": [
      "Rows in price: 1500\n",
      "Rows in mileage: 1500\n",
      "Rows in door count/body style: 1500\n",
      "Rows in engine size/transmission: 1500\n",
      "Rows in year/make/model: 1500\n"
     ]
    }
   ],
   "source": [
    "# lets count how many cars we have in our features it should be 10\n",
    "print(\"Rows in price:\",len(price))\n",
    "print(\"Rows in mileage:\",len(mileage))\n",
    "print(\"Rows in door count/body style:\",len(door_body))\n",
    "print(\"Rows in engine size/transmission:\",len(eng_tran))\n",
    "print(\"Rows in year/make/model:\",len(year_make_model))"
   ]
  },
  {
   "cell_type": "markdown",
   "metadata": {},
   "source": [
    "## Create Data Frame"
   ]
  },
  {
   "cell_type": "code",
   "execution_count": 9,
   "metadata": {},
   "outputs": [],
   "source": [
    "# Create the DataFrame\n",
    "saloon_df = pd.DataFrame({'price':price, \n",
    "                       'mileage':mileage, \n",
    "                       'door/body':door_body, \n",
    "                       'eng/tran':eng_tran, \n",
    "                       'year/make/model':year_make_model})"
   ]
  },
  {
   "cell_type": "code",
   "execution_count": 10,
   "metadata": {},
   "outputs": [
    {
     "data": {
      "text/html": [
       "<div>\n",
       "<style scoped>\n",
       "    .dataframe tbody tr th:only-of-type {\n",
       "        vertical-align: middle;\n",
       "    }\n",
       "\n",
       "    .dataframe tbody tr th {\n",
       "        vertical-align: top;\n",
       "    }\n",
       "\n",
       "    .dataframe thead th {\n",
       "        text-align: right;\n",
       "    }\n",
       "</style>\n",
       "<table border=\"1\" class=\"dataframe\">\n",
       "  <thead>\n",
       "    <tr style=\"text-align: right;\">\n",
       "      <th></th>\n",
       "      <th>price</th>\n",
       "      <th>mileage</th>\n",
       "      <th>door/body</th>\n",
       "      <th>eng/tran</th>\n",
       "      <th>year/make/model</th>\n",
       "    </tr>\n",
       "  </thead>\n",
       "  <tbody>\n",
       "    <tr>\n",
       "      <th>0</th>\n",
       "      <td>£23,993</td>\n",
       "      <td>[ 11,337 miles]</td>\n",
       "      <td>4 Door Saloon</td>\n",
       "      <td>1969cc Automatic</td>\n",
       "      <td>2019 Volvo S90</td>\n",
       "    </tr>\n",
       "    <tr>\n",
       "      <th>1</th>\n",
       "      <td>£9,500</td>\n",
       "      <td>[ 89,100 miles]</td>\n",
       "      <td>4 Door Saloon</td>\n",
       "      <td>1968cc Automatic</td>\n",
       "      <td>2016 Volkswagen Passat</td>\n",
       "    </tr>\n",
       "    <tr>\n",
       "      <th>2</th>\n",
       "      <td>£30,498</td>\n",
       "      <td>[ 9 miles]</td>\n",
       "      <td>4 Door Saloon</td>\n",
       "      <td>1395cc Automatic</td>\n",
       "      <td>2019 Volkswagen Passat</td>\n",
       "    </tr>\n",
       "    <tr>\n",
       "      <th>3</th>\n",
       "      <td>£39,990</td>\n",
       "      <td>[ 1,612 miles]</td>\n",
       "      <td>Saloon</td>\n",
       "      <td>1969cc Automatic</td>\n",
       "      <td>2019 Volvo S60</td>\n",
       "    </tr>\n",
       "    <tr>\n",
       "      <th>4</th>\n",
       "      <td>£7,995</td>\n",
       "      <td>[ 93,000 miles]</td>\n",
       "      <td>4 Door Saloon</td>\n",
       "      <td>2993cc Automatic</td>\n",
       "      <td>2010 Jaguar XF</td>\n",
       "    </tr>\n",
       "    <tr>\n",
       "      <th>...</th>\n",
       "      <td>...</td>\n",
       "      <td>...</td>\n",
       "      <td>...</td>\n",
       "      <td>...</td>\n",
       "      <td>...</td>\n",
       "    </tr>\n",
       "    <tr>\n",
       "      <th>1495</th>\n",
       "      <td>£19,498</td>\n",
       "      <td>[ 20,575 miles]</td>\n",
       "      <td>4 Door Saloon</td>\n",
       "      <td>1395cc Automatic</td>\n",
       "      <td>2018 Audi A4</td>\n",
       "    </tr>\n",
       "    <tr>\n",
       "      <th>1496</th>\n",
       "      <td>£1,495</td>\n",
       "      <td>[ 197,562 miles]</td>\n",
       "      <td>4 Door Saloon</td>\n",
       "      <td>1997cc Manual</td>\n",
       "      <td>2008 Volvo S40</td>\n",
       "    </tr>\n",
       "    <tr>\n",
       "      <th>1497</th>\n",
       "      <td>£12,295</td>\n",
       "      <td>[ 97,600 miles]</td>\n",
       "      <td>4 Door Saloon</td>\n",
       "      <td>1995cc Automatic</td>\n",
       "      <td>BMW 3 Series</td>\n",
       "    </tr>\n",
       "    <tr>\n",
       "      <th>1498</th>\n",
       "      <td>£5,495</td>\n",
       "      <td>[ 99,501 miles]</td>\n",
       "      <td>4 Door Saloon</td>\n",
       "      <td>1968cc Manual</td>\n",
       "      <td>2012 Volkswagen Passat</td>\n",
       "    </tr>\n",
       "    <tr>\n",
       "      <th>1499</th>\n",
       "      <td>£58,450</td>\n",
       "      <td>[ 7,621 miles]</td>\n",
       "      <td>Saloon</td>\n",
       "      <td>3000cc Automatic</td>\n",
       "      <td>2019 Mercedes-Benz S Class</td>\n",
       "    </tr>\n",
       "  </tbody>\n",
       "</table>\n",
       "<p>1500 rows × 5 columns</p>\n",
       "</div>"
      ],
      "text/plain": [
       "        price           mileage       door/body           eng/tran  \\\n",
       "0     £23,993   [ 11,337 miles]   4 Door Saloon  1969cc Automatic    \n",
       "1      £9,500   [ 89,100 miles]   4 Door Saloon  1968cc Automatic    \n",
       "2     £30,498        [ 9 miles]   4 Door Saloon  1395cc Automatic    \n",
       "3     £39,990    [ 1,612 miles]          Saloon  1969cc Automatic    \n",
       "4      £7,995   [ 93,000 miles]   4 Door Saloon  2993cc Automatic    \n",
       "...       ...               ...             ...                ...   \n",
       "1495  £19,498   [ 20,575 miles]   4 Door Saloon  1395cc Automatic    \n",
       "1496   £1,495  [ 197,562 miles]   4 Door Saloon     1997cc Manual    \n",
       "1497  £12,295   [ 97,600 miles]   4 Door Saloon  1995cc Automatic    \n",
       "1498   £5,495   [ 99,501 miles]   4 Door Saloon     1968cc Manual    \n",
       "1499  £58,450    [ 7,621 miles]          Saloon  3000cc Automatic    \n",
       "\n",
       "                 year/make/model  \n",
       "0                 2019 Volvo S90  \n",
       "1         2016 Volkswagen Passat  \n",
       "2         2019 Volkswagen Passat  \n",
       "3                 2019 Volvo S60  \n",
       "4                 2010 Jaguar XF  \n",
       "...                          ...  \n",
       "1495                2018 Audi A4  \n",
       "1496              2008 Volvo S40  \n",
       "1497                BMW 3 Series  \n",
       "1498      2012 Volkswagen Passat  \n",
       "1499  2019 Mercedes-Benz S Class  \n",
       "\n",
       "[1500 rows x 5 columns]"
      ]
     },
     "execution_count": 10,
     "metadata": {},
     "output_type": "execute_result"
    }
   ],
   "source": [
    "saloon_df"
   ]
  },
  {
   "cell_type": "markdown",
   "metadata": {},
   "source": [
    "## Clean the Data Frame"
   ]
  },
  {
   "cell_type": "markdown",
   "metadata": {},
   "source": [
    "I can use `str.extract()` ,`str.replace()` . and `.astype(int)` to clean my data."
   ]
  },
  {
   "cell_type": "code",
   "execution_count": null,
   "metadata": {},
   "outputs": [],
   "source": []
  },
  {
   "cell_type": "markdown",
   "metadata": {},
   "source": [
    "## Save the Data Frame"
   ]
  },
  {
   "cell_type": "code",
   "execution_count": 11,
   "metadata": {},
   "outputs": [],
   "source": [
    "# Create our save directory path\n",
    "saloon_save_path = '../../Raw-Data/saloon.csv'\n",
    "saloon_df.to_csv(saloon_save_path) # running this cell multiple times overwrites save"
   ]
  },
  {
   "cell_type": "code",
   "execution_count": null,
   "metadata": {},
   "outputs": [],
   "source": []
  }
 ],
 "metadata": {
  "kernelspec": {
   "display_name": "Python 3",
   "language": "python",
   "name": "python3"
  },
  "language_info": {
   "codemirror_mode": {
    "name": "ipython",
    "version": 3
   },
   "file_extension": ".py",
   "mimetype": "text/x-python",
   "name": "python",
   "nbconvert_exporter": "python",
   "pygments_lexer": "ipython3",
   "version": "3.7.4"
  }
 },
 "nbformat": 4,
 "nbformat_minor": 4
}
