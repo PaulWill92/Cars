{
 "cells": [
  {
   "cell_type": "markdown",
   "metadata": {},
   "source": [
    "# Estates"
   ]
  },
  {
   "cell_type": "markdown",
   "metadata": {},
   "source": [
    "### Imports"
   ]
  },
  {
   "cell_type": "code",
   "execution_count": 1,
   "metadata": {},
   "outputs": [],
   "source": [
    "import pandas as pd\n",
    "import numpy as np\n",
    "\n",
    "# Webscraping libraries\n",
    "from urllib.request import urlopen # url inspector\n",
    "from bs4 import BeautifulSoup\n",
    "import re\n",
    "from selenium import webdriver # connects to chrome browser\n",
    "import warnings\n",
    "warnings.filterwarnings('ignore')\n",
    "\n",
    "# Web crawler imports\n",
    "import requests\n",
    "from requests import get\n",
    "\n",
    "# Web crawlers random seeds/time delays\n",
    "from time import sleep\n",
    "from random import randint\n",
    "\n",
    "# image viewer for cell outputs\n",
    "from IPython.display import display, Markdown, Latex, Image, display_html, HTML"
   ]
  },
  {
   "cell_type": "markdown",
   "metadata": {},
   "source": [
    "## View Cars"
   ]
  },
  {
   "cell_type": "code",
   "execution_count": 2,
   "metadata": {},
   "outputs": [],
   "source": [
    "body_type=[\"Saloon\", \n",
    "           \"Hatchback\", \n",
    "           \"Estate\", \n",
    "           \"Coupe\", \n",
    "           \"Convertible\", \n",
    "           \"4x4\", \n",
    "           \"MPV\"]"
   ]
  },
  {
   "cell_type": "code",
   "execution_count": 3,
   "metadata": {},
   "outputs": [],
   "source": [
    "my_url = 'https://www.autovillage.co.uk/used-car/filter/bodystyle/estate'\n",
    "my_client = urlopen(my_url) # open up a connection to the webpage\n",
    "image_viewer =my_client.read() # reads all the html from the webpage"
   ]
  },
  {
   "cell_type": "code",
   "execution_count": 4,
   "metadata": {},
   "outputs": [],
   "source": [
    "image_soup = BeautifulSoup(image_viewer, \"html.parser\")\n",
    "container_image = image_soup.findAll(\"div\", {\"class\":\"ucatid20\"}) # found the ucatid20 tag from inspecting webpage and selecting the entire container\n"
   ]
  },
  {
   "cell_type": "code",
   "execution_count": 5,
   "metadata": {},
   "outputs": [
    {
     "data": {
      "text/html": [
       "<img alt=\"Mercedes-Benz C Class\" src=\"https://cdn-csnetworkstock.s3.amazonaws.com/mercedes-benz/c-class/30589/33425261/mercedes-benz_c-class_1_pl.jpg\"/>"
      ],
      "text/plain": [
       "<IPython.core.display.HTML object>"
      ]
     },
     "metadata": {},
     "output_type": "display_data"
    },
    {
     "data": {
      "text/html": [
       "<img alt=\"BMW X1\" src=\"https://cdn-csnetworkstock.s3.amazonaws.com/bmw/x1/36536/33512853/bmw_x1_1_pl.jpg\"/>"
      ],
      "text/plain": [
       "<IPython.core.display.HTML object>"
      ]
     },
     "metadata": {},
     "output_type": "display_data"
    },
    {
     "data": {
      "text/html": [
       "<img alt=\"Honda CR-V\" src=\"https://cdn-csnetworkstock.s3.amazonaws.com/honda/cr-v/23228/34187474/honda_cr-v_1_pl.jpg\"/>"
      ],
      "text/plain": [
       "<IPython.core.display.HTML object>"
      ]
     },
     "metadata": {},
     "output_type": "display_data"
    },
    {
     "data": {
      "text/html": [
       "<img alt=\"Audi Q3\" src=\"https://cdn-csnetworkstock.s3.amazonaws.com/audi/q3/23910/34261249/audi_q3_1_pl.jpg\"/>"
      ],
      "text/plain": [
       "<IPython.core.display.HTML object>"
      ]
     },
     "metadata": {},
     "output_type": "display_data"
    },
    {
     "data": {
      "text/html": [
       "<img alt=\"Kia Optima\" src=\"https://cdn-csnetworkstock.s3.amazonaws.com/kia/optima/30589/34181305/kia_optima_1_pl.jpg\"/>"
      ],
      "text/plain": [
       "<IPython.core.display.HTML object>"
      ]
     },
     "metadata": {},
     "output_type": "display_data"
    },
    {
     "data": {
      "text/html": [
       "<img alt=\"Volkswagen Touareg\" src=\"https://cdn-csnetworkstock.s3.amazonaws.com/volkswagen/touareg/55137/34268897/volkswagen_touareg_1_pl.jpg\"/>"
      ],
      "text/plain": [
       "<IPython.core.display.HTML object>"
      ]
     },
     "metadata": {},
     "output_type": "display_data"
    },
    {
     "data": {
      "text/html": [
       "<img alt=\"Mercedes-Benz E Class\" src=\"https://cdn-csnetworkstock.s3.amazonaws.com/mercedes-benz/e-class/22434/34262728/mercedes-benz_e-class_1_pl.jpg\"/>"
      ],
      "text/plain": [
       "<IPython.core.display.HTML object>"
      ]
     },
     "metadata": {},
     "output_type": "display_data"
    },
    {
     "data": {
      "text/html": [
       "<img alt=\"BMW 3 Series\" src=\"https://cdn-csnetworkstock.s3.amazonaws.com/bmw/3-series/43064/33783277/bmw_3-series_1_pl.jpg\"/>"
      ],
      "text/plain": [
       "<IPython.core.display.HTML object>"
      ]
     },
     "metadata": {},
     "output_type": "display_data"
    },
    {
     "data": {
      "text/html": [
       "<img alt=\"Hyundai I40\" src=\"https://cdn-csnetworkstock.s3.amazonaws.com/hyundai/i40/29974/33890855/hyundai_i40_1_pl.jpg\"/>"
      ],
      "text/plain": [
       "<IPython.core.display.HTML object>"
      ]
     },
     "metadata": {},
     "output_type": "display_data"
    },
    {
     "data": {
      "text/html": [
       "<img alt=\"Skoda Octavia\" src=\"https://cdn-csnetworkstock.s3.amazonaws.com/skoda/octavia/22725/32152712/skoda_octavia_1_pl.jpg\"/>"
      ],
      "text/plain": [
       "<IPython.core.display.HTML object>"
      ]
     },
     "metadata": {},
     "output_type": "display_data"
    }
   ],
   "source": [
    "# Lets view our cars by using a for loop with the image flag we parsed into\n",
    "\n",
    "for item in range(0,len(container_image)):\n",
    "    display(HTML(str(container_image[item].findAll(\"div\", {\"class\":\"mb5\"})[0].img)))\n"
   ]
  },
  {
   "cell_type": "markdown",
   "metadata": {},
   "source": [
    "## Web Crawler"
   ]
  },
  {
   "cell_type": "code",
   "execution_count": 6,
   "metadata": {},
   "outputs": [],
   "source": [
    "# Features\n",
    "price =[] # car price\n",
    "year_make_model =[] # year made, brand name, model\n",
    "eng_tran =[] # engine size and transmission type\n",
    "door_body =[] # number of doors and body style\n",
    "mileage =[] # number of miles on the odometer"
   ]
  },
  {
   "cell_type": "code",
   "execution_count": 7,
   "metadata": {},
   "outputs": [],
   "source": [
    "# set up crawler (150 page test limit) to return 1,500 cars\n",
    "\n",
    "for i in range(0,150): #range of pages to scrape\n",
    "    url= 'https://www.autovillage.co.uk/used-car/page/{}/filter/bodystyle/estate'.format(i)\n",
    "    html= urlopen(url)\n",
    "    autovillage_page= html.read()\n",
    "    soup= BeautifulSoup(autovillage_page, \"html.parser\")\n",
    "    \n",
    "    \n",
    "    container= soup.findAll(\"div\", {\"class\":\"ucatid20\"})\n",
    "    container2= soup.findAll(\"div\", {\"class\":\"avprice\"})\n",
    "    \n",
    "    for item in container2:\n",
    "    #price\n",
    "        price.append(item.text)\n",
    "        # web scraper code use soup as conection\n",
    "    for item in range(0,len(container)):\n",
    "    \n",
    "        #year, make, and model\n",
    "        car_names= container[item].div.findAll(\"div\", {\"class\":\"item\"})[0]\n",
    "        year_make_model.append(car_names.get_text().strip())\n",
    "    \n",
    "        #engine size and transmission type\n",
    "        tran = container[item].div.span\n",
    "        eng_tran.append(tran.get_text())\n",
    "    \n",
    "        # number of doors and car body type\n",
    "        door_bod = container[item].div.findAll(\"div\", {\"class\":\"item\"})[2].span\n",
    "        door_body.append(door_bod.get_text())\n",
    "    \n",
    "        # Car mileage\n",
    "        car_mileage = container[item].div.findAll(\"div\", {\"class\":\"item\"})[3].span\n",
    "        mileage.append(car_mileage)"
   ]
  },
  {
   "cell_type": "markdown",
   "metadata": {},
   "source": [
    "## Shape of Features"
   ]
  },
  {
   "cell_type": "code",
   "execution_count": 8,
   "metadata": {},
   "outputs": [
    {
     "name": "stdout",
     "output_type": "stream",
     "text": [
      "Rows in price: 1500\n",
      "Rows in mileage: 1500\n",
      "Rows in door count/body style: 1500\n",
      "Rows in engine size/transmission: 1500\n",
      "Rows in year/make/model: 1500\n"
     ]
    }
   ],
   "source": [
    "# lets count how many cars we have in our features it should be 10\n",
    "print(\"Rows in price:\",len(price))\n",
    "print(\"Rows in mileage:\",len(mileage))\n",
    "print(\"Rows in door count/body style:\",len(door_body))\n",
    "print(\"Rows in engine size/transmission:\",len(eng_tran))\n",
    "print(\"Rows in year/make/model:\",len(year_make_model))"
   ]
  },
  {
   "cell_type": "markdown",
   "metadata": {},
   "source": [
    "## Create Data Frame"
   ]
  },
  {
   "cell_type": "code",
   "execution_count": 9,
   "metadata": {},
   "outputs": [],
   "source": [
    "# Create the DataFrame\n",
    "estate_df = pd.DataFrame({'price':price, \n",
    "                       'mileage':mileage, \n",
    "                       'door/body':door_body, \n",
    "                       'eng/tran':eng_tran, \n",
    "                       'year/make/model':year_make_model})"
   ]
  },
  {
   "cell_type": "code",
   "execution_count": 10,
   "metadata": {},
   "outputs": [
    {
     "data": {
      "text/html": [
       "<div>\n",
       "<style scoped>\n",
       "    .dataframe tbody tr th:only-of-type {\n",
       "        vertical-align: middle;\n",
       "    }\n",
       "\n",
       "    .dataframe tbody tr th {\n",
       "        vertical-align: top;\n",
       "    }\n",
       "\n",
       "    .dataframe thead th {\n",
       "        text-align: right;\n",
       "    }\n",
       "</style>\n",
       "<table border=\"1\" class=\"dataframe\">\n",
       "  <thead>\n",
       "    <tr style=\"text-align: right;\">\n",
       "      <th></th>\n",
       "      <th>price</th>\n",
       "      <th>mileage</th>\n",
       "      <th>door/body</th>\n",
       "      <th>eng/tran</th>\n",
       "      <th>year/make/model</th>\n",
       "    </tr>\n",
       "  </thead>\n",
       "  <tbody>\n",
       "    <tr>\n",
       "      <th>0</th>\n",
       "      <td>£16,499</td>\n",
       "      <td>[ 47,407 miles]</td>\n",
       "      <td>Estate</td>\n",
       "      <td>Manual</td>\n",
       "      <td>2015 Mercedes-Benz C Class</td>\n",
       "    </tr>\n",
       "    <tr>\n",
       "      <th>1</th>\n",
       "      <td>£19,998</td>\n",
       "      <td>[ 21,249 miles]</td>\n",
       "      <td>5 Door Estate</td>\n",
       "      <td>1995cc Automatic</td>\n",
       "      <td>2016 BMW X1</td>\n",
       "    </tr>\n",
       "    <tr>\n",
       "      <th>2</th>\n",
       "      <td>£17,795</td>\n",
       "      <td>[ 24,468 miles]</td>\n",
       "      <td>5 Door Estate</td>\n",
       "      <td>1997cc Automatic</td>\n",
       "      <td>2014 Honda CR-V</td>\n",
       "    </tr>\n",
       "    <tr>\n",
       "      <th>3</th>\n",
       "      <td>£14,500</td>\n",
       "      <td>[ 45,793 miles]</td>\n",
       "      <td>5 Door Estate</td>\n",
       "      <td>1984cc Automatic</td>\n",
       "      <td>2013 Audi Q3</td>\n",
       "    </tr>\n",
       "    <tr>\n",
       "      <th>4</th>\n",
       "      <td>£21,499</td>\n",
       "      <td>[ 5,295 miles]</td>\n",
       "      <td>5 Door Estate</td>\n",
       "      <td>1598cc Manual</td>\n",
       "      <td>2019 Kia Optima</td>\n",
       "    </tr>\n",
       "    <tr>\n",
       "      <th>...</th>\n",
       "      <td>...</td>\n",
       "      <td>...</td>\n",
       "      <td>...</td>\n",
       "      <td>...</td>\n",
       "      <td>...</td>\n",
       "    </tr>\n",
       "    <tr>\n",
       "      <th>1495</th>\n",
       "      <td>£27,000</td>\n",
       "      <td>[ 9,750 miles]</td>\n",
       "      <td>4 Door Estate</td>\n",
       "      <td>2000cc Automatic</td>\n",
       "      <td>2019 Jaguar E-Pace</td>\n",
       "    </tr>\n",
       "    <tr>\n",
       "      <th>1496</th>\n",
       "      <td>£18,745</td>\n",
       "      <td>[ 7,855 miles]</td>\n",
       "      <td>5 Door Estate</td>\n",
       "      <td>2000cc Manual</td>\n",
       "      <td>2019 Ford Focus</td>\n",
       "    </tr>\n",
       "    <tr>\n",
       "      <th>1497</th>\n",
       "      <td>£15,999</td>\n",
       "      <td>[ 18,000 miles]</td>\n",
       "      <td>5 Door Estate</td>\n",
       "      <td>1598cc Manual</td>\n",
       "      <td>2019 Kia Pro Ceed</td>\n",
       "    </tr>\n",
       "    <tr>\n",
       "      <th>1498</th>\n",
       "      <td>£6,698</td>\n",
       "      <td>[ 48,925 miles]</td>\n",
       "      <td>5 Door Estate</td>\n",
       "      <td>1200cc Manual</td>\n",
       "      <td>2016 Peugeot 2008</td>\n",
       "    </tr>\n",
       "    <tr>\n",
       "      <th>1499</th>\n",
       "      <td>£27,330</td>\n",
       "      <td>[ 10,952 miles]</td>\n",
       "      <td>5 Door Estate</td>\n",
       "      <td>2000cc Automatic</td>\n",
       "      <td>2019 Audi Q3</td>\n",
       "    </tr>\n",
       "  </tbody>\n",
       "</table>\n",
       "<p>1500 rows × 5 columns</p>\n",
       "</div>"
      ],
      "text/plain": [
       "        price          mileage       door/body           eng/tran  \\\n",
       "0     £16,499  [ 47,407 miles]          Estate            Manual    \n",
       "1     £19,998  [ 21,249 miles]   5 Door Estate  1995cc Automatic    \n",
       "2     £17,795  [ 24,468 miles]   5 Door Estate  1997cc Automatic    \n",
       "3     £14,500  [ 45,793 miles]   5 Door Estate  1984cc Automatic    \n",
       "4     £21,499   [ 5,295 miles]   5 Door Estate     1598cc Manual    \n",
       "...       ...              ...             ...                ...   \n",
       "1495  £27,000   [ 9,750 miles]   4 Door Estate  2000cc Automatic    \n",
       "1496  £18,745   [ 7,855 miles]   5 Door Estate     2000cc Manual    \n",
       "1497  £15,999  [ 18,000 miles]   5 Door Estate     1598cc Manual    \n",
       "1498   £6,698  [ 48,925 miles]   5 Door Estate     1200cc Manual    \n",
       "1499  £27,330  [ 10,952 miles]   5 Door Estate  2000cc Automatic    \n",
       "\n",
       "                 year/make/model  \n",
       "0     2015 Mercedes-Benz C Class  \n",
       "1                    2016 BMW X1  \n",
       "2                2014 Honda CR-V  \n",
       "3                   2013 Audi Q3  \n",
       "4                2019 Kia Optima  \n",
       "...                          ...  \n",
       "1495          2019 Jaguar E-Pace  \n",
       "1496             2019 Ford Focus  \n",
       "1497           2019 Kia Pro Ceed  \n",
       "1498           2016 Peugeot 2008  \n",
       "1499                2019 Audi Q3  \n",
       "\n",
       "[1500 rows x 5 columns]"
      ]
     },
     "execution_count": 10,
     "metadata": {},
     "output_type": "execute_result"
    }
   ],
   "source": [
    "estate_df"
   ]
  },
  {
   "cell_type": "markdown",
   "metadata": {},
   "source": [
    "## Clean the Data Frame"
   ]
  },
  {
   "cell_type": "markdown",
   "metadata": {},
   "source": [
    "I can use `str.extract()` ,`str.replace()` . and `.astype(int)` to clean my data."
   ]
  },
  {
   "cell_type": "code",
   "execution_count": null,
   "metadata": {},
   "outputs": [],
   "source": []
  },
  {
   "cell_type": "markdown",
   "metadata": {},
   "source": [
    "## Save the Data Frame"
   ]
  },
  {
   "cell_type": "code",
   "execution_count": 11,
   "metadata": {},
   "outputs": [],
   "source": [
    "# Create our save directory path\n",
    "estate_save_path = '../../Raw-Data/estate.csv'\n",
    "estate_df.to_csv(estate_save_path) # running this cell multiple times overwrites save"
   ]
  },
  {
   "cell_type": "code",
   "execution_count": null,
   "metadata": {},
   "outputs": [],
   "source": []
  }
 ],
 "metadata": {
  "kernelspec": {
   "display_name": "Python 3",
   "language": "python",
   "name": "python3"
  },
  "language_info": {
   "codemirror_mode": {
    "name": "ipython",
    "version": 3
   },
   "file_extension": ".py",
   "mimetype": "text/x-python",
   "name": "python",
   "nbconvert_exporter": "python",
   "pygments_lexer": "ipython3",
   "version": "3.7.4"
  }
 },
 "nbformat": 4,
 "nbformat_minor": 4
}
