{
 "cells": [
  {
   "cell_type": "markdown",
   "metadata": {},
   "source": [
    "# Coupes"
   ]
  },
  {
   "cell_type": "markdown",
   "metadata": {},
   "source": [
    "### Imports"
   ]
  },
  {
   "cell_type": "code",
   "execution_count": 1,
   "metadata": {},
   "outputs": [],
   "source": [
    "import pandas as pd\n",
    "import numpy as np\n",
    "\n",
    "# Webscraping libraries\n",
    "from urllib.request import urlopen # url inspector\n",
    "from bs4 import BeautifulSoup\n",
    "import re\n",
    "from selenium import webdriver # connects to chrome browser\n",
    "import warnings\n",
    "warnings.filterwarnings('ignore')\n",
    "\n",
    "# Web crawler imports\n",
    "import requests\n",
    "from requests import get\n",
    "\n",
    "# Web crawlers random seeds/time delays\n",
    "from time import sleep\n",
    "from random import randint\n",
    "\n",
    "# image viewer for cell outputs\n",
    "from IPython.display import display, Markdown, Latex, Image, display_html, HTML"
   ]
  },
  {
   "cell_type": "markdown",
   "metadata": {},
   "source": [
    "## View Cars"
   ]
  },
  {
   "cell_type": "code",
   "execution_count": 2,
   "metadata": {},
   "outputs": [],
   "source": [
    "body_type=[\"Saloon\", \n",
    "           \"Hatchback\", \n",
    "           \"Estate\", \n",
    "           \"Coupe\", \n",
    "           \"Convertible\", \n",
    "           \"4x4\", \n",
    "           \"MPV\"]"
   ]
  },
  {
   "cell_type": "code",
   "execution_count": 3,
   "metadata": {},
   "outputs": [],
   "source": [
    "my_url = 'https://www.autovillage.co.uk/used-car/filter/bodystyle/coupe'\n",
    "my_client = urlopen(my_url) # open up a connection to the webpage\n",
    "image_viewer =my_client.read() # reads all the html from the webpage"
   ]
  },
  {
   "cell_type": "code",
   "execution_count": 4,
   "metadata": {},
   "outputs": [],
   "source": [
    "image_soup = BeautifulSoup(image_viewer, \"html.parser\")\n",
    "container_image = image_soup.findAll(\"div\", {\"class\":\"ucatid20\"}) # found the ucatid20 tag from inspecting webpage and selecting the entire container\n"
   ]
  },
  {
   "cell_type": "code",
   "execution_count": 5,
   "metadata": {},
   "outputs": [
    {
     "data": {
      "text/html": [
       "<img alt=\"Smart Fortwo\" src=\"https://cdn-csnetworkstock.s3.amazonaws.com/smart/fortwo-coupe/26218/31086272/smart_fortwo-coupe_1_pl.jpg\"/>"
      ],
      "text/plain": [
       "<IPython.core.display.HTML object>"
      ]
     },
     "metadata": {},
     "output_type": "display_data"
    },
    {
     "data": {
      "text/html": [
       "<img alt=\"Nissan 370Z\" src=\"https://cdn-csnetworkstock.s3.amazonaws.com/nissan/370z/36578/31625681/nissan_370z_1_pl.jpg\"/>"
      ],
      "text/plain": [
       "<IPython.core.display.HTML object>"
      ]
     },
     "metadata": {},
     "output_type": "display_data"
    },
    {
     "data": {
      "text/html": [
       "<img alt=\"BMW 4 Series\" src=\"https://cdn-csnetworkstock.s3.amazonaws.com/bmw/4-series/22608/34241263/bmw_4-series_1_pl.jpg\"/>"
      ],
      "text/plain": [
       "<IPython.core.display.HTML object>"
      ]
     },
     "metadata": {},
     "output_type": "display_data"
    },
    {
     "data": {
      "text/html": [
       "<img alt=\"TVR Cerbera\" src=\"https://cdn-csnetworkstock.s3.amazonaws.com/tvr/cerbera/54951/32609219/tvr_cerbera_1_pl.jpg\"/>"
      ],
      "text/plain": [
       "<IPython.core.display.HTML object>"
      ]
     },
     "metadata": {},
     "output_type": "display_data"
    },
    {
     "data": {
      "text/html": [
       "<img alt=\"BMW 4 Series\" src=\"https://cdn-csnetworkstock.s3.amazonaws.com/bmw/4-series/43340/32421657/bmw_4-series_1_pl.jpg\"/>"
      ],
      "text/plain": [
       "<IPython.core.display.HTML object>"
      ]
     },
     "metadata": {},
     "output_type": "display_data"
    },
    {
     "data": {
      "text/html": [
       "<img alt=\"BMW Z3\" src=\"https://cdn-csnetworkstock.s3.amazonaws.com/bmw/z3/55703/33986055/bmw_z3_1_pl.jpg\"/>"
      ],
      "text/plain": [
       "<IPython.core.display.HTML object>"
      ]
     },
     "metadata": {},
     "output_type": "display_data"
    },
    {
     "data": {
      "text/html": [
       "<img alt=\"Vauxhall GTC\" src=\"https://cdn-csnetworkstock.s3.amazonaws.com/vauxhall/gtc/28687/33919888/vauxhall_gtc_1_pl.jpg\"/>"
      ],
      "text/plain": [
       "<IPython.core.display.HTML object>"
      ]
     },
     "metadata": {},
     "output_type": "display_data"
    },
    {
     "data": {
      "text/html": [
       "<img alt=\"Lamborghini Huracan\" src=\"https://cdn-csnetworkstock.s3.amazonaws.com/lamborghini/huracan/55580/33853761/lamborghini_huracan_1_pl.jpg\"/>"
      ],
      "text/plain": [
       "<IPython.core.display.HTML object>"
      ]
     },
     "metadata": {},
     "output_type": "display_data"
    },
    {
     "data": {
      "text/html": [
       "<img alt=\"BMW 2 Series\" src=\"https://cdn-csnetworkstock.s3.amazonaws.com/bmw/2-series/22460/34204129/bmw_2-series_1_pl.jpg\"/>"
      ],
      "text/plain": [
       "<IPython.core.display.HTML object>"
      ]
     },
     "metadata": {},
     "output_type": "display_data"
    },
    {
     "data": {
      "text/html": [
       "<img alt=\"Mercedes-Benz CLA Class\" src=\"https://cdn-csnetworkstock.s3.amazonaws.com/mercedes-benz/cla-class/30519/34224115/mercedes-benz_cla-class_1_pl.jpg\"/>"
      ],
      "text/plain": [
       "<IPython.core.display.HTML object>"
      ]
     },
     "metadata": {},
     "output_type": "display_data"
    }
   ],
   "source": [
    "# Lets view our cars by using a for loop with the image flag we parsed into\n",
    "\n",
    "for item in range(0,len(container_image)):\n",
    "    display(HTML(str(container_image[item].findAll(\"div\", {\"class\":\"mb5\"})[0].img)))\n"
   ]
  },
  {
   "cell_type": "markdown",
   "metadata": {},
   "source": [
    "## Web Crawler"
   ]
  },
  {
   "cell_type": "code",
   "execution_count": 6,
   "metadata": {},
   "outputs": [],
   "source": [
    "# Features\n",
    "price =[] # car price\n",
    "year_make_model =[] # year made, brand name, model\n",
    "eng_tran =[] # engine size and transmission type\n",
    "door_body =[] # number of doors and body style\n",
    "mileage =[] # number of miles on the odometer"
   ]
  },
  {
   "cell_type": "code",
   "execution_count": 7,
   "metadata": {},
   "outputs": [],
   "source": [
    "# set up crawler (150 page test limit) to return 1,500 cars\n",
    "\n",
    "for i in range(0,150): #range of pages to scrape\n",
    "    url= 'https://www.autovillage.co.uk/used-car/page/{}/filter/bodystyle/coupe'.format(i)\n",
    "    html= urlopen(url)\n",
    "    autovillage_page= html.read()\n",
    "    soup= BeautifulSoup(autovillage_page, \"html.parser\")\n",
    "    \n",
    "    \n",
    "    container= soup.findAll(\"div\", {\"class\":\"ucatid20\"})\n",
    "    container2= soup.findAll(\"div\", {\"class\":\"avprice\"})\n",
    "    \n",
    "    for item in container2:\n",
    "    #price\n",
    "        price.append(item.text)\n",
    "        # web scraper code use soup as conection\n",
    "    for item in range(0,len(container)):\n",
    "    \n",
    "        #year, make, and model\n",
    "        car_names= container[item].div.findAll(\"div\", {\"class\":\"item\"})[0]\n",
    "        year_make_model.append(car_names.get_text().strip())\n",
    "    \n",
    "        #engine size and transmission type\n",
    "        tran = container[item].div.span\n",
    "        eng_tran.append(tran.get_text())\n",
    "    \n",
    "        # number of doors and car body type\n",
    "        door_bod = container[item].div.findAll(\"div\", {\"class\":\"item\"})[2].span\n",
    "        door_body.append(door_bod.get_text())\n",
    "    \n",
    "        # Car mileage\n",
    "        car_mileage = container[item].div.findAll(\"div\", {\"class\":\"item\"})[3].span\n",
    "        mileage.append(car_mileage)"
   ]
  },
  {
   "cell_type": "markdown",
   "metadata": {},
   "source": [
    "## Shape of Features"
   ]
  },
  {
   "cell_type": "code",
   "execution_count": 8,
   "metadata": {},
   "outputs": [
    {
     "name": "stdout",
     "output_type": "stream",
     "text": [
      "Rows in price: 1500\n",
      "Rows in mileage: 1500\n",
      "Rows in door count/body style: 1500\n",
      "Rows in engine size/transmission: 1500\n",
      "Rows in year/make/model: 1500\n"
     ]
    }
   ],
   "source": [
    "# lets count how many cars we have in our features it should be 10\n",
    "print(\"Rows in price:\",len(price))\n",
    "print(\"Rows in mileage:\",len(mileage))\n",
    "print(\"Rows in door count/body style:\",len(door_body))\n",
    "print(\"Rows in engine size/transmission:\",len(eng_tran))\n",
    "print(\"Rows in year/make/model:\",len(year_make_model))"
   ]
  },
  {
   "cell_type": "markdown",
   "metadata": {},
   "source": [
    "## Create Data Frame"
   ]
  },
  {
   "cell_type": "code",
   "execution_count": 9,
   "metadata": {},
   "outputs": [],
   "source": [
    "# Create the DataFrame\n",
    "coupe_df = pd.DataFrame({'price':price, \n",
    "                       'mileage':mileage, \n",
    "                       'door/body':door_body, \n",
    "                       'eng/tran':eng_tran, \n",
    "                       'year/make/model':year_make_model})"
   ]
  },
  {
   "cell_type": "code",
   "execution_count": 10,
   "metadata": {},
   "outputs": [
    {
     "data": {
      "text/html": [
       "<div>\n",
       "<style scoped>\n",
       "    .dataframe tbody tr th:only-of-type {\n",
       "        vertical-align: middle;\n",
       "    }\n",
       "\n",
       "    .dataframe tbody tr th {\n",
       "        vertical-align: top;\n",
       "    }\n",
       "\n",
       "    .dataframe thead th {\n",
       "        text-align: right;\n",
       "    }\n",
       "</style>\n",
       "<table border=\"1\" class=\"dataframe\">\n",
       "  <thead>\n",
       "    <tr style=\"text-align: right;\">\n",
       "      <th></th>\n",
       "      <th>price</th>\n",
       "      <th>mileage</th>\n",
       "      <th>door/body</th>\n",
       "      <th>eng/tran</th>\n",
       "      <th>year/make/model</th>\n",
       "    </tr>\n",
       "  </thead>\n",
       "  <tbody>\n",
       "    <tr>\n",
       "      <th>0</th>\n",
       "      <td>£11,250</td>\n",
       "      <td>[ 2,460 miles]</td>\n",
       "      <td>2 Door Coupe</td>\n",
       "      <td>1000cc Automatic</td>\n",
       "      <td>2019 Smart Fortwo</td>\n",
       "    </tr>\n",
       "    <tr>\n",
       "      <th>1</th>\n",
       "      <td>£26,990</td>\n",
       "      <td>[ 1,350 miles]</td>\n",
       "      <td>3 Door Coupe</td>\n",
       "      <td>3700cc Manual</td>\n",
       "      <td>2019 Nissan 370Z</td>\n",
       "    </tr>\n",
       "    <tr>\n",
       "      <th>2</th>\n",
       "      <td>£18,300</td>\n",
       "      <td>[ 18,064 miles]</td>\n",
       "      <td>2 Door Coupe</td>\n",
       "      <td>1995cc Automatic</td>\n",
       "      <td>2017 BMW 4 Series</td>\n",
       "    </tr>\n",
       "    <tr>\n",
       "      <th>3</th>\n",
       "      <td>£23,665</td>\n",
       "      <td>[ 39,600 miles]</td>\n",
       "      <td>Coupe</td>\n",
       "      <td>4000cc Manual</td>\n",
       "      <td>1999 TVR Cerbera</td>\n",
       "    </tr>\n",
       "    <tr>\n",
       "      <th>4</th>\n",
       "      <td>£10,379</td>\n",
       "      <td>[ 93,500 miles]</td>\n",
       "      <td>5 Door Coupe</td>\n",
       "      <td>1995cc Automatic</td>\n",
       "      <td>2015 BMW 4 Series</td>\n",
       "    </tr>\n",
       "    <tr>\n",
       "      <th>...</th>\n",
       "      <td>...</td>\n",
       "      <td>...</td>\n",
       "      <td>...</td>\n",
       "      <td>...</td>\n",
       "      <td>...</td>\n",
       "    </tr>\n",
       "    <tr>\n",
       "      <th>1495</th>\n",
       "      <td>£114,077</td>\n",
       "      <td>[ 24,300 miles]</td>\n",
       "      <td>2 Door Coupe</td>\n",
       "      <td>6600cc Automatic</td>\n",
       "      <td>2014 Rolls-Royce Wraith</td>\n",
       "    </tr>\n",
       "    <tr>\n",
       "      <th>1496</th>\n",
       "      <td>£6,340</td>\n",
       "      <td>[ 34,779 miles]</td>\n",
       "      <td>3 Door Coupe</td>\n",
       "      <td>999cc Manual</td>\n",
       "      <td>2016 Seat Ibiza</td>\n",
       "    </tr>\n",
       "    <tr>\n",
       "      <th>1497</th>\n",
       "      <td>£69,995</td>\n",
       "      <td>[ 79,000 miles]</td>\n",
       "      <td>2 Door Coupe</td>\n",
       "      <td>5343cc Manual</td>\n",
       "      <td>1973 Jaguar E-Type</td>\n",
       "    </tr>\n",
       "    <tr>\n",
       "      <th>1498</th>\n",
       "      <td>£22,790</td>\n",
       "      <td>[ 123 miles]</td>\n",
       "      <td>2 Door Coupe</td>\n",
       "      <td>Manual</td>\n",
       "      <td>2019 BMW 2 Series</td>\n",
       "    </tr>\n",
       "    <tr>\n",
       "      <th>1499</th>\n",
       "      <td>£94,949</td>\n",
       "      <td>[ 5,964 miles]</td>\n",
       "      <td>Coupe</td>\n",
       "      <td>4900cc Manual</td>\n",
       "      <td>2018 Ferrari Testarossa</td>\n",
       "    </tr>\n",
       "  </tbody>\n",
       "</table>\n",
       "<p>1500 rows × 5 columns</p>\n",
       "</div>"
      ],
      "text/plain": [
       "         price          mileage      door/body           eng/tran  \\\n",
       "0      £11,250   [ 2,460 miles]   2 Door Coupe  1000cc Automatic    \n",
       "1      £26,990   [ 1,350 miles]   3 Door Coupe     3700cc Manual    \n",
       "2      £18,300  [ 18,064 miles]   2 Door Coupe  1995cc Automatic    \n",
       "3      £23,665  [ 39,600 miles]          Coupe     4000cc Manual    \n",
       "4      £10,379  [ 93,500 miles]   5 Door Coupe  1995cc Automatic    \n",
       "...        ...              ...            ...                ...   \n",
       "1495  £114,077  [ 24,300 miles]   2 Door Coupe  6600cc Automatic    \n",
       "1496    £6,340  [ 34,779 miles]   3 Door Coupe      999cc Manual    \n",
       "1497   £69,995  [ 79,000 miles]   2 Door Coupe     5343cc Manual    \n",
       "1498   £22,790     [ 123 miles]   2 Door Coupe            Manual    \n",
       "1499   £94,949   [ 5,964 miles]          Coupe     4900cc Manual    \n",
       "\n",
       "              year/make/model  \n",
       "0           2019 Smart Fortwo  \n",
       "1            2019 Nissan 370Z  \n",
       "2           2017 BMW 4 Series  \n",
       "3            1999 TVR Cerbera  \n",
       "4           2015 BMW 4 Series  \n",
       "...                       ...  \n",
       "1495  2014 Rolls-Royce Wraith  \n",
       "1496          2016 Seat Ibiza  \n",
       "1497       1973 Jaguar E-Type  \n",
       "1498        2019 BMW 2 Series  \n",
       "1499  2018 Ferrari Testarossa  \n",
       "\n",
       "[1500 rows x 5 columns]"
      ]
     },
     "execution_count": 10,
     "metadata": {},
     "output_type": "execute_result"
    }
   ],
   "source": [
    "coupe_df"
   ]
  },
  {
   "cell_type": "markdown",
   "metadata": {},
   "source": [
    "## Clean the Data Frame"
   ]
  },
  {
   "cell_type": "markdown",
   "metadata": {},
   "source": [
    "I can use `str.extract()` ,`str.replace()` . and `.astype(int)` to clean my data."
   ]
  },
  {
   "cell_type": "code",
   "execution_count": null,
   "metadata": {},
   "outputs": [],
   "source": []
  },
  {
   "cell_type": "markdown",
   "metadata": {},
   "source": [
    "## Save the Data Frame"
   ]
  },
  {
   "cell_type": "code",
   "execution_count": 11,
   "metadata": {},
   "outputs": [],
   "source": [
    "# Create our save directory path\n",
    "coupe_save_path = '../../Raw-Data/coupe.csv'\n",
    "coupe_df.to_csv(coupe_save_path) # running this cell multiple times overwrites save"
   ]
  },
  {
   "cell_type": "code",
   "execution_count": null,
   "metadata": {},
   "outputs": [],
   "source": []
  }
 ],
 "metadata": {
  "kernelspec": {
   "display_name": "Python 3",
   "language": "python",
   "name": "python3"
  },
  "language_info": {
   "codemirror_mode": {
    "name": "ipython",
    "version": 3
   },
   "file_extension": ".py",
   "mimetype": "text/x-python",
   "name": "python",
   "nbconvert_exporter": "python",
   "pygments_lexer": "ipython3",
   "version": "3.7.4"
  }
 },
 "nbformat": 4,
 "nbformat_minor": 4
}
