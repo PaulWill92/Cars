{
 "cells": [
  {
   "cell_type": "markdown",
   "metadata": {},
   "source": [
    "# Gathering data\n",
    "\n",
    "I will use my automated webcrawler program to gather and clean my data set so that I can explore it and model on it."
   ]
  },
  {
   "cell_type": "markdown",
   "metadata": {},
   "source": [
    "## Imports needed"
   ]
  },
  {
   "cell_type": "code",
   "execution_count": 1,
   "metadata": {},
   "outputs": [
    {
     "name": "stderr",
     "output_type": "stream",
     "text": [
      "/Users/paulwilliams/opt/anaconda3/lib/python3.7/site-packages/statsmodels/tools/_testing.py:19: FutureWarning: pandas.util.testing is deprecated. Use the functions in the public API at pandas.testing instead.\n",
      "  import pandas.util.testing as tm\n"
     ]
    }
   ],
   "source": [
    "from webcrawler import autovillage_crawler\n",
    "import pandas as pd\n",
    "import numpy as np\n",
    "import matplotlib.pyplot as plt\n",
    "import seaborn as sns"
   ]
  },
  {
   "cell_type": "markdown",
   "metadata": {},
   "source": [
    "## Data acquisition \n",
    "With the program I made, I should be able to set my crawler as a variable to be able to play around with the data in a jupyter notebook as a normal pandas data frame. I will use my save feature to save the scraped data frame as a csv file so I can reference it in other jupyter notebooks for data exploration and data cleaning."
   ]
  },
  {
   "cell_type": "code",
   "execution_count": 2,
   "metadata": {},
   "outputs": [
    {
     "name": "stdout",
     "output_type": "stream",
     "text": [
      "\n",
      "     Auto Village Webscraper! - Version 1.1\n",
      "    \n",
      "     A car web scraping program created by Paul Aleksis Williams.\n",
      "    \n",
      "     Program description:\n",
      "    \n",
      "    \n",
      "     This programs scrapes cars listed on the autovillage.co.uk website, cleans the\n",
      "     entries, drops duplicated entries, drops entries with missing values, and\n",
      "     returns a data frame that contains 1 target variable and 8 features.\n",
      "    \n",
      "    \n",
      "     Program inputs:\n",
      "    \n",
      "     1. Input a car manufacturer name or leave blank for all manufacturers.\n",
      "        please use a hyphen for names with spaces (mercedes-benz)\n",
      "    \n",
      "     2. Input the body style of cars you want to scrape ot leave empty for all.\n",
      "       options: saloon, hatchback, 4x4, estate, coupe, convertible, mpv. For\n",
      "       multiple styles seperate input with a comma.\n",
      "    \n",
      "     3. Input the number of pages to scrape there are 10 cars per page. If left\n",
      "       blank, it will scrape 1 page per body style.\n",
      "    \n",
      "     4. Input a name for the file to save it as a csv in the current directory.\n",
      "       If left blank, It will not save but you can set it as a variable to view\n",
      "       the table.\n",
      "       \n",
      "       \n",
      "     Program output:\n",
      "    \n",
      "    \n",
      "     The function returns a cleaned data frame of cars scraped from autovillage.co.uk\n",
      "     dropping all the missing values within the websites interface, and removing any\n",
      "     duplicated cars.\n",
      "    \n",
      "    \n",
      "     Program save feature:\n",
      "    \n",
      "    \n",
      "     You can leave the save input empty and the file will not be saved.\n",
      "    \n",
      "     You can set a variable for this function in jupyter notebooks and manipulate\n",
      "     the created pandas object as normal.\n",
      "    \n",
      "    \n",
      "    \n",
      "    \n",
      "\n",
      "\n",
      "Inputs:\n",
      "------------------------------------------------------------------------------------------------------\n"
     ]
    },
    {
     "name": "stdin",
     "output_type": "stream",
     "text": [
      "Enter a car brand you are interested in (leave blank for all):  \n",
      "Enter a body style (or leave blank for all):  \n",
      "Enter the amount of pages you want to scrape (or leave blank for 1):  150\n"
     ]
    },
    {
     "name": "stderr",
     "output_type": "stream",
     "text": [
      "  0%|          | 0/150 [00:00<?, ?it/s]"
     ]
    },
    {
     "name": "stdout",
     "output_type": "stream",
     "text": [
      "\n",
      "\n",
      "ETA of process:\n",
      "------------------------------------------------------------------------------------------------------\n",
      "7 cycles of 150 pages:\n",
      "Expecting: ~ 10500 cars\n"
     ]
    },
    {
     "name": "stderr",
     "output_type": "stream",
     "text": [
      "100%|██████████| 150/150 [01:25<00:00,  1.76it/s]\n",
      "100%|██████████| 150/150 [02:04<00:00,  1.21it/s]\n",
      "100%|██████████| 150/150 [01:15<00:00,  1.98it/s]\n",
      "100%|██████████| 150/150 [01:41<00:00,  1.48it/s]\n",
      "100%|██████████| 150/150 [01:42<00:00,  1.46it/s]\n",
      "100%|██████████| 150/150 [01:32<00:00,  1.63it/s]\n",
      "100%|██████████| 150/150 [01:22<00:00,  1.82it/s]\n"
     ]
    },
    {
     "name": "stdout",
     "output_type": "stream",
     "text": [
      "\n",
      "\n",
      "Output:\n",
      "------------------------------------------------------------------------------------------------------\n",
      "Done! you scraped:  9699 cars!\n",
      "801 cars were dropped due to poor format\n"
     ]
    },
    {
     "name": "stdin",
     "output_type": "stream",
     "text": [
      "Name to save file as (leave blank to not save):  cars3\n"
     ]
    },
    {
     "name": "stdout",
     "output_type": "stream",
     "text": [
      "------------------------------------------------------------------------------------------------------\n",
      "File saved as cars3.csv in the current directory!\n"
     ]
    }
   ],
   "source": [
    "df = autovillage_crawler()"
   ]
  },
  {
   "cell_type": "markdown",
   "metadata": {},
   "source": [
    "It worked! and my csv is in my directory I will move this to my data cleaning folder."
   ]
  },
  {
   "cell_type": "markdown",
   "metadata": {},
   "source": [
    "## Viewing that data frame\n",
    "I want to see what different brands and body styles of cars that I scraped."
   ]
  },
  {
   "cell_type": "code",
   "execution_count": 3,
   "metadata": {},
   "outputs": [
    {
     "data": {
      "text/html": [
       "<div>\n",
       "<style scoped>\n",
       "    .dataframe tbody tr th:only-of-type {\n",
       "        vertical-align: middle;\n",
       "    }\n",
       "\n",
       "    .dataframe tbody tr th {\n",
       "        vertical-align: top;\n",
       "    }\n",
       "\n",
       "    .dataframe thead th {\n",
       "        text-align: right;\n",
       "    }\n",
       "</style>\n",
       "<table border=\"1\" class=\"dataframe\">\n",
       "  <thead>\n",
       "    <tr style=\"text-align: right;\">\n",
       "      <th></th>\n",
       "      <th>price(£)</th>\n",
       "      <th>mileage(mi)</th>\n",
       "      <th>door_count</th>\n",
       "      <th>body_style</th>\n",
       "      <th>engine_size(cc)</th>\n",
       "      <th>transmission</th>\n",
       "      <th>year</th>\n",
       "      <th>brand</th>\n",
       "      <th>model</th>\n",
       "    </tr>\n",
       "  </thead>\n",
       "  <tbody>\n",
       "    <tr>\n",
       "      <th>0</th>\n",
       "      <td>2481</td>\n",
       "      <td>123000.0</td>\n",
       "      <td>4.0</td>\n",
       "      <td>Saloon</td>\n",
       "      <td>1968.0</td>\n",
       "      <td>Manual</td>\n",
       "      <td>2009.0</td>\n",
       "      <td>Seat</td>\n",
       "      <td>Exeo</td>\n",
       "    </tr>\n",
       "    <tr>\n",
       "      <th>1</th>\n",
       "      <td>10000</td>\n",
       "      <td>86800.0</td>\n",
       "      <td>4.0</td>\n",
       "      <td>Saloon</td>\n",
       "      <td>1995.0</td>\n",
       "      <td>Manual</td>\n",
       "      <td>2016.0</td>\n",
       "      <td>BMW</td>\n",
       "      <td>3</td>\n",
       "    </tr>\n",
       "    <tr>\n",
       "      <th>3</th>\n",
       "      <td>9495</td>\n",
       "      <td>39000.0</td>\n",
       "      <td>4.0</td>\n",
       "      <td>Saloon</td>\n",
       "      <td>1796.0</td>\n",
       "      <td>Automatic</td>\n",
       "      <td>2011.0</td>\n",
       "      <td>Mercedes-Benz</td>\n",
       "      <td>C</td>\n",
       "    </tr>\n",
       "    <tr>\n",
       "      <th>4</th>\n",
       "      <td>22910</td>\n",
       "      <td>25596.0</td>\n",
       "      <td>4.0</td>\n",
       "      <td>Saloon</td>\n",
       "      <td>2993.0</td>\n",
       "      <td>Automatic</td>\n",
       "      <td>2016.0</td>\n",
       "      <td>BMW</td>\n",
       "      <td>6</td>\n",
       "    </tr>\n",
       "    <tr>\n",
       "      <th>5</th>\n",
       "      <td>9995</td>\n",
       "      <td>63000.0</td>\n",
       "      <td>4.0</td>\n",
       "      <td>Saloon</td>\n",
       "      <td>1598.0</td>\n",
       "      <td>Manual</td>\n",
       "      <td>2015.0</td>\n",
       "      <td>Volkswagen</td>\n",
       "      <td>Passat</td>\n",
       "    </tr>\n",
       "  </tbody>\n",
       "</table>\n",
       "</div>"
      ],
      "text/plain": [
       "   price(£)  mileage(mi)  door_count body_style  engine_size(cc) transmission  \\\n",
       "0      2481     123000.0         4.0     Saloon           1968.0       Manual   \n",
       "1     10000      86800.0         4.0     Saloon           1995.0       Manual   \n",
       "3      9495      39000.0         4.0     Saloon           1796.0    Automatic   \n",
       "4     22910      25596.0         4.0     Saloon           2993.0    Automatic   \n",
       "5      9995      63000.0         4.0     Saloon           1598.0       Manual   \n",
       "\n",
       "     year          brand   model  \n",
       "0  2009.0           Seat    Exeo  \n",
       "1  2016.0            BMW       3  \n",
       "3  2011.0  Mercedes-Benz       C  \n",
       "4  2016.0            BMW       6  \n",
       "5  2015.0     Volkswagen  Passat  "
      ]
     },
     "execution_count": 3,
     "metadata": {},
     "output_type": "execute_result"
    }
   ],
   "source": [
    "df.head()"
   ]
  },
  {
   "cell_type": "code",
   "execution_count": 4,
   "metadata": {},
   "outputs": [
    {
     "data": {
      "text/plain": [
       "Hatchback      1424\n",
       "Estate         1411\n",
       "MPV            1406\n",
       "Saloon         1376\n",
       "4x4            1366\n",
       "Coupe          1360\n",
       "Convertible    1356\n",
       "Name: body_style, dtype: int64"
      ]
     },
     "execution_count": 4,
     "metadata": {},
     "output_type": "execute_result"
    }
   ],
   "source": [
    "df['body_style'].value_counts()"
   ]
  },
  {
   "cell_type": "code",
   "execution_count": 5,
   "metadata": {},
   "outputs": [
    {
     "data": {
      "text/plain": [
       "Mercedes-Benz    1326\n",
       "BMW              1106\n",
       "Audi              872\n",
       "Ford              752\n",
       "Vauxhall          645\n",
       "Volkswagen        643\n",
       "Volvo             398\n",
       "Land-Rover        359\n",
       "Jaguar            312\n",
       "Citroen           305\n",
       "Kia               245\n",
       "Nissan            244\n",
       "Peugeot           244\n",
       "Hyundai           235\n",
       "Renault           206\n",
       "Toyota            196\n",
       "Mini              168\n",
       "Mazda             161\n",
       "Seat              138\n",
       "Fiat              125\n",
       "Honda             124\n",
       "Porsche           123\n",
       "Skoda             119\n",
       "Mitsubishi         65\n",
       "Suzuki             64\n",
       "Lexus              63\n",
       "Aston-Martin       45\n",
       "Bentley            45\n",
       "Ferrari            41\n",
       "Smart              41\n",
       "Jeep               40\n",
       "Dacia              35\n",
       "Alfa-Romeo         27\n",
       "Saab               26\n",
       "Lamborghini        24\n",
       "Mg                 18\n",
       "Ds                 17\n",
       "Subaru             15\n",
       "Maserati           14\n",
       "Ssangyong          13\n",
       "Lotus               9\n",
       "Infiniti            8\n",
       "Rolls-Royce         8\n",
       "Chevrolet           7\n",
       "Mclaren             5\n",
       "Triumph             4\n",
       "Chrysler            4\n",
       "Dodge               3\n",
       "Morgan              2\n",
       "TVR                 2\n",
       "Austin              1\n",
       "Noble               1\n",
       "AC                  1\n",
       "Lancia              1\n",
       "Caterham            1\n",
       "Isuzu               1\n",
       "Daihatsu            1\n",
       "Rover               1\n",
       "Name: brand, dtype: int64"
      ]
     },
     "execution_count": 5,
     "metadata": {},
     "output_type": "execute_result"
    }
   ],
   "source": [
    "df['brand'].value_counts()"
   ]
  },
  {
   "cell_type": "markdown",
   "metadata": {},
   "source": [
    "## Conclusion\n",
    "\n",
    "The webcrawling program I made worked! I am able to use the data gathered from my website to perform exploratory data analysis, and modeling in my other notebooks. Since this program has many features allowing me to scrape specific brands and body styles, I can run this as many times as a want to aquire more data to retrain my model."
   ]
  },
  {
   "cell_type": "code",
   "execution_count": null,
   "metadata": {},
   "outputs": [],
   "source": []
  }
 ],
 "metadata": {
  "kernelspec": {
   "display_name": "Python 3.7.4 64-bit ('base': conda)",
   "language": "python",
   "name": "python37464bitbaseconda46a7e23ef9464d029413b43f97b86682"
  },
  "language_info": {
   "codemirror_mode": {
    "name": "ipython",
    "version": 3
   },
   "file_extension": ".py",
   "mimetype": "text/x-python",
   "name": "python",
   "nbconvert_exporter": "python",
   "pygments_lexer": "ipython3",
   "version": "3.7.4"
  }
 },
 "nbformat": 4,
 "nbformat_minor": 4
}
