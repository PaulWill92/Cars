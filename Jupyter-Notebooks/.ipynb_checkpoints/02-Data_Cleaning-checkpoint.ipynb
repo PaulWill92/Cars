{
 "cells": [
  {
   "cell_type": "markdown",
   "metadata": {},
   "source": [
    "# Data Cleaning\n",
    "In this notebook I will be concatenating my dataframes and cleaning my features. Most of my features are in single columns as strings so I will need to use string manipulation to extract them. <br>\n",
    "I can use `str.extract()` ,`str.replace()` , and `.astype(int)` to clean my data."
   ]
  },
  {
   "cell_type": "markdown",
   "metadata": {},
   "source": [
    "### Library and module Imports\n",
    "Packages and modules that will aid me in data cleaning."
   ]
  },
  {
   "cell_type": "code",
   "execution_count": 1,
   "metadata": {},
   "outputs": [],
   "source": [
    "import pandas as pd\n",
    "import numpy as np\n",
    "import glob\n",
    "\n",
    "import re\n",
    "\n",
    "import feature_engine as fe"
   ]
  },
  {
   "cell_type": "markdown",
   "metadata": {},
   "source": [
    "## Import the Data sets\n",
    "I will be working from multiple csv files so I will begin by storing their directory paths as a variable and using a for loop into the `pd.read_csv()` function , storing them in a temporary container, and finally concatenating them."
   ]
  },
  {
   "cell_type": "code",
   "execution_count": 2,
   "metadata": {},
   "outputs": [
    {
     "data": {
      "text/plain": [
       "['../Raw-Data/estate.csv',\n",
       " '../Raw-Data/mpv.csv',\n",
       " '../Raw-Data/car_practice13.csv',\n",
       " '../Raw-Data/coupe.csv',\n",
       " '../Raw-Data/hatchback.csv',\n",
       " '../Raw-Data/car_practice.csv',\n",
       " '../Raw-Data/4x4.csv',\n",
       " '../Raw-Data/convertible.csv',\n",
       " '../Raw-Data/saloon.csv']"
      ]
     },
     "execution_count": 2,
     "metadata": {},
     "output_type": "execute_result"
    }
   ],
   "source": [
    "# Create path to my data file directory\n",
    "path= r\"../Raw-Data/\"\n",
    "\n",
    "# store that path as a variable\n",
    "csv_files = glob.glob(path + \"/*csv\")\n",
    "\n",
    "# this list of data file directories will be passed into the read_csv function\n",
    "csv_files"
   ]
  },
  {
   "cell_type": "code",
   "execution_count": 3,
   "metadata": {},
   "outputs": [],
   "source": [
    "# create a container to hold the data frame objects so i can concatenate them into one\n",
    "df_container= []\n",
    "\n",
    "for filename in csv_files:\n",
    "    \n",
    "    # read each csv as a dataframe\n",
    "    df = pd.read_csv(filename)\n",
    "    \n",
    "    # store each dataframe in our container list\n",
    "    df_container.append(df)\n",
    "    \n",
    "# concatenate out containers    \n",
    "df = pd.concat(df_container, axis=0, ignore_index=True)"
   ]
  },
  {
   "cell_type": "code",
   "execution_count": 4,
   "metadata": {},
   "outputs": [],
   "source": [
    "# drop our unnamed column run this cell only once\n",
    "df.drop(['Unnamed: 0'], axis=1, inplace=True)"
   ]
  },
  {
   "cell_type": "code",
   "execution_count": 5,
   "metadata": {},
   "outputs": [
    {
     "data": {
      "text/html": [
       "<div>\n",
       "<style scoped>\n",
       "    .dataframe tbody tr th:only-of-type {\n",
       "        vertical-align: middle;\n",
       "    }\n",
       "\n",
       "    .dataframe tbody tr th {\n",
       "        vertical-align: top;\n",
       "    }\n",
       "\n",
       "    .dataframe thead th {\n",
       "        text-align: right;\n",
       "    }\n",
       "</style>\n",
       "<table border=\"1\" class=\"dataframe\">\n",
       "  <thead>\n",
       "    <tr style=\"text-align: right;\">\n",
       "      <th></th>\n",
       "      <th>price</th>\n",
       "      <th>mileage</th>\n",
       "      <th>door/body</th>\n",
       "      <th>eng/tran</th>\n",
       "      <th>year/make/model</th>\n",
       "    </tr>\n",
       "  </thead>\n",
       "  <tbody>\n",
       "    <tr>\n",
       "      <th>0</th>\n",
       "      <td>£16,499</td>\n",
       "      <td>&lt;span&gt; 47,407 miles&lt;/span&gt;</td>\n",
       "      <td>Estate</td>\n",
       "      <td>Manual</td>\n",
       "      <td>2015 Mercedes-Benz C Class</td>\n",
       "    </tr>\n",
       "    <tr>\n",
       "      <th>1</th>\n",
       "      <td>£19,998</td>\n",
       "      <td>&lt;span&gt; 21,249 miles&lt;/span&gt;</td>\n",
       "      <td>5 Door Estate</td>\n",
       "      <td>1995cc Automatic</td>\n",
       "      <td>2016 BMW X1</td>\n",
       "    </tr>\n",
       "    <tr>\n",
       "      <th>2</th>\n",
       "      <td>£17,795</td>\n",
       "      <td>&lt;span&gt; 24,468 miles&lt;/span&gt;</td>\n",
       "      <td>5 Door Estate</td>\n",
       "      <td>1997cc Automatic</td>\n",
       "      <td>2014 Honda CR-V</td>\n",
       "    </tr>\n",
       "    <tr>\n",
       "      <th>3</th>\n",
       "      <td>£14,500</td>\n",
       "      <td>&lt;span&gt; 45,793 miles&lt;/span&gt;</td>\n",
       "      <td>5 Door Estate</td>\n",
       "      <td>1984cc Automatic</td>\n",
       "      <td>2013 Audi Q3</td>\n",
       "    </tr>\n",
       "    <tr>\n",
       "      <th>4</th>\n",
       "      <td>£21,499</td>\n",
       "      <td>&lt;span&gt; 5,295 miles&lt;/span&gt;</td>\n",
       "      <td>5 Door Estate</td>\n",
       "      <td>1598cc Manual</td>\n",
       "      <td>2019 Kia Optima</td>\n",
       "    </tr>\n",
       "  </tbody>\n",
       "</table>\n",
       "</div>"
      ],
      "text/plain": [
       "     price                     mileage       door/body           eng/tran  \\\n",
       "0  £16,499  <span> 47,407 miles</span>          Estate            Manual    \n",
       "1  £19,998  <span> 21,249 miles</span>   5 Door Estate  1995cc Automatic    \n",
       "2  £17,795  <span> 24,468 miles</span>   5 Door Estate  1997cc Automatic    \n",
       "3  £14,500  <span> 45,793 miles</span>   5 Door Estate  1984cc Automatic    \n",
       "4  £21,499   <span> 5,295 miles</span>   5 Door Estate     1598cc Manual    \n",
       "\n",
       "              year/make/model  \n",
       "0  2015 Mercedes-Benz C Class  \n",
       "1                 2016 BMW X1  \n",
       "2             2014 Honda CR-V  \n",
       "3                2013 Audi Q3  \n",
       "4             2019 Kia Optima  "
      ]
     },
     "execution_count": 5,
     "metadata": {},
     "output_type": "execute_result"
    }
   ],
   "source": [
    "# inspect first 5 rows of df\n",
    "df.head()"
   ]
  },
  {
   "cell_type": "markdown",
   "metadata": {},
   "source": [
    "## Feature inspection\n",
    "In this section, I will look at my multi string features to check if all the cars share similar naming formats. If they don't, it will result in incorrectly placed null values in the future which I will need to deal with later. <br>\n",
    "\n",
    "Inspect value counts to understand what problems I may run into with the string:\n"
   ]
  },
  {
   "cell_type": "code",
   "execution_count": 6,
   "metadata": {
    "scrolled": true
   },
   "outputs": [
    {
     "data": {
      "text/plain": [
       " 4 Door Saloon         1453\n",
       " 5 Door MPV            1441\n",
       " 5 Door Estate         1437\n",
       " 5 Door 4x4            1421\n",
       " 2 Door Convertible    1373\n",
       " 5 Door Hatchback      1255\n",
       " 2 Door Coupe          1027\n",
       " 3 Door Coupe           233\n",
       " 3 Door Hatchback       224\n",
       " 4 Door Coupe           132\n",
       " 5 Door Coupe            62\n",
       " Convertible             57\n",
       " Coupe                   46\n",
       " MPV                     44\n",
       " 3 Door Convertible      43\n",
       " 5 Door Saloon           41\n",
       " Estate                  38\n",
       " 4 Door 4x4              30\n",
       " 4x4                     26\n",
       " Saloon                  25\n",
       " 5 Door Convertible      23\n",
       " Hatchback               18\n",
       " 3 Door 4x4              15\n",
       " 4 Door MPV              14\n",
       " 4 Door Estate           10\n",
       " 2 Door 4x4               8\n",
       " 6 Door Estate            8\n",
       " 3 Door Estate            6\n",
       " 4 Door Convertible       4\n",
       " 4 Door Hatchback         2\n",
       " 2 Door Estate            1\n",
       " 6 Door MPV               1\n",
       " 2 Door Saloon            1\n",
       " 2 Door Hatchback         1\n",
       "Name: door/body, dtype: int64"
      ]
     },
     "execution_count": 6,
     "metadata": {},
     "output_type": "execute_result"
    }
   ],
   "source": [
    "# inspect value counts to understand what problems I may run into with the string\n",
    "\n",
    "df['door/body'].value_counts()"
   ]
  },
  {
   "cell_type": "markdown",
   "metadata": {},
   "source": [
    "I noticed that I can just drop the `Door` part of the string since I only need the door count and body style. I also noticed that some car's don't have door counts. This will lead in incorrect null values inside my future created body feature when they really should be null in my door column."
   ]
  },
  {
   "cell_type": "code",
   "execution_count": 7,
   "metadata": {
    "scrolled": true
   },
   "outputs": [
    {
     "data": {
      "text/plain": [
       "1968cc Manual        508\n",
       "1598cc Manual        505\n",
       "2000cc Automatic     443\n",
       "1995cc Automatic     333\n",
       "2143cc Automatic     332\n",
       "                    ... \n",
       "2460cc Automatic       1\n",
       "2148cc Manual          1\n",
       "3724cc Manual          1\n",
       "1840cc Manual          1\n",
       "900cc Automatic        1\n",
       "Name: eng/tran, Length: 533, dtype: int64"
      ]
     },
     "execution_count": 7,
     "metadata": {},
     "output_type": "execute_result"
    }
   ],
   "source": [
    "df['eng/tran'].value_counts()"
   ]
  },
  {
   "cell_type": "markdown",
   "metadata": {},
   "source": [
    "The same case with engine size and transmission column. I can drop cc since I only need the number not unit measure. Some cars have no entry for engine size which will give me problems later on."
   ]
  },
  {
   "cell_type": "code",
   "execution_count": 8,
   "metadata": {
    "scrolled": true
   },
   "outputs": [
    {
     "data": {
      "text/plain": [
       "2019 Mercedes-Benz C Class    111\n",
       "2016 Mercedes-Benz C Class     85\n",
       "2017 Mercedes-Benz C Class     83\n",
       "2019 Mercedes-Benz E Class     61\n",
       "2019 Volvo XC60                58\n",
       "                             ... \n",
       "2007 Ford Galaxy                1\n",
       "2018 Audi R8                    1\n",
       "Audi Q7                         1\n",
       "2019 Audi A7                    1\n",
       "2019 Aston Martin DBS           1\n",
       "Name: year/make/model, Length: 2745, dtype: int64"
      ]
     },
     "execution_count": 8,
     "metadata": {},
     "output_type": "execute_result"
    }
   ],
   "source": [
    "df['year/make/model'].value_counts()"
   ]
  },
  {
   "cell_type": "markdown",
   "metadata": {},
   "source": [
    "For the year/make/model column, My problem will be from the mercedes benz cars. I can drop the `Class` string and rename it later on. I have a couple of cars that do not provide me with years but give me the make."
   ]
  },
  {
   "cell_type": "markdown",
   "metadata": {},
   "source": [
    "## Feature Extraction\n",
    "In this section I will be doing some __feature engineering__. This data frame has a few features (as strings) inside of single columns. In this section, my goal is to extract the features from the strings and give them their own columns."
   ]
  },
  {
   "cell_type": "markdown",
   "metadata": {},
   "source": [
    "All of the data types of my features are objects (i need them to be strings, integers or floats). <br>\n",
    "I will convert the price column from an object to a string, remove the white space and £ sign then convert it into an integer.\n"
   ]
  },
  {
   "cell_type": "markdown",
   "metadata": {},
   "source": [
    "String manipulation consists of this format: `df['column_name'].str.string-manipulation-function()`."
   ]
  },
  {
   "cell_type": "code",
   "execution_count": 9,
   "metadata": {},
   "outputs": [
    {
     "data": {
      "text/html": [
       "<div>\n",
       "<style scoped>\n",
       "    .dataframe tbody tr th:only-of-type {\n",
       "        vertical-align: middle;\n",
       "    }\n",
       "\n",
       "    .dataframe tbody tr th {\n",
       "        vertical-align: top;\n",
       "    }\n",
       "\n",
       "    .dataframe thead th {\n",
       "        text-align: right;\n",
       "    }\n",
       "</style>\n",
       "<table border=\"1\" class=\"dataframe\">\n",
       "  <thead>\n",
       "    <tr style=\"text-align: right;\">\n",
       "      <th></th>\n",
       "      <th>price</th>\n",
       "      <th>mileage</th>\n",
       "      <th>door/body</th>\n",
       "      <th>eng/tran</th>\n",
       "      <th>year/make/model</th>\n",
       "    </tr>\n",
       "  </thead>\n",
       "  <tbody>\n",
       "    <tr>\n",
       "      <th>0</th>\n",
       "      <td>16499</td>\n",
       "      <td>47407</td>\n",
       "      <td>Estate</td>\n",
       "      <td>Manual</td>\n",
       "      <td>2015 Mercedes-Benz C</td>\n",
       "    </tr>\n",
       "    <tr>\n",
       "      <th>1</th>\n",
       "      <td>19998</td>\n",
       "      <td>21249</td>\n",
       "      <td>5  Estate</td>\n",
       "      <td>1995 Automatic</td>\n",
       "      <td>2016 BMW X1</td>\n",
       "    </tr>\n",
       "    <tr>\n",
       "      <th>2</th>\n",
       "      <td>17795</td>\n",
       "      <td>24468</td>\n",
       "      <td>5  Estate</td>\n",
       "      <td>1997 Automatic</td>\n",
       "      <td>2014 Honda CR-V</td>\n",
       "    </tr>\n",
       "    <tr>\n",
       "      <th>3</th>\n",
       "      <td>14500</td>\n",
       "      <td>45793</td>\n",
       "      <td>5  Estate</td>\n",
       "      <td>1984 Automatic</td>\n",
       "      <td>2013 Audi Q3</td>\n",
       "    </tr>\n",
       "    <tr>\n",
       "      <th>4</th>\n",
       "      <td>21499</td>\n",
       "      <td>5295</td>\n",
       "      <td>5  Estate</td>\n",
       "      <td>1598 Manual</td>\n",
       "      <td>2019 Kia Optima</td>\n",
       "    </tr>\n",
       "  </tbody>\n",
       "</table>\n",
       "</div>"
      ],
      "text/plain": [
       "   price  mileage   door/body         eng/tran        year/make/model\n",
       "0  16499   47407       Estate          Manual   2015 Mercedes-Benz C \n",
       "1  19998   21249    5  Estate  1995 Automatic             2016 BMW X1\n",
       "2  17795   24468    5  Estate  1997 Automatic         2014 Honda CR-V\n",
       "3  14500   45793    5  Estate  1984 Automatic            2013 Audi Q3\n",
       "4  21499    5295    5  Estate     1598 Manual         2019 Kia Optima"
      ]
     },
     "execution_count": 9,
     "metadata": {},
     "output_type": "execute_result"
    }
   ],
   "source": [
    "# remove my pound signs and commas from the price column\n",
    "\n",
    "df['price'] = df['price'].str.replace(\"£|,\",\"\")\n",
    "\n",
    "# remove span html flags from mileage\n",
    "\n",
    "df['mileage'] = df['mileage'].str.replace(\"<span>|</span>|miles|,\", \"\")\n",
    "\n",
    "# remove door from door/body\n",
    "df['door/body'] = df['door/body'].str.replace(\"Door\", \"\")\n",
    "\n",
    "# remove cc from eng (may convert this to litres later)\n",
    "df['eng/tran'] = df['eng/tran'].str.replace(\"cc\", \"\")\n",
    "\n",
    "# remove class from mercedes so that it can follow a year-model-class format like the other cars do\n",
    "df['year/make/model'] = df['year/make/model'].str.replace(\"Class\", \"\")\n",
    "df['year/make/model'] = df['year/make/model'].str.replace(\"Land Rover\", \"Land-Rover\")\n",
    "df['year/make/model'] = df['year/make/model'].str.replace(\"Range Rover Sport\", \"Range-Rover-Sport\")\n",
    "df['year/make/model'] = df['year/make/model'].str.replace(\"Discovery Sport\", \"Discovery-Sport\")\n",
    "df['year/make/model'] = df['year/make/model'].str.replace(\"Aston Martin\", \"Aston-Martin\")\n",
    "df['year/make/model'] = df['year/make/model'].str.replace(\"Alfa Romeo\", \"Alfa-Romeo\")\n",
    "\n",
    "df.head()"
   ]
  },
  {
   "cell_type": "markdown",
   "metadata": {},
   "source": [
    "## Splitting features\n",
    "In this section, I will use string manipulation technique `split(expand=True)` to split my strings up and create new columns for them.  "
   ]
  },
  {
   "cell_type": "code",
   "execution_count": 10,
   "metadata": {},
   "outputs": [],
   "source": [
    "# split door count and body style\n",
    "\n",
    "df[['door_count','body_style']]= df['door/body'].str.split(expand=True)\n",
    "\n",
    "# split engine size and transmission\n",
    "\n",
    "df[['engine_size(cc)', 'transmission']] = df['eng/tran'].str.split(expand=True)\n",
    "\n",
    "# split year , make, and model into seperate columns\n",
    "\n",
    "df['year'] = df['year/make/model'].str.split(' ', expand=True)[0]\n",
    "df['brand'] = df['year/make/model'].str.split(' ', expand=True)[1]\n",
    "df['model'] = df['year/make/model'].str.split(' ', expand=True)[2]"
   ]
  },
  {
   "cell_type": "code",
   "execution_count": 11,
   "metadata": {},
   "outputs": [
    {
     "data": {
      "text/html": [
       "<div>\n",
       "<style scoped>\n",
       "    .dataframe tbody tr th:only-of-type {\n",
       "        vertical-align: middle;\n",
       "    }\n",
       "\n",
       "    .dataframe tbody tr th {\n",
       "        vertical-align: top;\n",
       "    }\n",
       "\n",
       "    .dataframe thead th {\n",
       "        text-align: right;\n",
       "    }\n",
       "</style>\n",
       "<table border=\"1\" class=\"dataframe\">\n",
       "  <thead>\n",
       "    <tr style=\"text-align: right;\">\n",
       "      <th></th>\n",
       "      <th>price</th>\n",
       "      <th>mileage</th>\n",
       "      <th>door/body</th>\n",
       "      <th>eng/tran</th>\n",
       "      <th>year/make/model</th>\n",
       "      <th>door_count</th>\n",
       "      <th>body_style</th>\n",
       "      <th>engine_size(cc)</th>\n",
       "      <th>transmission</th>\n",
       "      <th>year</th>\n",
       "      <th>brand</th>\n",
       "      <th>model</th>\n",
       "    </tr>\n",
       "  </thead>\n",
       "  <tbody>\n",
       "    <tr>\n",
       "      <th>0</th>\n",
       "      <td>16499</td>\n",
       "      <td>47407</td>\n",
       "      <td>Estate</td>\n",
       "      <td>Manual</td>\n",
       "      <td>2015 Mercedes-Benz C</td>\n",
       "      <td>Estate</td>\n",
       "      <td>None</td>\n",
       "      <td>Manual</td>\n",
       "      <td>None</td>\n",
       "      <td>2015</td>\n",
       "      <td>Mercedes-Benz</td>\n",
       "      <td>C</td>\n",
       "    </tr>\n",
       "    <tr>\n",
       "      <th>1</th>\n",
       "      <td>19998</td>\n",
       "      <td>21249</td>\n",
       "      <td>5  Estate</td>\n",
       "      <td>1995 Automatic</td>\n",
       "      <td>2016 BMW X1</td>\n",
       "      <td>5</td>\n",
       "      <td>Estate</td>\n",
       "      <td>1995</td>\n",
       "      <td>Automatic</td>\n",
       "      <td>2016</td>\n",
       "      <td>BMW</td>\n",
       "      <td>X1</td>\n",
       "    </tr>\n",
       "    <tr>\n",
       "      <th>2</th>\n",
       "      <td>17795</td>\n",
       "      <td>24468</td>\n",
       "      <td>5  Estate</td>\n",
       "      <td>1997 Automatic</td>\n",
       "      <td>2014 Honda CR-V</td>\n",
       "      <td>5</td>\n",
       "      <td>Estate</td>\n",
       "      <td>1997</td>\n",
       "      <td>Automatic</td>\n",
       "      <td>2014</td>\n",
       "      <td>Honda</td>\n",
       "      <td>CR-V</td>\n",
       "    </tr>\n",
       "    <tr>\n",
       "      <th>3</th>\n",
       "      <td>14500</td>\n",
       "      <td>45793</td>\n",
       "      <td>5  Estate</td>\n",
       "      <td>1984 Automatic</td>\n",
       "      <td>2013 Audi Q3</td>\n",
       "      <td>5</td>\n",
       "      <td>Estate</td>\n",
       "      <td>1984</td>\n",
       "      <td>Automatic</td>\n",
       "      <td>2013</td>\n",
       "      <td>Audi</td>\n",
       "      <td>Q3</td>\n",
       "    </tr>\n",
       "    <tr>\n",
       "      <th>4</th>\n",
       "      <td>21499</td>\n",
       "      <td>5295</td>\n",
       "      <td>5  Estate</td>\n",
       "      <td>1598 Manual</td>\n",
       "      <td>2019 Kia Optima</td>\n",
       "      <td>5</td>\n",
       "      <td>Estate</td>\n",
       "      <td>1598</td>\n",
       "      <td>Manual</td>\n",
       "      <td>2019</td>\n",
       "      <td>Kia</td>\n",
       "      <td>Optima</td>\n",
       "    </tr>\n",
       "  </tbody>\n",
       "</table>\n",
       "</div>"
      ],
      "text/plain": [
       "   price  mileage   door/body         eng/tran        year/make/model  \\\n",
       "0  16499   47407       Estate          Manual   2015 Mercedes-Benz C    \n",
       "1  19998   21249    5  Estate  1995 Automatic             2016 BMW X1   \n",
       "2  17795   24468    5  Estate  1997 Automatic         2014 Honda CR-V   \n",
       "3  14500   45793    5  Estate  1984 Automatic            2013 Audi Q3   \n",
       "4  21499    5295    5  Estate     1598 Manual         2019 Kia Optima   \n",
       "\n",
       "  door_count body_style engine_size(cc) transmission  year          brand  \\\n",
       "0     Estate       None          Manual         None  2015  Mercedes-Benz   \n",
       "1          5     Estate            1995    Automatic  2016            BMW   \n",
       "2          5     Estate            1997    Automatic  2014          Honda   \n",
       "3          5     Estate            1984    Automatic  2013           Audi   \n",
       "4          5     Estate            1598       Manual  2019            Kia   \n",
       "\n",
       "    model  \n",
       "0       C  \n",
       "1      X1  \n",
       "2    CR-V  \n",
       "3      Q3  \n",
       "4  Optima  "
      ]
     },
     "execution_count": 11,
     "metadata": {},
     "output_type": "execute_result"
    }
   ],
   "source": [
    "df.head()"
   ]
  },
  {
   "cell_type": "markdown",
   "metadata": {},
   "source": [
    "# Drop Features\n",
    "In this section, I will drop my unneeded columns left over from doing the feature split."
   ]
  },
  {
   "cell_type": "code",
   "execution_count": 12,
   "metadata": {},
   "outputs": [],
   "source": [
    "# run this only once\n",
    "df.drop(labels=['door/body','eng/tran', 'year/make/model'], axis=1, inplace=True)"
   ]
  },
  {
   "cell_type": "code",
   "execution_count": 13,
   "metadata": {},
   "outputs": [
    {
     "data": {
      "text/html": [
       "<div>\n",
       "<style scoped>\n",
       "    .dataframe tbody tr th:only-of-type {\n",
       "        vertical-align: middle;\n",
       "    }\n",
       "\n",
       "    .dataframe tbody tr th {\n",
       "        vertical-align: top;\n",
       "    }\n",
       "\n",
       "    .dataframe thead th {\n",
       "        text-align: right;\n",
       "    }\n",
       "</style>\n",
       "<table border=\"1\" class=\"dataframe\">\n",
       "  <thead>\n",
       "    <tr style=\"text-align: right;\">\n",
       "      <th></th>\n",
       "      <th>price</th>\n",
       "      <th>mileage</th>\n",
       "      <th>door_count</th>\n",
       "      <th>body_style</th>\n",
       "      <th>engine_size(cc)</th>\n",
       "      <th>transmission</th>\n",
       "      <th>year</th>\n",
       "      <th>brand</th>\n",
       "      <th>model</th>\n",
       "    </tr>\n",
       "  </thead>\n",
       "  <tbody>\n",
       "    <tr>\n",
       "      <th>0</th>\n",
       "      <td>16499</td>\n",
       "      <td>47407</td>\n",
       "      <td>Estate</td>\n",
       "      <td>None</td>\n",
       "      <td>Manual</td>\n",
       "      <td>None</td>\n",
       "      <td>2015</td>\n",
       "      <td>Mercedes-Benz</td>\n",
       "      <td>C</td>\n",
       "    </tr>\n",
       "    <tr>\n",
       "      <th>1</th>\n",
       "      <td>19998</td>\n",
       "      <td>21249</td>\n",
       "      <td>5</td>\n",
       "      <td>Estate</td>\n",
       "      <td>1995</td>\n",
       "      <td>Automatic</td>\n",
       "      <td>2016</td>\n",
       "      <td>BMW</td>\n",
       "      <td>X1</td>\n",
       "    </tr>\n",
       "    <tr>\n",
       "      <th>2</th>\n",
       "      <td>17795</td>\n",
       "      <td>24468</td>\n",
       "      <td>5</td>\n",
       "      <td>Estate</td>\n",
       "      <td>1997</td>\n",
       "      <td>Automatic</td>\n",
       "      <td>2014</td>\n",
       "      <td>Honda</td>\n",
       "      <td>CR-V</td>\n",
       "    </tr>\n",
       "    <tr>\n",
       "      <th>3</th>\n",
       "      <td>14500</td>\n",
       "      <td>45793</td>\n",
       "      <td>5</td>\n",
       "      <td>Estate</td>\n",
       "      <td>1984</td>\n",
       "      <td>Automatic</td>\n",
       "      <td>2013</td>\n",
       "      <td>Audi</td>\n",
       "      <td>Q3</td>\n",
       "    </tr>\n",
       "    <tr>\n",
       "      <th>4</th>\n",
       "      <td>21499</td>\n",
       "      <td>5295</td>\n",
       "      <td>5</td>\n",
       "      <td>Estate</td>\n",
       "      <td>1598</td>\n",
       "      <td>Manual</td>\n",
       "      <td>2019</td>\n",
       "      <td>Kia</td>\n",
       "      <td>Optima</td>\n",
       "    </tr>\n",
       "  </tbody>\n",
       "</table>\n",
       "</div>"
      ],
      "text/plain": [
       "   price  mileage door_count body_style engine_size(cc) transmission  year  \\\n",
       "0  16499   47407      Estate       None          Manual         None  2015   \n",
       "1  19998   21249           5     Estate            1995    Automatic  2016   \n",
       "2  17795   24468           5     Estate            1997    Automatic  2014   \n",
       "3  14500   45793           5     Estate            1984    Automatic  2013   \n",
       "4  21499    5295           5     Estate            1598       Manual  2019   \n",
       "\n",
       "           brand   model  \n",
       "0  Mercedes-Benz       C  \n",
       "1            BMW      X1  \n",
       "2          Honda    CR-V  \n",
       "3           Audi      Q3  \n",
       "4            Kia  Optima  "
      ]
     },
     "execution_count": 13,
     "metadata": {},
     "output_type": "execute_result"
    }
   ],
   "source": [
    "df.head()"
   ]
  },
  {
   "cell_type": "markdown",
   "metadata": {},
   "source": [
    "## Rename Features \n",
    "In this section, I will rename features to include their unit measures. I am doing this so that it can be interpretable later on after my regression models."
   ]
  },
  {
   "cell_type": "code",
   "execution_count": 14,
   "metadata": {},
   "outputs": [],
   "source": [
    "# fix corvette name error in df\n",
    "df['brand'] = df['brand'].str.replace(\"Corvette\", \"Chevrolet\")\n",
    "df['model'] = df['model'].str.replace(\"C7\", \"Corvette-C7\")"
   ]
  },
  {
   "cell_type": "code",
   "execution_count": 15,
   "metadata": {},
   "outputs": [],
   "source": [
    "df.rename(columns={\"mileage\": \"mileage(mi)\", \"price\":\"price(£)\"}, inplace=True)"
   ]
  },
  {
   "cell_type": "code",
   "execution_count": 16,
   "metadata": {},
   "outputs": [
    {
     "data": {
      "text/html": [
       "<div>\n",
       "<style scoped>\n",
       "    .dataframe tbody tr th:only-of-type {\n",
       "        vertical-align: middle;\n",
       "    }\n",
       "\n",
       "    .dataframe tbody tr th {\n",
       "        vertical-align: top;\n",
       "    }\n",
       "\n",
       "    .dataframe thead th {\n",
       "        text-align: right;\n",
       "    }\n",
       "</style>\n",
       "<table border=\"1\" class=\"dataframe\">\n",
       "  <thead>\n",
       "    <tr style=\"text-align: right;\">\n",
       "      <th></th>\n",
       "      <th>price(£)</th>\n",
       "      <th>mileage(mi)</th>\n",
       "      <th>door_count</th>\n",
       "      <th>body_style</th>\n",
       "      <th>engine_size(cc)</th>\n",
       "      <th>transmission</th>\n",
       "      <th>year</th>\n",
       "      <th>brand</th>\n",
       "      <th>model</th>\n",
       "    </tr>\n",
       "  </thead>\n",
       "  <tbody>\n",
       "    <tr>\n",
       "      <th>0</th>\n",
       "      <td>16499</td>\n",
       "      <td>47407</td>\n",
       "      <td>Estate</td>\n",
       "      <td>None</td>\n",
       "      <td>Manual</td>\n",
       "      <td>None</td>\n",
       "      <td>2015</td>\n",
       "      <td>Mercedes-Benz</td>\n",
       "      <td>C</td>\n",
       "    </tr>\n",
       "    <tr>\n",
       "      <th>1</th>\n",
       "      <td>19998</td>\n",
       "      <td>21249</td>\n",
       "      <td>5</td>\n",
       "      <td>Estate</td>\n",
       "      <td>1995</td>\n",
       "      <td>Automatic</td>\n",
       "      <td>2016</td>\n",
       "      <td>BMW</td>\n",
       "      <td>X1</td>\n",
       "    </tr>\n",
       "    <tr>\n",
       "      <th>2</th>\n",
       "      <td>17795</td>\n",
       "      <td>24468</td>\n",
       "      <td>5</td>\n",
       "      <td>Estate</td>\n",
       "      <td>1997</td>\n",
       "      <td>Automatic</td>\n",
       "      <td>2014</td>\n",
       "      <td>Honda</td>\n",
       "      <td>CR-V</td>\n",
       "    </tr>\n",
       "    <tr>\n",
       "      <th>3</th>\n",
       "      <td>14500</td>\n",
       "      <td>45793</td>\n",
       "      <td>5</td>\n",
       "      <td>Estate</td>\n",
       "      <td>1984</td>\n",
       "      <td>Automatic</td>\n",
       "      <td>2013</td>\n",
       "      <td>Audi</td>\n",
       "      <td>Q3</td>\n",
       "    </tr>\n",
       "    <tr>\n",
       "      <th>4</th>\n",
       "      <td>21499</td>\n",
       "      <td>5295</td>\n",
       "      <td>5</td>\n",
       "      <td>Estate</td>\n",
       "      <td>1598</td>\n",
       "      <td>Manual</td>\n",
       "      <td>2019</td>\n",
       "      <td>Kia</td>\n",
       "      <td>Optima</td>\n",
       "    </tr>\n",
       "  </tbody>\n",
       "</table>\n",
       "</div>"
      ],
      "text/plain": [
       "  price(£) mileage(mi) door_count body_style engine_size(cc) transmission  \\\n",
       "0    16499      47407      Estate       None          Manual         None   \n",
       "1    19998      21249           5     Estate            1995    Automatic   \n",
       "2    17795      24468           5     Estate            1997    Automatic   \n",
       "3    14500      45793           5     Estate            1984    Automatic   \n",
       "4    21499       5295           5     Estate            1598       Manual   \n",
       "\n",
       "   year          brand   model  \n",
       "0  2015  Mercedes-Benz       C  \n",
       "1  2016            BMW      X1  \n",
       "2  2014          Honda    CR-V  \n",
       "3  2013           Audi      Q3  \n",
       "4  2019            Kia  Optima  "
      ]
     },
     "execution_count": 16,
     "metadata": {},
     "output_type": "execute_result"
    }
   ],
   "source": [
    "df.head()"
   ]
  },
  {
   "cell_type": "markdown",
   "metadata": {},
   "source": [
    "## Correcting dtypes for features\n",
    "In this section I will be assigning the correct data types for each of my features. It is important to do because in the future I will run into problems with modeling if I don't."
   ]
  },
  {
   "cell_type": "code",
   "execution_count": 19,
   "metadata": {},
   "outputs": [
    {
     "name": "stdout",
     "output_type": "stream",
     "text": [
      "<class 'pandas.core.frame.DataFrame'>\n",
      "RangeIndex: 10520 entries, 0 to 10519\n",
      "Data columns (total 9 columns):\n",
      " #   Column           Non-Null Count  Dtype \n",
      "---  ------           --------------  ----- \n",
      " 0   price(£)         10520 non-null  object\n",
      " 1   mileage(mi)      10506 non-null  object\n",
      " 2   door_count       10520 non-null  object\n",
      " 3   body_style       10266 non-null  object\n",
      " 4   engine_size(cc)  10520 non-null  object\n",
      " 5   transmission     10213 non-null  object\n",
      " 6   year             10520 non-null  object\n",
      " 7   brand            10520 non-null  object\n",
      " 8   model            10328 non-null  object\n",
      "dtypes: object(9)\n",
      "memory usage: 739.8+ KB\n"
     ]
    }
   ],
   "source": [
    "# inspect data types of my features\n",
    "df.info()"
   ]
  },
  {
   "cell_type": "code",
   "execution_count": 20,
   "metadata": {},
   "outputs": [],
   "source": [
    "# convert price to an integer\n",
    "df['price(£)'] = pd.to_numeric(df['price(£)'], errors='coerce')\n",
    "\n",
    "# convert mileage to an integer\n",
    "df['mileage(mi)'] = pd.to_numeric(df['mileage(mi)'], errors='coerce')\n",
    "\n",
    "# convert doors to an integer\n",
    "df['door_count'] = pd.to_numeric(df['door_count'], errors='coerce')\n",
    "\n",
    "# convert engine_size to integer\n",
    "df['engine_size(cc)'] = pd.to_numeric(df['engine_size(cc)'], errors='coerce')\n",
    "\n",
    "# convert year to integer\n",
    "df['year'] = pd.to_numeric(df['year'], errors='coerce')"
   ]
  },
  {
   "cell_type": "markdown",
   "metadata": {},
   "source": [
    "Check to see if the data type conversions worked."
   ]
  },
  {
   "cell_type": "code",
   "execution_count": 21,
   "metadata": {},
   "outputs": [
    {
     "name": "stdout",
     "output_type": "stream",
     "text": [
      "<class 'pandas.core.frame.DataFrame'>\n",
      "RangeIndex: 10520 entries, 0 to 10519\n",
      "Data columns (total 9 columns):\n",
      " #   Column           Non-Null Count  Dtype  \n",
      "---  ------           --------------  -----  \n",
      " 0   price(£)         10520 non-null  int64  \n",
      " 1   mileage(mi)      10506 non-null  float64\n",
      " 2   door_count       10266 non-null  float64\n",
      " 3   body_style       10266 non-null  object \n",
      " 4   engine_size(cc)  10213 non-null  float64\n",
      " 5   transmission     10213 non-null  object \n",
      " 6   year             10255 non-null  float64\n",
      " 7   brand            10520 non-null  object \n",
      " 8   model            10328 non-null  object \n",
      "dtypes: float64(4), int64(1), object(4)\n",
      "memory usage: 739.8+ KB\n"
     ]
    }
   ],
   "source": [
    "df.info()"
   ]
  },
  {
   "cell_type": "markdown",
   "metadata": {},
   "source": [
    "## Drop nulls\n",
    "In this section I will drop the nulls so that I can convert my data types in the future without any issues."
   ]
  },
  {
   "cell_type": "code",
   "execution_count": 22,
   "metadata": {},
   "outputs": [
    {
     "name": "stdout",
     "output_type": "stream",
     "text": [
      "price(£)             0\n",
      "mileage(mi)         14\n",
      "door_count         254\n",
      "body_style         254\n",
      "engine_size(cc)    307\n",
      "transmission       307\n",
      "year               265\n",
      "brand                0\n",
      "model              192\n",
      "dtype: int64\n",
      "Total nulls: 1593\n"
     ]
    }
   ],
   "source": [
    "# Check for null values and sum them\n",
    "print(df.isna().sum())\n",
    "print(\"Total nulls:\", df.isna().sum().sum())"
   ]
  },
  {
   "cell_type": "code",
   "execution_count": 23,
   "metadata": {},
   "outputs": [],
   "source": [
    "# drop nulls run once\n",
    "df.dropna(axis=0, inplace=True)"
   ]
  },
  {
   "cell_type": "code",
   "execution_count": 24,
   "metadata": {},
   "outputs": [
    {
     "name": "stdout",
     "output_type": "stream",
     "text": [
      "price(£)           0\n",
      "mileage(mi)        0\n",
      "door_count         0\n",
      "body_style         0\n",
      "engine_size(cc)    0\n",
      "transmission       0\n",
      "year               0\n",
      "brand              0\n",
      "model              0\n",
      "dtype: int64\n",
      "Total nulls: 0\n"
     ]
    }
   ],
   "source": [
    "# Check again\n",
    "print(df.isna().sum())\n",
    "print(\"Total nulls:\", df.isna().sum().sum())"
   ]
  },
  {
   "cell_type": "code",
   "execution_count": 25,
   "metadata": {},
   "outputs": [
    {
     "name": "stdout",
     "output_type": "stream",
     "text": [
      "Rows: 9886\n",
      "Columns: 9\n"
     ]
    }
   ],
   "source": [
    "# check rows and columns shape after the drops\n",
    "print(\"Rows:\",df.shape[0])\n",
    "print(\"Columns:\",df.shape[1])"
   ]
  },
  {
   "cell_type": "markdown",
   "metadata": {},
   "source": [
    "## Handle Duplicates"
   ]
  },
  {
   "cell_type": "code",
   "execution_count": 26,
   "metadata": {},
   "outputs": [
    {
     "data": {
      "text/plain": [
       "257"
      ]
     },
     "execution_count": 26,
     "metadata": {},
     "output_type": "execute_result"
    }
   ],
   "source": [
    "# check all columns for rows that are duplicate\n",
    "df.duplicated().sum()"
   ]
  },
  {
   "cell_type": "code",
   "execution_count": 27,
   "metadata": {},
   "outputs": [],
   "source": [
    "# drop duplicate\n",
    "df.drop_duplicates(keep='first', inplace=True)"
   ]
  },
  {
   "cell_type": "code",
   "execution_count": 28,
   "metadata": {},
   "outputs": [
    {
     "data": {
      "text/plain": [
       "0"
      ]
     },
     "execution_count": 28,
     "metadata": {},
     "output_type": "execute_result"
    }
   ],
   "source": [
    "# check all columns for rows that are duplicate\n",
    "df.duplicated().sum()"
   ]
  },
  {
   "cell_type": "code",
   "execution_count": 29,
   "metadata": {},
   "outputs": [
    {
     "name": "stdout",
     "output_type": "stream",
     "text": [
      "Rows: 9629\n",
      "Columns: 9\n"
     ]
    }
   ],
   "source": [
    "# check rows and columns shape after the drops\n",
    "print(\"Rows:\",df.shape[0])\n",
    "print(\"Columns:\",df.shape[1])"
   ]
  },
  {
   "cell_type": "markdown",
   "metadata": {},
   "source": [
    "## Save\n",
    "In this section, I will save the finalized clean data set in a new directory so that I can load it into my EDA notebook."
   ]
  },
  {
   "cell_type": "code",
   "execution_count": 37,
   "metadata": {},
   "outputs": [],
   "source": [
    "file_path = \"../Cleaned-Data/cleaned_cars.csv\"\n",
    "df.to_csv(file_path)"
   ]
  },
  {
   "cell_type": "code",
   "execution_count": null,
   "metadata": {},
   "outputs": [],
   "source": []
  }
 ],
 "metadata": {
  "kernelspec": {
   "display_name": "Python 3",
   "language": "python",
   "name": "python3"
  },
  "language_info": {
   "codemirror_mode": {
    "name": "ipython",
    "version": 3
   },
   "file_extension": ".py",
   "mimetype": "text/x-python",
   "name": "python",
   "nbconvert_exporter": "python",
   "pygments_lexer": "ipython3",
   "version": "3.7.4"
  },
  "toc-autonumbering": false,
  "toc-showcode": true,
  "toc-showmarkdowntxt": true
 },
 "nbformat": 4,
 "nbformat_minor": 4
}
