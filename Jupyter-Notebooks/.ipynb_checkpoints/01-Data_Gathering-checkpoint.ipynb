{
 "cells": [
  {
   "cell_type": "markdown",
   "metadata": {},
   "source": [
    "# Autovillage webscraper\n",
    "\n",
    "Within this notebook i will be making a script that will crawl and scrape\n",
    "this [website](https://www.autovillage.co.uk/used-car/filter/bodystyle/saloon). <br>\n",
    "My goal is to create a data frame with the below features: <br>\n",
    "1. make - cars brand\n",
    "2. model - cars model\n",
    "3. doors - # of doors the car has\n",
    "4. body_type - saloon, hatchback, sport, suv, etc\n",
    "5. transmission - automatic or manual\n",
    "6. Mileage - # of miles on the odometer\n",
    "7. engine_size - in cc\n",
    "8. price - in £\n",
    "9. year - car's year of registration\n",
    "\n",
    "My plan of action is to parse into the elements I want on my web page, reverse engineer a for loop based off the containers I make, and use an array to store my data."
   ]
  },
  {
   "cell_type": "markdown",
   "metadata": {},
   "source": [
    "### The packages I will use:"
   ]
  },
  {
   "cell_type": "code",
   "execution_count": 1,
   "metadata": {},
   "outputs": [],
   "source": [
    "# dataframe\n",
    "import pandas as pd\n",
    "import numpy as np\n",
    "\n",
    "# Webscraping libraries\n",
    "from urllib.request import urlopen # url inspector\n",
    "from bs4 import BeautifulSoup\n",
    "import re\n",
    "from selenium import webdriver # connects to chrome browser\n",
    "import warnings\n",
    "warnings.filterwarnings('ignore')\n",
    "\n",
    "# Web crawler imports\n",
    "import requests\n",
    "from requests import get\n",
    "\n",
    "# Web crawlers random seeds/time delays\n",
    "from time import sleep\n",
    "from random import randint\n",
    "\n",
    "# image viewer for cell outputs\n",
    "from IPython.display import display, Markdown, Latex, Image, display_html, HTML"
   ]
  },
  {
   "cell_type": "markdown",
   "metadata": {},
   "source": [
    "## Establishing a connection\n",
    "I will start by establishing a connection to the website autovilliage this will allow me to send and read responses."
   ]
  },
  {
   "cell_type": "code",
   "execution_count": 2,
   "metadata": {},
   "outputs": [],
   "source": [
    "# establish my url as a string\n",
    "my_url = 'https://www.autovillage.co.uk/used-car/filter/bodystyle/saloon'"
   ]
  },
  {
   "cell_type": "code",
   "execution_count": 3,
   "metadata": {},
   "outputs": [],
   "source": [
    "my_client = urlopen(my_url) # open up a connection to the webpage\n",
    "autovillage_page =my_client.read() # reads all the html from the webpage"
   ]
  },
  {
   "cell_type": "markdown",
   "metadata": {},
   "source": [
    "## Parse the HTML"
   ]
  },
  {
   "cell_type": "markdown",
   "metadata": {},
   "source": [
    "Parsing allows me to read the response object html syntax as a giant string which python can handle."
   ]
  },
  {
   "cell_type": "code",
   "execution_count": 4,
   "metadata": {},
   "outputs": [],
   "source": [
    "# HTML parsing\n",
    "page_soup = BeautifulSoup(autovillage_page, \"html.parser\")"
   ]
  },
  {
   "cell_type": "code",
   "execution_count": 10,
   "metadata": {},
   "outputs": [
    {
     "data": {
      "text/plain": [
       "<h1>Used Cars for Sale</h1>"
      ]
     },
     "execution_count": 10,
     "metadata": {},
     "output_type": "execute_result"
    }
   ],
   "source": [
    "page_soup.h1 # can view tags just by passing tag onto the soup"
   ]
  },
  {
   "cell_type": "markdown",
   "metadata": {},
   "source": [
    "## Traverse the HTML\n",
    "Capture exactly the elements I want by inspecting the web page code. Once I found the exact points within the HTML code I want to reference, I can save them as variables and reference them as containers in my for loops."
   ]
  },
  {
   "cell_type": "code",
   "execution_count": null,
   "metadata": {
    "scrolled": true
   },
   "outputs": [],
   "source": [
    "page_soup.body # run this if you are a saddist and want to view the entire webpage html code or else use inspector on your web browser"
   ]
  },
  {
   "cell_type": "markdown",
   "metadata": {},
   "source": [
    "### Create container\n",
    "The container is the html code that houses exactly what we need."
   ]
  },
  {
   "cell_type": "code",
   "execution_count": 40,
   "metadata": {},
   "outputs": [],
   "source": [
    "# only focus on the html code that contains the info that's important to me\n",
    "# thats important for me\n",
    "container = page_soup.findAll(\"div\", {\"class\":\"ucatid20\"}) # found the ucatid20 tag from inspecting webpage and selecting the entire container="
   ]
  },
  {
   "cell_type": "code",
   "execution_count": 41,
   "metadata": {},
   "outputs": [
    {
     "data": {
      "text/plain": [
       "10"
      ]
     },
     "execution_count": 41,
     "metadata": {},
     "output_type": "execute_result"
    }
   ],
   "source": [
    "# check how many containers there are (should be 10 since 10 cars)\n",
    "len(container) \n"
   ]
  },
  {
   "cell_type": "markdown",
   "metadata": {},
   "source": [
    "It found 10 of my cars on the page this is correct as I know visually there are 10 cars listed on each of the webpages."
   ]
  },
  {
   "cell_type": "markdown",
   "metadata": {},
   "source": [
    "### The images\n",
    "For fun I will webscrape the images and loop the outputs. This will be a good starting base to structure my web scraper on."
   ]
  },
  {
   "cell_type": "code",
   "execution_count": 63,
   "metadata": {},
   "outputs": [
    {
     "data": {
      "text/plain": [
       "<img alt=\"Audi A4\" src=\"https://cdn-csnetworkstock.s3.amazonaws.com/audi/a4/22545/32872023/audi_a4_1_pl.jpg\"/>"
      ]
     },
     "execution_count": 63,
     "metadata": {},
     "output_type": "execute_result"
    }
   ],
   "source": [
    "# I will index into the html code that contains the images\n",
    "container[0].findAll(\"div\", {\"class\":\"mb5\"})[0].img\n",
    "# change first number index to swap cars"
   ]
  },
  {
   "cell_type": "code",
   "execution_count": 46,
   "metadata": {},
   "outputs": [
    {
     "data": {
      "text/html": [
       "<img alt=\"Audi A4\" src=\"https://cdn-csnetworkstock.s3.amazonaws.com/audi/a4/22545/32872023/audi_a4_1_pl.jpg\"/>"
      ],
      "text/plain": [
       "<IPython.core.display.HTML object>"
      ]
     },
     "metadata": {},
     "output_type": "display_data"
    }
   ],
   "source": [
    "# finds the images of the cars index into 1 car of the container and specify only the img flags within the containers html code\n",
    "image = container[0].findAll(\"div\", {\"class\":\"mb5\"})\n",
    "\n",
    "# use ipython display to view the html/yml code as an output cell\n",
    "display(HTML(str(image[0].img)))"
   ]
  },
  {
   "cell_type": "markdown",
   "metadata": {},
   "source": [
    "great! the parsing worked now lets loop!"
   ]
  },
  {
   "cell_type": "code",
   "execution_count": 47,
   "metadata": {},
   "outputs": [
    {
     "data": {
      "text/html": [
       "<img alt=\"Audi A4\" src=\"https://cdn-csnetworkstock.s3.amazonaws.com/audi/a4/22545/32872023/audi_a4_1_pl.jpg\"/>"
      ],
      "text/plain": [
       "<IPython.core.display.HTML object>"
      ]
     },
     "metadata": {},
     "output_type": "display_data"
    },
    {
     "data": {
      "text/html": [
       "<img alt=\"BMW 5 Series\" src=\"https://cdn-csnetworkstock.s3.amazonaws.com/bmw/5-series/24547/34126025/bmw_5-series_1_pl.jpg\"/>"
      ],
      "text/plain": [
       "<IPython.core.display.HTML object>"
      ]
     },
     "metadata": {},
     "output_type": "display_data"
    },
    {
     "data": {
      "text/html": [
       "<img alt=\"Volkswagen Passat\" src=\"https://cdn-csnetworkstock.s3.amazonaws.com/volkswagen/passat/47084/33803251/volkswagen_passat_1_pl.jpg\"/>"
      ],
      "text/plain": [
       "<IPython.core.display.HTML object>"
      ]
     },
     "metadata": {},
     "output_type": "display_data"
    },
    {
     "data": {
      "text/html": [
       "<img alt=\"Mercedes-Benz C Class\" src=\"https://cdn-csnetworkstock.s3.amazonaws.com/mercedes-benz/c-class/56161/34402618/mercedes-benz_c-class_1_pl.jpg\"/>"
      ],
      "text/plain": [
       "<IPython.core.display.HTML object>"
      ]
     },
     "metadata": {},
     "output_type": "display_data"
    },
    {
     "data": {
      "text/html": [
       "<img alt=\"Mercedes-Benz C Class\" src=\"https://cdn-csnetworkstock.s3.amazonaws.com/mercedes-benz/c-class/52455/33303814/mercedes-benz_c-class_1_pl.jpg\"/>"
      ],
      "text/plain": [
       "<IPython.core.display.HTML object>"
      ]
     },
     "metadata": {},
     "output_type": "display_data"
    },
    {
     "data": {
      "text/html": [
       "<img alt=\"Jaguar XJ Series\" src=\"https://cdn-csnetworkstock.s3.amazonaws.com/jaguar/xj-series/24037/34397888/jaguar_xj-series_1_pl.jpg\"/>"
      ],
      "text/plain": [
       "<IPython.core.display.HTML object>"
      ]
     },
     "metadata": {},
     "output_type": "display_data"
    },
    {
     "data": {
      "text/html": [
       "<img alt=\"Volvo S60\" src=\"https://cdn-csnetworkstock.s3.amazonaws.com/volvo/s60/43350/34404057/volvo_s60_1_pl.jpg\"/>"
      ],
      "text/plain": [
       "<IPython.core.display.HTML object>"
      ]
     },
     "metadata": {},
     "output_type": "display_data"
    },
    {
     "data": {
      "text/html": [
       "<img alt=\"Mercedes-Benz E Class\" src=\"https://cdn-csnetworkstock.s3.amazonaws.com/mercedes-benz/e-class/56006/34344059/mercedes-benz_e-class_1_pl.jpg\"/>"
      ],
      "text/plain": [
       "<IPython.core.display.HTML object>"
      ]
     },
     "metadata": {},
     "output_type": "display_data"
    },
    {
     "data": {
      "text/html": [
       "<img alt=\"BMW 3 Series\" src=\"https://cdn-csnetworkstock.s3.amazonaws.com/bmw/3-series/23922/34365524/bmw_3-series_1_pl.jpg\"/>"
      ],
      "text/plain": [
       "<IPython.core.display.HTML object>"
      ]
     },
     "metadata": {},
     "output_type": "display_data"
    },
    {
     "data": {
      "text/html": [
       "<img alt=\"Aston Martin Rapide\" src=\"https://cdn-csnetworkstock.s3.amazonaws.com/aston-martin/rapide/26351/31547084/aston-martin_rapide_1_pl.jpg\"/>"
      ],
      "text/plain": [
       "<IPython.core.display.HTML object>"
      ]
     },
     "metadata": {},
     "output_type": "display_data"
    }
   ],
   "source": [
    "# a for loop that iterates over all 10 containers and returns the images using ipython display output\n",
    "\n",
    "for item in range(0,len(container)):\n",
    "    display(HTML(str(container[item].findAll(\"div\", {\"class\":\"mb5\"})[0].img)))\n",
    "\n"
   ]
  },
  {
   "cell_type": "markdown",
   "metadata": {},
   "source": [
    "## Parse containers\n",
    "Now that my little demo worked, I can parse into the features I will need for my Data Frame. I will still be using the alinkContainer as I found that the website seems to store its car details in that container.\n",
    "\n",
    "Just as above, I will test by parsing into 1 car container and once I get it right I will reverse engineer a for loop to iterate over all of the containers."
   ]
  },
  {
   "cell_type": "code",
   "execution_count": 48,
   "metadata": {},
   "outputs": [],
   "source": [
    "# use this container for our car names potentially\n",
    "name_container = page_soup.findAll(\"div\", {\"class\":\"alinkContainer\"})"
   ]
  },
  {
   "cell_type": "code",
   "execution_count": 49,
   "metadata": {},
   "outputs": [
    {
     "data": {
      "text/plain": [
       "<a href=\"/used-car/audi/a4/mtz_76725_55392689\">\n",
       "Audi A4 2.0T FSI S Line 4dr Manual</a>"
      ]
     },
     "execution_count": 49,
     "metadata": {},
     "output_type": "execute_result"
    }
   ],
   "source": [
    "# this is one path to get the name of the car but it might not be optimal\n",
    "name_container[0].div.a"
   ]
  },
  {
   "cell_type": "code",
   "execution_count": 50,
   "metadata": {},
   "outputs": [
    {
     "data": {
      "text/plain": [
       "[<div class=\"avprice\">£10,700</div>]"
      ]
     },
     "execution_count": 50,
     "metadata": {},
     "output_type": "execute_result"
    }
   ],
   "source": [
    "# price\n",
    "pricing = name_container[1].findAll(\"div\", {\"class\": \"avprice\"}) # our prices\n",
    "pricing"
   ]
  },
  {
   "cell_type": "code",
   "execution_count": 51,
   "metadata": {},
   "outputs": [
    {
     "data": {
      "text/plain": [
       "<div class=\"avprice\">£10,700</div>"
      ]
     },
     "execution_count": 51,
     "metadata": {},
     "output_type": "execute_result"
    }
   ],
   "source": [
    "# This container houses the price of the car's it is seperate from the other containers that house the details.\n",
    "pricing2 = name_container[1].find(\"div\", class_=\"avprice\") # our prices\n",
    "pricing2 # this method allows you to chain more find/findall commands without returning error"
   ]
  },
  {
   "cell_type": "markdown",
   "metadata": {},
   "source": [
    "## Parsing into my features\n",
    "All of my features except price are in the same class:item flag. The only thing required is to index into the correct feature using python indexing."
   ]
  },
  {
   "cell_type": "code",
   "execution_count": 52,
   "metadata": {},
   "outputs": [
    {
     "data": {
      "text/plain": [
       "<div class=\"item\">\n",
       "2016 Audi A4 \n",
       "\n",
       "</div>"
      ]
     },
     "execution_count": 52,
     "metadata": {},
     "output_type": "execute_result"
    }
   ],
   "source": [
    "# year + name \n",
    "year_name_model_html = container[0].div.findAll(\"div\", {\"class\":\"item\"})[0]\n",
    "year_name_model_html"
   ]
  },
  {
   "cell_type": "code",
   "execution_count": 53,
   "metadata": {},
   "outputs": [
    {
     "data": {
      "text/plain": [
       "<span>1984cc Manual </span>"
      ]
     },
     "execution_count": 53,
     "metadata": {},
     "output_type": "execute_result"
    }
   ],
   "source": [
    "# engine + transmission\n",
    "eng_tran_html = container[0].div.span\n",
    "eng_tran_html"
   ]
  },
  {
   "cell_type": "code",
   "execution_count": 54,
   "metadata": {},
   "outputs": [
    {
     "data": {
      "text/plain": [
       "<span> 4 Door Saloon</span>"
      ]
     },
     "execution_count": 54,
     "metadata": {},
     "output_type": "execute_result"
    }
   ],
   "source": [
    "# door + body type\n",
    "door_body_html = container[0].div.findAll(\"div\", {\"class\":\"item\"})[2].span\n",
    "door_body_html#.get_text()"
   ]
  },
  {
   "cell_type": "code",
   "execution_count": 55,
   "metadata": {},
   "outputs": [
    {
     "data": {
      "text/plain": [
       "<span> 26,354 miles</span>"
      ]
     },
     "execution_count": 55,
     "metadata": {},
     "output_type": "execute_result"
    }
   ],
   "source": [
    "# Mileage\n",
    "mileage_html = container[0].div.findAll(\"div\", {\"class\":\"item\"})[3].span\n",
    "mileage_html#.get_text()"
   ]
  },
  {
   "cell_type": "markdown",
   "metadata": {},
   "source": [
    "Great! I found all of my features. The code above will help me create my scraper."
   ]
  },
  {
   "cell_type": "markdown",
   "metadata": {},
   "source": [
    "## Looping my containers\n",
    "In this section, I will create for loops to append lists of elements from my cars container's and create data frame columns. I have already indexed into the right places I just need to iterate them. When I have got to the absolute end of my parsing, I can use the `get_text()` to extract the text. (use this only at the end). `.strip()` removes white space from the code."
   ]
  },
  {
   "cell_type": "code",
   "execution_count": 56,
   "metadata": {},
   "outputs": [
    {
     "data": {
      "text/plain": [
       "[<div class=\"avprice\">£15,500</div>,\n",
       " <div class=\"avprice\">£10,700</div>,\n",
       " <div class=\"avprice\">£10,650</div>,\n",
       " <div class=\"avprice\">£15,990</div>,\n",
       " <div class=\"avprice\">£11,950</div>,\n",
       " <div class=\"avprice\">£26,950</div>,\n",
       " <div class=\"avprice\">£7,195</div>,\n",
       " <div class=\"avprice\">£11,750</div>,\n",
       " <div class=\"avprice\">£10,370</div>,\n",
       " <div class=\"avprice\">£59,490</div>]"
      ]
     },
     "execution_count": 56,
     "metadata": {},
     "output_type": "execute_result"
    }
   ],
   "source": [
    "container2 = page_soup.findAll(\"div\", {\"class\":\"avprice\"})\n",
    "container2"
   ]
  },
  {
   "cell_type": "code",
   "execution_count": 57,
   "metadata": {},
   "outputs": [],
   "source": [
    "price =[] # car price\n",
    "year_make_model =[] # year made, brand name, model\n",
    "eng_tran =[] # engine size and transmission type\n",
    "door_body =[] # number of doors and body style\n",
    "mileage =[] # number of miles on the odometer\n",
    "\n",
    "# loop within container2 and return just the text\n",
    "for item in container2:\n",
    "    \n",
    "    #price\n",
    "    price.append(item.text)\n",
    "    \n",
    "for item in range(0,len(container)):\n",
    "    \n",
    "    #year, make, and model\n",
    "    car_names= container[item].div.findAll(\"div\", {\"class\":\"item\"})[0]\n",
    "    year_make_model.append(car_names.get_text().strip())\n",
    "    \n",
    "    #engine size and transmission type\n",
    "    tran = container[item].div.span\n",
    "    eng_tran.append(tran.get_text())\n",
    "    \n",
    "    # number of doors and car body type\n",
    "    door_bod = container[item].div.findAll(\"div\", {\"class\":\"item\"})[2].span\n",
    "    door_body.append(door_bod.get_text())\n",
    "    \n",
    "    # Car mileage\n",
    "    car_mileage = container[item].div.findAll(\"div\", {\"class\":\"item\"})[3].span\n",
    "    mileage.append(car_mileage.get_text())\n",
    "    "
   ]
  },
  {
   "cell_type": "code",
   "execution_count": 58,
   "metadata": {},
   "outputs": [
    {
     "data": {
      "text/plain": [
       "['£15,500',\n",
       " '£10,700',\n",
       " '£10,650',\n",
       " '£15,990',\n",
       " '£11,950',\n",
       " '£26,950',\n",
       " '£7,195',\n",
       " '£11,750',\n",
       " '£10,370',\n",
       " '£59,490']"
      ]
     },
     "execution_count": 58,
     "metadata": {},
     "output_type": "execute_result"
    }
   ],
   "source": [
    "# Check to see if the features turned out alright\n",
    "price"
   ]
  },
  {
   "cell_type": "code",
   "execution_count": 59,
   "metadata": {},
   "outputs": [
    {
     "name": "stdout",
     "output_type": "stream",
     "text": [
      "Rows in price: 10\n",
      "Rows in mileage: 10\n",
      "Rows in door count/body style: 10\n",
      "Rows in engine size/transmission: 10\n",
      "Rows in year/make/model: 10\n"
     ]
    }
   ],
   "source": [
    "# lets count how many cars we have in our features it should be 10\n",
    "print(\"Rows in price:\",len(price))\n",
    "print(\"Rows in mileage:\",len(mileage))\n",
    "print(\"Rows in door count/body style:\",len(door_body))\n",
    "print(\"Rows in engine size/transmission:\",len(eng_tran))\n",
    "print(\"Rows in year/make/model:\",len(year_make_model))"
   ]
  },
  {
   "cell_type": "markdown",
   "metadata": {},
   "source": [
    "## Make Our data frame\n",
    "Test our webscraper by making a data frame practice run."
   ]
  },
  {
   "cell_type": "code",
   "execution_count": 60,
   "metadata": {},
   "outputs": [],
   "source": [
    "car_df = pd.DataFrame({'price':price, \n",
    "                       'mileage':mileage, \n",
    "                       'door/body':door_body, \n",
    "                       'eng/tran':eng_tran, \n",
    "                       'year/make/model':year_make_model})"
   ]
  },
  {
   "cell_type": "code",
   "execution_count": 61,
   "metadata": {},
   "outputs": [
    {
     "data": {
      "text/html": [
       "<div>\n",
       "<style scoped>\n",
       "    .dataframe tbody tr th:only-of-type {\n",
       "        vertical-align: middle;\n",
       "    }\n",
       "\n",
       "    .dataframe tbody tr th {\n",
       "        vertical-align: top;\n",
       "    }\n",
       "\n",
       "    .dataframe thead th {\n",
       "        text-align: right;\n",
       "    }\n",
       "</style>\n",
       "<table border=\"1\" class=\"dataframe\">\n",
       "  <thead>\n",
       "    <tr style=\"text-align: right;\">\n",
       "      <th></th>\n",
       "      <th>price</th>\n",
       "      <th>mileage</th>\n",
       "      <th>door/body</th>\n",
       "      <th>eng/tran</th>\n",
       "      <th>year/make/model</th>\n",
       "    </tr>\n",
       "  </thead>\n",
       "  <tbody>\n",
       "    <tr>\n",
       "      <th>0</th>\n",
       "      <td>£15,500</td>\n",
       "      <td>26,354 miles</td>\n",
       "      <td>4 Door Saloon</td>\n",
       "      <td>1984cc Manual</td>\n",
       "      <td>2016 Audi A4</td>\n",
       "    </tr>\n",
       "    <tr>\n",
       "      <th>1</th>\n",
       "      <td>£10,700</td>\n",
       "      <td>59,036 miles</td>\n",
       "      <td>4 Door Saloon</td>\n",
       "      <td>1995cc Automatic</td>\n",
       "      <td>2013 BMW 5 Series</td>\n",
       "    </tr>\n",
       "    <tr>\n",
       "      <th>2</th>\n",
       "      <td>£10,650</td>\n",
       "      <td>46,875 miles</td>\n",
       "      <td>4 Door Saloon</td>\n",
       "      <td>1598cc Automatic</td>\n",
       "      <td>2015 Volkswagen Passat</td>\n",
       "    </tr>\n",
       "    <tr>\n",
       "      <th>3</th>\n",
       "      <td>£15,990</td>\n",
       "      <td>33,909 miles</td>\n",
       "      <td>4 Door Saloon</td>\n",
       "      <td>2143cc Manual</td>\n",
       "      <td>2015 Mercedes-Benz C Class</td>\n",
       "    </tr>\n",
       "    <tr>\n",
       "      <th>4</th>\n",
       "      <td>£11,950</td>\n",
       "      <td>49,000 miles</td>\n",
       "      <td>4 Door Saloon</td>\n",
       "      <td>2143cc Automatic</td>\n",
       "      <td>2013 Mercedes-Benz C Class</td>\n",
       "    </tr>\n",
       "    <tr>\n",
       "      <th>5</th>\n",
       "      <td>£26,950</td>\n",
       "      <td>16,000 miles</td>\n",
       "      <td>Saloon</td>\n",
       "      <td>2993cc Manual</td>\n",
       "      <td>Jaguar XJ Series</td>\n",
       "    </tr>\n",
       "    <tr>\n",
       "      <th>6</th>\n",
       "      <td>£7,195</td>\n",
       "      <td>81,754 miles</td>\n",
       "      <td>4 Door Saloon</td>\n",
       "      <td>2400cc Automatic</td>\n",
       "      <td>2012 Volvo S60</td>\n",
       "    </tr>\n",
       "    <tr>\n",
       "      <th>7</th>\n",
       "      <td>£11,750</td>\n",
       "      <td>53,000 miles</td>\n",
       "      <td>4 Door Saloon</td>\n",
       "      <td>2143cc Automatic</td>\n",
       "      <td>2013 Mercedes-Benz E Class</td>\n",
       "    </tr>\n",
       "    <tr>\n",
       "      <th>8</th>\n",
       "      <td>£10,370</td>\n",
       "      <td>75,238 miles</td>\n",
       "      <td>4 Door Saloon</td>\n",
       "      <td>1499cc Automatic</td>\n",
       "      <td>2015 BMW 3 Series</td>\n",
       "    </tr>\n",
       "    <tr>\n",
       "      <th>9</th>\n",
       "      <td>£59,490</td>\n",
       "      <td>20,000 miles</td>\n",
       "      <td>4 Door Saloon</td>\n",
       "      <td>5900cc Automatic</td>\n",
       "      <td>2014 Aston Martin Rapide</td>\n",
       "    </tr>\n",
       "  </tbody>\n",
       "</table>\n",
       "</div>"
      ],
      "text/plain": [
       "     price        mileage       door/body           eng/tran  \\\n",
       "0  £15,500   26,354 miles   4 Door Saloon     1984cc Manual    \n",
       "1  £10,700   59,036 miles   4 Door Saloon  1995cc Automatic    \n",
       "2  £10,650   46,875 miles   4 Door Saloon  1598cc Automatic    \n",
       "3  £15,990   33,909 miles   4 Door Saloon     2143cc Manual    \n",
       "4  £11,950   49,000 miles   4 Door Saloon  2143cc Automatic    \n",
       "5  £26,950   16,000 miles          Saloon     2993cc Manual    \n",
       "6   £7,195   81,754 miles   4 Door Saloon  2400cc Automatic    \n",
       "7  £11,750   53,000 miles   4 Door Saloon  2143cc Automatic    \n",
       "8  £10,370   75,238 miles   4 Door Saloon  1499cc Automatic    \n",
       "9  £59,490   20,000 miles   4 Door Saloon  5900cc Automatic    \n",
       "\n",
       "              year/make/model  \n",
       "0                2016 Audi A4  \n",
       "1           2013 BMW 5 Series  \n",
       "2      2015 Volkswagen Passat  \n",
       "3  2015 Mercedes-Benz C Class  \n",
       "4  2013 Mercedes-Benz C Class  \n",
       "5            Jaguar XJ Series  \n",
       "6              2012 Volvo S60  \n",
       "7  2013 Mercedes-Benz E Class  \n",
       "8           2015 BMW 3 Series  \n",
       "9    2014 Aston Martin Rapide  "
      ]
     },
     "execution_count": 61,
     "metadata": {},
     "output_type": "execute_result"
    }
   ],
   "source": [
    "car_df"
   ]
  },
  {
   "cell_type": "markdown",
   "metadata": {},
   "source": [
    "Great! the webscraper worked! but this is only effective for 1 page. We need to set up a webcrawler to do many other pages."
   ]
  },
  {
   "cell_type": "markdown",
   "metadata": {},
   "source": [
    "## Save DF\n",
    "Testing save for DF."
   ]
  },
  {
   "cell_type": "code",
   "execution_count": 61,
   "metadata": {},
   "outputs": [],
   "source": [
    "save_path = '../Raw-Data/car_practice.csv'"
   ]
  },
  {
   "cell_type": "code",
   "execution_count": 62,
   "metadata": {},
   "outputs": [],
   "source": [
    "car_df.to_csv(save_path)"
   ]
  },
  {
   "cell_type": "markdown",
   "metadata": {},
   "source": [
    "## Creating My Webcrawler\n",
    "Now that I know everything works on each webpage, I will automate the process of scraping my web pages by creating a webcrawler.\n",
    "\n",
    "A crawler essentially goes through each page and applies your web scraper. It's very handy as I plan on using a few thousand cars for my data set."
   ]
  },
  {
   "cell_type": "code",
   "execution_count": 40,
   "metadata": {},
   "outputs": [],
   "source": [
    "# set up crawler\n",
    "\n",
    "# this line of code takes my first webpage and iterates into my defined page range\n",
    "for i in range(0,150): #range of pages to scrape\n",
    "    url= 'https://www.autovillage.co.uk/used-car/page/{}/filter/bodystyle/saloon'.format(i)\n",
    "    html= urlopen(url)\n",
    "    autovillage_page= html.read()\n",
    "    soup= BeautifulSoup(autovillage_page, \"html.parser\")\n",
    "    \n",
    "    # Define my containers so I can reference them in below loops\n",
    "    container= page_soup.findAll(\"div\", {\"class\":\"ucatid20\"})\n",
    "    container2= page_soup.findAll(\"div\", {\"class\":\"avprice\"})\n",
    "    \n",
    "    # iterate into my price container\n",
    "    for item in container2:\n",
    "        # create price feature\n",
    "        price.append(item.text)\n",
    "        \n",
    "    # iterate into my other features container   \n",
    "    for item in range(0,len(container)):\n",
    "    \n",
    "        #year, make, and model\n",
    "        car_names= container[item].div.findAll(\"div\", {\"class\":\"item\"})[0]\n",
    "        year_make_model.append(car_names.get_text().strip())\n",
    "    \n",
    "        #engine size and transmission type\n",
    "        tran = container[item].div.span\n",
    "        eng_tran.append(tran.get_text())\n",
    "    \n",
    "        # number of doors and car body type\n",
    "        door_bod = container[item].div.findAll(\"div\", {\"class\":\"item\"})[2].span\n",
    "        door_body.append(door_bod.get_text())\n",
    "    \n",
    "        # Car mileage\n",
    "        car_mileage = container[item].div.findAll(\"div\", {\"class\":\"item\"})[3].span\n",
    "        mileage.append(car_mileage.get_text())\n",
    "    \n",
    "    "
   ]
  },
  {
   "cell_type": "markdown",
   "metadata": {},
   "source": [
    "Great! the webcrawler worked! Now lets form a data frame out of the arrays."
   ]
  },
  {
   "cell_type": "markdown",
   "metadata": {},
   "source": [
    "# Create the Data Frame"
   ]
  },
  {
   "cell_type": "code",
   "execution_count": 46,
   "metadata": {},
   "outputs": [],
   "source": [
    "# Create the DataFrame\n",
    "car_df_main = pd.DataFrame({'price':price, \n",
    "                       'mileage':mileage, \n",
    "                       'door/body':door_body, \n",
    "                       'eng/tran':eng_tran, \n",
    "                       'year/make/model':year_make_model})\n"
   ]
  },
  {
   "cell_type": "code",
   "execution_count": 52,
   "metadata": {},
   "outputs": [
    {
     "data": {
      "text/html": [
       "<div>\n",
       "<style scoped>\n",
       "    .dataframe tbody tr th:only-of-type {\n",
       "        vertical-align: middle;\n",
       "    }\n",
       "\n",
       "    .dataframe tbody tr th {\n",
       "        vertical-align: top;\n",
       "    }\n",
       "\n",
       "    .dataframe thead th {\n",
       "        text-align: right;\n",
       "    }\n",
       "</style>\n",
       "<table border=\"1\" class=\"dataframe\">\n",
       "  <thead>\n",
       "    <tr style=\"text-align: right;\">\n",
       "      <th></th>\n",
       "      <th>price</th>\n",
       "      <th>mileage</th>\n",
       "      <th>door/body</th>\n",
       "      <th>eng/tran</th>\n",
       "      <th>year/make/model</th>\n",
       "    </tr>\n",
       "  </thead>\n",
       "  <tbody>\n",
       "    <tr>\n",
       "      <th>0</th>\n",
       "      <td>£16,990</td>\n",
       "      <td>23,142 miles</td>\n",
       "      <td>4 Door Saloon</td>\n",
       "      <td>2494cc Automatic</td>\n",
       "      <td>2015 Lexus GS</td>\n",
       "    </tr>\n",
       "    <tr>\n",
       "      <th>1</th>\n",
       "      <td>£139,850</td>\n",
       "      <td>8,976 miles</td>\n",
       "      <td>4 Door Saloon</td>\n",
       "      <td>6752cc Automatic</td>\n",
       "      <td>2017 Bentley Mulsanne</td>\n",
       "    </tr>\n",
       "    <tr>\n",
       "      <th>2</th>\n",
       "      <td>£14,500</td>\n",
       "      <td>43,174 miles</td>\n",
       "      <td>4 Door Saloon</td>\n",
       "      <td>2179cc Automatic</td>\n",
       "      <td>2015 Jaguar XF</td>\n",
       "    </tr>\n",
       "    <tr>\n",
       "      <th>3</th>\n",
       "      <td>£10,280</td>\n",
       "      <td>23,493 miles</td>\n",
       "      <td>4 Door Saloon</td>\n",
       "      <td>2000cc Manual</td>\n",
       "      <td>2016 Mazda 6</td>\n",
       "    </tr>\n",
       "    <tr>\n",
       "      <th>4</th>\n",
       "      <td>£9,590</td>\n",
       "      <td>25,122 miles</td>\n",
       "      <td>4 Door Saloon</td>\n",
       "      <td>1998cc Manual</td>\n",
       "      <td>2014 Mazda 6</td>\n",
       "    </tr>\n",
       "    <tr>\n",
       "      <th>5</th>\n",
       "      <td>£15,698</td>\n",
       "      <td>4,705 miles</td>\n",
       "      <td>4 Door Saloon</td>\n",
       "      <td>1999cc Automatic</td>\n",
       "      <td>2015 Jaguar XE</td>\n",
       "    </tr>\n",
       "    <tr>\n",
       "      <th>6</th>\n",
       "      <td>£19,936</td>\n",
       "      <td>16,323 miles</td>\n",
       "      <td>4 Door Saloon</td>\n",
       "      <td>2143cc Manual</td>\n",
       "      <td>2017 Mercedes-Benz C Class</td>\n",
       "    </tr>\n",
       "    <tr>\n",
       "      <th>7</th>\n",
       "      <td>£34,950</td>\n",
       "      <td>59,500 miles</td>\n",
       "      <td>4 Door Saloon</td>\n",
       "      <td>2891cc Automatic</td>\n",
       "      <td>2017 Alfa Romeo Giulia</td>\n",
       "    </tr>\n",
       "    <tr>\n",
       "      <th>8</th>\n",
       "      <td>£14,795</td>\n",
       "      <td>77,410 miles</td>\n",
       "      <td>4 Door Saloon</td>\n",
       "      <td>2987cc Automatic</td>\n",
       "      <td>2015 Mercedes-Benz E Class</td>\n",
       "    </tr>\n",
       "    <tr>\n",
       "      <th>9</th>\n",
       "      <td>£10,996</td>\n",
       "      <td>34,000 miles</td>\n",
       "      <td>4 Door Saloon</td>\n",
       "      <td>1995cc Manual</td>\n",
       "      <td>2014 BMW 3 Series</td>\n",
       "    </tr>\n",
       "    <tr>\n",
       "      <th>10</th>\n",
       "      <td>£16,990</td>\n",
       "      <td>23,142 miles</td>\n",
       "      <td>4 Door Saloon</td>\n",
       "      <td>2494cc Automatic</td>\n",
       "      <td>2015 Lexus GS</td>\n",
       "    </tr>\n",
       "    <tr>\n",
       "      <th>11</th>\n",
       "      <td>£139,850</td>\n",
       "      <td>8,976 miles</td>\n",
       "      <td>4 Door Saloon</td>\n",
       "      <td>6752cc Automatic</td>\n",
       "      <td>2017 Bentley Mulsanne</td>\n",
       "    </tr>\n",
       "    <tr>\n",
       "      <th>12</th>\n",
       "      <td>£14,500</td>\n",
       "      <td>43,174 miles</td>\n",
       "      <td>4 Door Saloon</td>\n",
       "      <td>2179cc Automatic</td>\n",
       "      <td>2015 Jaguar XF</td>\n",
       "    </tr>\n",
       "    <tr>\n",
       "      <th>13</th>\n",
       "      <td>£10,280</td>\n",
       "      <td>23,493 miles</td>\n",
       "      <td>4 Door Saloon</td>\n",
       "      <td>2000cc Manual</td>\n",
       "      <td>2016 Mazda 6</td>\n",
       "    </tr>\n",
       "    <tr>\n",
       "      <th>14</th>\n",
       "      <td>£9,590</td>\n",
       "      <td>25,122 miles</td>\n",
       "      <td>4 Door Saloon</td>\n",
       "      <td>1998cc Manual</td>\n",
       "      <td>2014 Mazda 6</td>\n",
       "    </tr>\n",
       "    <tr>\n",
       "      <th>15</th>\n",
       "      <td>£15,698</td>\n",
       "      <td>4,705 miles</td>\n",
       "      <td>4 Door Saloon</td>\n",
       "      <td>1999cc Automatic</td>\n",
       "      <td>2015 Jaguar XE</td>\n",
       "    </tr>\n",
       "    <tr>\n",
       "      <th>16</th>\n",
       "      <td>£19,936</td>\n",
       "      <td>16,323 miles</td>\n",
       "      <td>4 Door Saloon</td>\n",
       "      <td>2143cc Manual</td>\n",
       "      <td>2017 Mercedes-Benz C Class</td>\n",
       "    </tr>\n",
       "    <tr>\n",
       "      <th>17</th>\n",
       "      <td>£34,950</td>\n",
       "      <td>59,500 miles</td>\n",
       "      <td>4 Door Saloon</td>\n",
       "      <td>2891cc Automatic</td>\n",
       "      <td>2017 Alfa Romeo Giulia</td>\n",
       "    </tr>\n",
       "    <tr>\n",
       "      <th>18</th>\n",
       "      <td>£14,795</td>\n",
       "      <td>77,410 miles</td>\n",
       "      <td>4 Door Saloon</td>\n",
       "      <td>2987cc Automatic</td>\n",
       "      <td>2015 Mercedes-Benz E Class</td>\n",
       "    </tr>\n",
       "    <tr>\n",
       "      <th>19</th>\n",
       "      <td>£10,996</td>\n",
       "      <td>34,000 miles</td>\n",
       "      <td>4 Door Saloon</td>\n",
       "      <td>1995cc Manual</td>\n",
       "      <td>2014 BMW 3 Series</td>\n",
       "    </tr>\n",
       "    <tr>\n",
       "      <th>20</th>\n",
       "      <td>£16,990</td>\n",
       "      <td>23,142 miles</td>\n",
       "      <td>4 Door Saloon</td>\n",
       "      <td>2494cc Automatic</td>\n",
       "      <td>2015 Lexus GS</td>\n",
       "    </tr>\n",
       "    <tr>\n",
       "      <th>21</th>\n",
       "      <td>£139,850</td>\n",
       "      <td>8,976 miles</td>\n",
       "      <td>4 Door Saloon</td>\n",
       "      <td>6752cc Automatic</td>\n",
       "      <td>2017 Bentley Mulsanne</td>\n",
       "    </tr>\n",
       "    <tr>\n",
       "      <th>22</th>\n",
       "      <td>£14,500</td>\n",
       "      <td>43,174 miles</td>\n",
       "      <td>4 Door Saloon</td>\n",
       "      <td>2179cc Automatic</td>\n",
       "      <td>2015 Jaguar XF</td>\n",
       "    </tr>\n",
       "    <tr>\n",
       "      <th>23</th>\n",
       "      <td>£10,280</td>\n",
       "      <td>23,493 miles</td>\n",
       "      <td>4 Door Saloon</td>\n",
       "      <td>2000cc Manual</td>\n",
       "      <td>2016 Mazda 6</td>\n",
       "    </tr>\n",
       "    <tr>\n",
       "      <th>24</th>\n",
       "      <td>£9,590</td>\n",
       "      <td>25,122 miles</td>\n",
       "      <td>4 Door Saloon</td>\n",
       "      <td>1998cc Manual</td>\n",
       "      <td>2014 Mazda 6</td>\n",
       "    </tr>\n",
       "    <tr>\n",
       "      <th>25</th>\n",
       "      <td>£15,698</td>\n",
       "      <td>4,705 miles</td>\n",
       "      <td>4 Door Saloon</td>\n",
       "      <td>1999cc Automatic</td>\n",
       "      <td>2015 Jaguar XE</td>\n",
       "    </tr>\n",
       "    <tr>\n",
       "      <th>26</th>\n",
       "      <td>£19,936</td>\n",
       "      <td>16,323 miles</td>\n",
       "      <td>4 Door Saloon</td>\n",
       "      <td>2143cc Manual</td>\n",
       "      <td>2017 Mercedes-Benz C Class</td>\n",
       "    </tr>\n",
       "    <tr>\n",
       "      <th>27</th>\n",
       "      <td>£34,950</td>\n",
       "      <td>59,500 miles</td>\n",
       "      <td>4 Door Saloon</td>\n",
       "      <td>2891cc Automatic</td>\n",
       "      <td>2017 Alfa Romeo Giulia</td>\n",
       "    </tr>\n",
       "    <tr>\n",
       "      <th>28</th>\n",
       "      <td>£14,795</td>\n",
       "      <td>77,410 miles</td>\n",
       "      <td>4 Door Saloon</td>\n",
       "      <td>2987cc Automatic</td>\n",
       "      <td>2015 Mercedes-Benz E Class</td>\n",
       "    </tr>\n",
       "    <tr>\n",
       "      <th>29</th>\n",
       "      <td>£10,996</td>\n",
       "      <td>34,000 miles</td>\n",
       "      <td>4 Door Saloon</td>\n",
       "      <td>1995cc Manual</td>\n",
       "      <td>2014 BMW 3 Series</td>\n",
       "    </tr>\n",
       "    <tr>\n",
       "      <th>30</th>\n",
       "      <td>£16,990</td>\n",
       "      <td>23,142 miles</td>\n",
       "      <td>4 Door Saloon</td>\n",
       "      <td>2494cc Automatic</td>\n",
       "      <td>2015 Lexus GS</td>\n",
       "    </tr>\n",
       "    <tr>\n",
       "      <th>31</th>\n",
       "      <td>£139,850</td>\n",
       "      <td>8,976 miles</td>\n",
       "      <td>4 Door Saloon</td>\n",
       "      <td>6752cc Automatic</td>\n",
       "      <td>2017 Bentley Mulsanne</td>\n",
       "    </tr>\n",
       "    <tr>\n",
       "      <th>32</th>\n",
       "      <td>£14,500</td>\n",
       "      <td>43,174 miles</td>\n",
       "      <td>4 Door Saloon</td>\n",
       "      <td>2179cc Automatic</td>\n",
       "      <td>2015 Jaguar XF</td>\n",
       "    </tr>\n",
       "    <tr>\n",
       "      <th>33</th>\n",
       "      <td>£10,280</td>\n",
       "      <td>23,493 miles</td>\n",
       "      <td>4 Door Saloon</td>\n",
       "      <td>2000cc Manual</td>\n",
       "      <td>2016 Mazda 6</td>\n",
       "    </tr>\n",
       "    <tr>\n",
       "      <th>34</th>\n",
       "      <td>£9,590</td>\n",
       "      <td>25,122 miles</td>\n",
       "      <td>4 Door Saloon</td>\n",
       "      <td>1998cc Manual</td>\n",
       "      <td>2014 Mazda 6</td>\n",
       "    </tr>\n",
       "    <tr>\n",
       "      <th>35</th>\n",
       "      <td>£15,698</td>\n",
       "      <td>4,705 miles</td>\n",
       "      <td>4 Door Saloon</td>\n",
       "      <td>1999cc Automatic</td>\n",
       "      <td>2015 Jaguar XE</td>\n",
       "    </tr>\n",
       "    <tr>\n",
       "      <th>36</th>\n",
       "      <td>£19,936</td>\n",
       "      <td>16,323 miles</td>\n",
       "      <td>4 Door Saloon</td>\n",
       "      <td>2143cc Manual</td>\n",
       "      <td>2017 Mercedes-Benz C Class</td>\n",
       "    </tr>\n",
       "    <tr>\n",
       "      <th>37</th>\n",
       "      <td>£34,950</td>\n",
       "      <td>59,500 miles</td>\n",
       "      <td>4 Door Saloon</td>\n",
       "      <td>2891cc Automatic</td>\n",
       "      <td>2017 Alfa Romeo Giulia</td>\n",
       "    </tr>\n",
       "    <tr>\n",
       "      <th>38</th>\n",
       "      <td>£14,795</td>\n",
       "      <td>77,410 miles</td>\n",
       "      <td>4 Door Saloon</td>\n",
       "      <td>2987cc Automatic</td>\n",
       "      <td>2015 Mercedes-Benz E Class</td>\n",
       "    </tr>\n",
       "    <tr>\n",
       "      <th>39</th>\n",
       "      <td>£10,996</td>\n",
       "      <td>34,000 miles</td>\n",
       "      <td>4 Door Saloon</td>\n",
       "      <td>1995cc Manual</td>\n",
       "      <td>2014 BMW 3 Series</td>\n",
       "    </tr>\n",
       "    <tr>\n",
       "      <th>40</th>\n",
       "      <td>£16,990</td>\n",
       "      <td>23,142 miles</td>\n",
       "      <td>4 Door Saloon</td>\n",
       "      <td>2494cc Automatic</td>\n",
       "      <td>2015 Lexus GS</td>\n",
       "    </tr>\n",
       "    <tr>\n",
       "      <th>41</th>\n",
       "      <td>£139,850</td>\n",
       "      <td>8,976 miles</td>\n",
       "      <td>4 Door Saloon</td>\n",
       "      <td>6752cc Automatic</td>\n",
       "      <td>2017 Bentley Mulsanne</td>\n",
       "    </tr>\n",
       "    <tr>\n",
       "      <th>42</th>\n",
       "      <td>£14,500</td>\n",
       "      <td>43,174 miles</td>\n",
       "      <td>4 Door Saloon</td>\n",
       "      <td>2179cc Automatic</td>\n",
       "      <td>2015 Jaguar XF</td>\n",
       "    </tr>\n",
       "    <tr>\n",
       "      <th>43</th>\n",
       "      <td>£10,280</td>\n",
       "      <td>23,493 miles</td>\n",
       "      <td>4 Door Saloon</td>\n",
       "      <td>2000cc Manual</td>\n",
       "      <td>2016 Mazda 6</td>\n",
       "    </tr>\n",
       "    <tr>\n",
       "      <th>44</th>\n",
       "      <td>£9,590</td>\n",
       "      <td>25,122 miles</td>\n",
       "      <td>4 Door Saloon</td>\n",
       "      <td>1998cc Manual</td>\n",
       "      <td>2014 Mazda 6</td>\n",
       "    </tr>\n",
       "    <tr>\n",
       "      <th>45</th>\n",
       "      <td>£15,698</td>\n",
       "      <td>4,705 miles</td>\n",
       "      <td>4 Door Saloon</td>\n",
       "      <td>1999cc Automatic</td>\n",
       "      <td>2015 Jaguar XE</td>\n",
       "    </tr>\n",
       "    <tr>\n",
       "      <th>46</th>\n",
       "      <td>£19,936</td>\n",
       "      <td>16,323 miles</td>\n",
       "      <td>4 Door Saloon</td>\n",
       "      <td>2143cc Manual</td>\n",
       "      <td>2017 Mercedes-Benz C Class</td>\n",
       "    </tr>\n",
       "    <tr>\n",
       "      <th>47</th>\n",
       "      <td>£34,950</td>\n",
       "      <td>59,500 miles</td>\n",
       "      <td>4 Door Saloon</td>\n",
       "      <td>2891cc Automatic</td>\n",
       "      <td>2017 Alfa Romeo Giulia</td>\n",
       "    </tr>\n",
       "    <tr>\n",
       "      <th>48</th>\n",
       "      <td>£14,795</td>\n",
       "      <td>77,410 miles</td>\n",
       "      <td>4 Door Saloon</td>\n",
       "      <td>2987cc Automatic</td>\n",
       "      <td>2015 Mercedes-Benz E Class</td>\n",
       "    </tr>\n",
       "    <tr>\n",
       "      <th>49</th>\n",
       "      <td>£10,996</td>\n",
       "      <td>34,000 miles</td>\n",
       "      <td>4 Door Saloon</td>\n",
       "      <td>1995cc Manual</td>\n",
       "      <td>2014 BMW 3 Series</td>\n",
       "    </tr>\n",
       "    <tr>\n",
       "      <th>50</th>\n",
       "      <td>£16,990</td>\n",
       "      <td>23,142 miles</td>\n",
       "      <td>4 Door Saloon</td>\n",
       "      <td>2494cc Automatic</td>\n",
       "      <td>2015 Lexus GS</td>\n",
       "    </tr>\n",
       "    <tr>\n",
       "      <th>51</th>\n",
       "      <td>£139,850</td>\n",
       "      <td>8,976 miles</td>\n",
       "      <td>4 Door Saloon</td>\n",
       "      <td>6752cc Automatic</td>\n",
       "      <td>2017 Bentley Mulsanne</td>\n",
       "    </tr>\n",
       "    <tr>\n",
       "      <th>52</th>\n",
       "      <td>£14,500</td>\n",
       "      <td>43,174 miles</td>\n",
       "      <td>4 Door Saloon</td>\n",
       "      <td>2179cc Automatic</td>\n",
       "      <td>2015 Jaguar XF</td>\n",
       "    </tr>\n",
       "    <tr>\n",
       "      <th>53</th>\n",
       "      <td>£10,280</td>\n",
       "      <td>23,493 miles</td>\n",
       "      <td>4 Door Saloon</td>\n",
       "      <td>2000cc Manual</td>\n",
       "      <td>2016 Mazda 6</td>\n",
       "    </tr>\n",
       "    <tr>\n",
       "      <th>54</th>\n",
       "      <td>£9,590</td>\n",
       "      <td>25,122 miles</td>\n",
       "      <td>4 Door Saloon</td>\n",
       "      <td>1998cc Manual</td>\n",
       "      <td>2014 Mazda 6</td>\n",
       "    </tr>\n",
       "    <tr>\n",
       "      <th>55</th>\n",
       "      <td>£15,698</td>\n",
       "      <td>4,705 miles</td>\n",
       "      <td>4 Door Saloon</td>\n",
       "      <td>1999cc Automatic</td>\n",
       "      <td>2015 Jaguar XE</td>\n",
       "    </tr>\n",
       "    <tr>\n",
       "      <th>56</th>\n",
       "      <td>£19,936</td>\n",
       "      <td>16,323 miles</td>\n",
       "      <td>4 Door Saloon</td>\n",
       "      <td>2143cc Manual</td>\n",
       "      <td>2017 Mercedes-Benz C Class</td>\n",
       "    </tr>\n",
       "    <tr>\n",
       "      <th>57</th>\n",
       "      <td>£34,950</td>\n",
       "      <td>59,500 miles</td>\n",
       "      <td>4 Door Saloon</td>\n",
       "      <td>2891cc Automatic</td>\n",
       "      <td>2017 Alfa Romeo Giulia</td>\n",
       "    </tr>\n",
       "    <tr>\n",
       "      <th>58</th>\n",
       "      <td>£14,795</td>\n",
       "      <td>77,410 miles</td>\n",
       "      <td>4 Door Saloon</td>\n",
       "      <td>2987cc Automatic</td>\n",
       "      <td>2015 Mercedes-Benz E Class</td>\n",
       "    </tr>\n",
       "    <tr>\n",
       "      <th>59</th>\n",
       "      <td>£10,996</td>\n",
       "      <td>34,000 miles</td>\n",
       "      <td>4 Door Saloon</td>\n",
       "      <td>1995cc Manual</td>\n",
       "      <td>2014 BMW 3 Series</td>\n",
       "    </tr>\n",
       "  </tbody>\n",
       "</table>\n",
       "</div>"
      ],
      "text/plain": [
       "       price        mileage       door/body           eng/tran  \\\n",
       "0    £16,990   23,142 miles   4 Door Saloon  2494cc Automatic    \n",
       "1   £139,850    8,976 miles   4 Door Saloon  6752cc Automatic    \n",
       "2    £14,500   43,174 miles   4 Door Saloon  2179cc Automatic    \n",
       "3    £10,280   23,493 miles   4 Door Saloon     2000cc Manual    \n",
       "4     £9,590   25,122 miles   4 Door Saloon     1998cc Manual    \n",
       "5    £15,698    4,705 miles   4 Door Saloon  1999cc Automatic    \n",
       "6    £19,936   16,323 miles   4 Door Saloon     2143cc Manual    \n",
       "7    £34,950   59,500 miles   4 Door Saloon  2891cc Automatic    \n",
       "8    £14,795   77,410 miles   4 Door Saloon  2987cc Automatic    \n",
       "9    £10,996   34,000 miles   4 Door Saloon     1995cc Manual    \n",
       "10   £16,990   23,142 miles   4 Door Saloon  2494cc Automatic    \n",
       "11  £139,850    8,976 miles   4 Door Saloon  6752cc Automatic    \n",
       "12   £14,500   43,174 miles   4 Door Saloon  2179cc Automatic    \n",
       "13   £10,280   23,493 miles   4 Door Saloon     2000cc Manual    \n",
       "14    £9,590   25,122 miles   4 Door Saloon     1998cc Manual    \n",
       "15   £15,698    4,705 miles   4 Door Saloon  1999cc Automatic    \n",
       "16   £19,936   16,323 miles   4 Door Saloon     2143cc Manual    \n",
       "17   £34,950   59,500 miles   4 Door Saloon  2891cc Automatic    \n",
       "18   £14,795   77,410 miles   4 Door Saloon  2987cc Automatic    \n",
       "19   £10,996   34,000 miles   4 Door Saloon     1995cc Manual    \n",
       "20   £16,990   23,142 miles   4 Door Saloon  2494cc Automatic    \n",
       "21  £139,850    8,976 miles   4 Door Saloon  6752cc Automatic    \n",
       "22   £14,500   43,174 miles   4 Door Saloon  2179cc Automatic    \n",
       "23   £10,280   23,493 miles   4 Door Saloon     2000cc Manual    \n",
       "24    £9,590   25,122 miles   4 Door Saloon     1998cc Manual    \n",
       "25   £15,698    4,705 miles   4 Door Saloon  1999cc Automatic    \n",
       "26   £19,936   16,323 miles   4 Door Saloon     2143cc Manual    \n",
       "27   £34,950   59,500 miles   4 Door Saloon  2891cc Automatic    \n",
       "28   £14,795   77,410 miles   4 Door Saloon  2987cc Automatic    \n",
       "29   £10,996   34,000 miles   4 Door Saloon     1995cc Manual    \n",
       "30   £16,990   23,142 miles   4 Door Saloon  2494cc Automatic    \n",
       "31  £139,850    8,976 miles   4 Door Saloon  6752cc Automatic    \n",
       "32   £14,500   43,174 miles   4 Door Saloon  2179cc Automatic    \n",
       "33   £10,280   23,493 miles   4 Door Saloon     2000cc Manual    \n",
       "34    £9,590   25,122 miles   4 Door Saloon     1998cc Manual    \n",
       "35   £15,698    4,705 miles   4 Door Saloon  1999cc Automatic    \n",
       "36   £19,936   16,323 miles   4 Door Saloon     2143cc Manual    \n",
       "37   £34,950   59,500 miles   4 Door Saloon  2891cc Automatic    \n",
       "38   £14,795   77,410 miles   4 Door Saloon  2987cc Automatic    \n",
       "39   £10,996   34,000 miles   4 Door Saloon     1995cc Manual    \n",
       "40   £16,990   23,142 miles   4 Door Saloon  2494cc Automatic    \n",
       "41  £139,850    8,976 miles   4 Door Saloon  6752cc Automatic    \n",
       "42   £14,500   43,174 miles   4 Door Saloon  2179cc Automatic    \n",
       "43   £10,280   23,493 miles   4 Door Saloon     2000cc Manual    \n",
       "44    £9,590   25,122 miles   4 Door Saloon     1998cc Manual    \n",
       "45   £15,698    4,705 miles   4 Door Saloon  1999cc Automatic    \n",
       "46   £19,936   16,323 miles   4 Door Saloon     2143cc Manual    \n",
       "47   £34,950   59,500 miles   4 Door Saloon  2891cc Automatic    \n",
       "48   £14,795   77,410 miles   4 Door Saloon  2987cc Automatic    \n",
       "49   £10,996   34,000 miles   4 Door Saloon     1995cc Manual    \n",
       "50   £16,990   23,142 miles   4 Door Saloon  2494cc Automatic    \n",
       "51  £139,850    8,976 miles   4 Door Saloon  6752cc Automatic    \n",
       "52   £14,500   43,174 miles   4 Door Saloon  2179cc Automatic    \n",
       "53   £10,280   23,493 miles   4 Door Saloon     2000cc Manual    \n",
       "54    £9,590   25,122 miles   4 Door Saloon     1998cc Manual    \n",
       "55   £15,698    4,705 miles   4 Door Saloon  1999cc Automatic    \n",
       "56   £19,936   16,323 miles   4 Door Saloon     2143cc Manual    \n",
       "57   £34,950   59,500 miles   4 Door Saloon  2891cc Automatic    \n",
       "58   £14,795   77,410 miles   4 Door Saloon  2987cc Automatic    \n",
       "59   £10,996   34,000 miles   4 Door Saloon     1995cc Manual    \n",
       "\n",
       "               year/make/model  \n",
       "0                2015 Lexus GS  \n",
       "1        2017 Bentley Mulsanne  \n",
       "2               2015 Jaguar XF  \n",
       "3                 2016 Mazda 6  \n",
       "4                 2014 Mazda 6  \n",
       "5               2015 Jaguar XE  \n",
       "6   2017 Mercedes-Benz C Class  \n",
       "7       2017 Alfa Romeo Giulia  \n",
       "8   2015 Mercedes-Benz E Class  \n",
       "9            2014 BMW 3 Series  \n",
       "10               2015 Lexus GS  \n",
       "11       2017 Bentley Mulsanne  \n",
       "12              2015 Jaguar XF  \n",
       "13                2016 Mazda 6  \n",
       "14                2014 Mazda 6  \n",
       "15              2015 Jaguar XE  \n",
       "16  2017 Mercedes-Benz C Class  \n",
       "17      2017 Alfa Romeo Giulia  \n",
       "18  2015 Mercedes-Benz E Class  \n",
       "19           2014 BMW 3 Series  \n",
       "20               2015 Lexus GS  \n",
       "21       2017 Bentley Mulsanne  \n",
       "22              2015 Jaguar XF  \n",
       "23                2016 Mazda 6  \n",
       "24                2014 Mazda 6  \n",
       "25              2015 Jaguar XE  \n",
       "26  2017 Mercedes-Benz C Class  \n",
       "27      2017 Alfa Romeo Giulia  \n",
       "28  2015 Mercedes-Benz E Class  \n",
       "29           2014 BMW 3 Series  \n",
       "30               2015 Lexus GS  \n",
       "31       2017 Bentley Mulsanne  \n",
       "32              2015 Jaguar XF  \n",
       "33                2016 Mazda 6  \n",
       "34                2014 Mazda 6  \n",
       "35              2015 Jaguar XE  \n",
       "36  2017 Mercedes-Benz C Class  \n",
       "37      2017 Alfa Romeo Giulia  \n",
       "38  2015 Mercedes-Benz E Class  \n",
       "39           2014 BMW 3 Series  \n",
       "40               2015 Lexus GS  \n",
       "41       2017 Bentley Mulsanne  \n",
       "42              2015 Jaguar XF  \n",
       "43                2016 Mazda 6  \n",
       "44                2014 Mazda 6  \n",
       "45              2015 Jaguar XE  \n",
       "46  2017 Mercedes-Benz C Class  \n",
       "47      2017 Alfa Romeo Giulia  \n",
       "48  2015 Mercedes-Benz E Class  \n",
       "49           2014 BMW 3 Series  \n",
       "50               2015 Lexus GS  \n",
       "51       2017 Bentley Mulsanne  \n",
       "52              2015 Jaguar XF  \n",
       "53                2016 Mazda 6  \n",
       "54                2014 Mazda 6  \n",
       "55              2015 Jaguar XE  \n",
       "56  2017 Mercedes-Benz C Class  \n",
       "57      2017 Alfa Romeo Giulia  \n",
       "58  2015 Mercedes-Benz E Class  \n",
       "59           2014 BMW 3 Series  "
      ]
     },
     "execution_count": 52,
     "metadata": {},
     "output_type": "execute_result"
    }
   ],
   "source": [
    "car_df_main"
   ]
  },
  {
   "cell_type": "markdown",
   "metadata": {},
   "source": [
    "It worked! we created our data frame and we can run this script as many times we want to retrieve more cars in the future. This website refreshes it's cars order and I didn't set a random seed so I am unable to replicate this exact dataframe more than once."
   ]
  },
  {
   "cell_type": "markdown",
   "metadata": {},
   "source": [
    "## Main Data Frame Save\n",
    "I will save my main created dataframe as a csv file in my raw data folder. I will then load it into my [Data Cleaning](https://github.com/PaulWill92/cars/blob/master/Jupyter-Notebooks/02-Data_Cleaning.ipynb) notebook and proceed to clean it."
   ]
  },
  {
   "cell_type": "code",
   "execution_count": null,
   "metadata": {},
   "outputs": [],
   "source": [
    "# Create our save directory path\n",
    "car_save_path = '../Raw-Data/saloon.csv'\n",
    "car_main_df.to_csv(car_save_path) # running this cell multiple times overwrites saves"
   ]
  }
 ],
 "metadata": {
  "kernelspec": {
   "display_name": "Python 3",
   "language": "python",
   "name": "python3"
  },
  "language_info": {
   "codemirror_mode": {
    "name": "ipython",
    "version": 3
   },
   "file_extension": ".py",
   "mimetype": "text/x-python",
   "name": "python",
   "nbconvert_exporter": "python",
   "pygments_lexer": "ipython3",
   "version": "3.7.4"
  },
  "toc-autonumbering": false,
  "toc-showcode": true,
  "toc-showmarkdowntxt": true
 },
 "nbformat": 4,
 "nbformat_minor": 4
}
