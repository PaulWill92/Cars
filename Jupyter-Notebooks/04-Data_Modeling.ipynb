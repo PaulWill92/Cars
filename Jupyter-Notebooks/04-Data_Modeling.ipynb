{
 "cells": [
  {
   "cell_type": "markdown",
   "metadata": {},
   "source": [
    "# Baseline Modeling\n",
    "In this notebook, I will be running a baseling regression model on my data. I will encode my categorical values and measure the performance including all of my features."
   ]
  },
  {
   "cell_type": "markdown",
   "metadata": {},
   "source": [
    "### Libraries and packages I will use:"
   ]
  },
  {
   "cell_type": "code",
   "execution_count": 36,
   "metadata": {},
   "outputs": [],
   "source": [
    "import pandas as pd\n",
    "import numpy as np\n",
    "import matplotlib.pyplot as plt\n",
    "import seaborn as sns\n",
    "import plotly.express as pxe\n",
    "import warnings\n",
    "warnings.filterwarnings('ignore')\n",
    "\n",
    "\n",
    "import sklearn.metrics as sm\n",
    "from sklearn.model_selection import GridSearchCV\n",
    "from sklearn.model_selection import train_test_split, KFold, cross_validate\n",
    "from sklearn.linear_model import LinearRegression, Ridge, Lasso, ElasticNet\n",
    "from sklearn.preprocessing import PolynomialFeatures, StandardScaler"
   ]
  },
  {
   "cell_type": "markdown",
   "metadata": {},
   "source": [
    "## The Data"
   ]
  },
  {
   "cell_type": "code",
   "execution_count": 37,
   "metadata": {},
   "outputs": [],
   "source": [
    "# Import the data\n",
    "\n",
    "df = pd.read_csv('../Cleaned-Data/cleaned_cars.csv')\n",
    "\n",
    "# Drop unneeded column\n",
    "\n",
    "df.drop(axis=1, columns=['Unnamed: 0'], inplace=True)"
   ]
  },
  {
   "cell_type": "code",
   "execution_count": 49,
   "metadata": {},
   "outputs": [
    {
     "data": {
      "image/png": "[encoded data removed]",
      "text/plain": [
       "<Figure size 576x360 with 2 Axes>"
      ]
     },
     "metadata": {
      "needs_background": "light"
     },
     "output_type": "display_data"
    }
   ],
   "source": [
    "# correlation matrix\n",
    "\n",
    "plt.subplots(figsize=(8,5))\n",
    "sns.heatmap(df.corr(), annot=True)\n",
    "plt.savefig('../figures/heatmap.png')\n",
    "plt.show()"
   ]
  },
  {
   "cell_type": "markdown",
   "metadata": {},
   "source": [
    "## One-hot encode categoricals\n",
    "In order to model with categorical values, that contain more than 2 categories, I need to encode the values. Encoding just provides a numeric value that represents the variables. For example: RGB (red, green, blue), red in this example would be encoded as `1/0/0`, blue would be encoded as `0/0/1`, and green would be encoded as `0/1/0`."
   ]
  },
  {
   "cell_type": "code",
   "execution_count": 4,
   "metadata": {},
   "outputs": [
    {
     "data": {
      "text/html": [
       "<div>\n",
       "<style scoped>\n",
       "    .dataframe tbody tr th:only-of-type {\n",
       "        vertical-align: middle;\n",
       "    }\n",
       "\n",
       "    .dataframe tbody tr th {\n",
       "        vertical-align: top;\n",
       "    }\n",
       "\n",
       "    .dataframe thead th {\n",
       "        text-align: right;\n",
       "    }\n",
       "</style>\n",
       "<table border=\"1\" class=\"dataframe\">\n",
       "  <thead>\n",
       "    <tr style=\"text-align: right;\">\n",
       "      <th></th>\n",
       "      <th>price(£)</th>\n",
       "      <th>mileage(mi)</th>\n",
       "      <th>door_count</th>\n",
       "      <th>body_style</th>\n",
       "      <th>engine_size(cc)</th>\n",
       "      <th>transmission</th>\n",
       "      <th>year</th>\n",
       "      <th>brand</th>\n",
       "      <th>model</th>\n",
       "    </tr>\n",
       "  </thead>\n",
       "  <tbody>\n",
       "    <tr>\n",
       "      <th>0</th>\n",
       "      <td>19998</td>\n",
       "      <td>21249.0</td>\n",
       "      <td>5.0</td>\n",
       "      <td>Estate</td>\n",
       "      <td>1995.0</td>\n",
       "      <td>Automatic</td>\n",
       "      <td>2016.0</td>\n",
       "      <td>BMW</td>\n",
       "      <td>X1</td>\n",
       "    </tr>\n",
       "    <tr>\n",
       "      <th>1</th>\n",
       "      <td>17795</td>\n",
       "      <td>24468.0</td>\n",
       "      <td>5.0</td>\n",
       "      <td>Estate</td>\n",
       "      <td>1997.0</td>\n",
       "      <td>Automatic</td>\n",
       "      <td>2014.0</td>\n",
       "      <td>Honda</td>\n",
       "      <td>CR-V</td>\n",
       "    </tr>\n",
       "    <tr>\n",
       "      <th>2</th>\n",
       "      <td>14500</td>\n",
       "      <td>45793.0</td>\n",
       "      <td>5.0</td>\n",
       "      <td>Estate</td>\n",
       "      <td>1984.0</td>\n",
       "      <td>Automatic</td>\n",
       "      <td>2013.0</td>\n",
       "      <td>Audi</td>\n",
       "      <td>Q3</td>\n",
       "    </tr>\n",
       "    <tr>\n",
       "      <th>3</th>\n",
       "      <td>21499</td>\n",
       "      <td>5295.0</td>\n",
       "      <td>5.0</td>\n",
       "      <td>Estate</td>\n",
       "      <td>1598.0</td>\n",
       "      <td>Manual</td>\n",
       "      <td>2019.0</td>\n",
       "      <td>Kia</td>\n",
       "      <td>Optima</td>\n",
       "    </tr>\n",
       "    <tr>\n",
       "      <th>4</th>\n",
       "      <td>22975</td>\n",
       "      <td>33891.0</td>\n",
       "      <td>5.0</td>\n",
       "      <td>Estate</td>\n",
       "      <td>2967.0</td>\n",
       "      <td>Automatic</td>\n",
       "      <td>2016.0</td>\n",
       "      <td>Volkswagen</td>\n",
       "      <td>Touareg</td>\n",
       "    </tr>\n",
       "  </tbody>\n",
       "</table>\n",
       "</div>"
      ],
      "text/plain": [
       "   price(£)  mileage(mi)  door_count body_style  engine_size(cc) transmission  \\\n",
       "0     19998      21249.0         5.0     Estate           1995.0    Automatic   \n",
       "1     17795      24468.0         5.0     Estate           1997.0    Automatic   \n",
       "2     14500      45793.0         5.0     Estate           1984.0    Automatic   \n",
       "3     21499       5295.0         5.0     Estate           1598.0       Manual   \n",
       "4     22975      33891.0         5.0     Estate           2967.0    Automatic   \n",
       "\n",
       "     year       brand    model  \n",
       "0  2016.0         BMW       X1  \n",
       "1  2014.0       Honda     CR-V  \n",
       "2  2013.0        Audi       Q3  \n",
       "3  2019.0         Kia   Optima  \n",
       "4  2016.0  Volkswagen  Touareg  "
      ]
     },
     "execution_count": 4,
     "metadata": {},
     "output_type": "execute_result"
    }
   ],
   "source": [
    "# View our data set\n",
    "df.head()"
   ]
  },
  {
   "cell_type": "code",
   "execution_count": 5,
   "metadata": {},
   "outputs": [
    {
     "data": {
      "text/plain": [
       "(9629, 62)"
      ]
     },
     "execution_count": 5,
     "metadata": {},
     "output_type": "execute_result"
    }
   ],
   "source": [
    "# create the dummy variables\n",
    "dummies = pd.get_dummies(df[['body_style', 'brand', 'transmission']], drop_first=True)\n",
    "dummies.shape"
   ]
  },
  {
   "cell_type": "code",
   "execution_count": 6,
   "metadata": {},
   "outputs": [],
   "source": [
    "# dropped the categoricals\n",
    "altered_df = df.loc[:,['price(£)', 'mileage(mi)', 'door_count', 'engine_size(cc)', 'year']]\n",
    "\n",
    "# combine the dummys with the other predictors\n",
    "modeling_df = pd.concat([altered_df, dummies], axis=1)"
   ]
  },
  {
   "cell_type": "code",
   "execution_count": 7,
   "metadata": {},
   "outputs": [
    {
     "data": {
      "text/html": [
       "<div>\n",
       "<style scoped>\n",
       "    .dataframe tbody tr th:only-of-type {\n",
       "        vertical-align: middle;\n",
       "    }\n",
       "\n",
       "    .dataframe tbody tr th {\n",
       "        vertical-align: top;\n",
       "    }\n",
       "\n",
       "    .dataframe thead th {\n",
       "        text-align: right;\n",
       "    }\n",
       "</style>\n",
       "<table border=\"1\" class=\"dataframe\">\n",
       "  <thead>\n",
       "    <tr style=\"text-align: right;\">\n",
       "      <th></th>\n",
       "      <th>price(£)</th>\n",
       "      <th>mileage(mi)</th>\n",
       "      <th>door_count</th>\n",
       "      <th>engine_size(cc)</th>\n",
       "      <th>year</th>\n",
       "      <th>body_style_Convertible</th>\n",
       "      <th>body_style_Coupe</th>\n",
       "      <th>body_style_Estate</th>\n",
       "      <th>body_style_Hatchback</th>\n",
       "      <th>body_style_MPV</th>\n",
       "      <th>...</th>\n",
       "      <th>brand_Subaru</th>\n",
       "      <th>brand_Suzuki</th>\n",
       "      <th>brand_TVR</th>\n",
       "      <th>brand_Toyota</th>\n",
       "      <th>brand_Triumph</th>\n",
       "      <th>brand_Vauxhall</th>\n",
       "      <th>brand_Volkswagen</th>\n",
       "      <th>brand_Volvo</th>\n",
       "      <th>brand_Wiesmann</th>\n",
       "      <th>transmission_Manual</th>\n",
       "    </tr>\n",
       "  </thead>\n",
       "  <tbody>\n",
       "    <tr>\n",
       "      <th>0</th>\n",
       "      <td>19998</td>\n",
       "      <td>21249.0</td>\n",
       "      <td>5.0</td>\n",
       "      <td>1995.0</td>\n",
       "      <td>2016.0</td>\n",
       "      <td>0</td>\n",
       "      <td>0</td>\n",
       "      <td>1</td>\n",
       "      <td>0</td>\n",
       "      <td>0</td>\n",
       "      <td>...</td>\n",
       "      <td>0</td>\n",
       "      <td>0</td>\n",
       "      <td>0</td>\n",
       "      <td>0</td>\n",
       "      <td>0</td>\n",
       "      <td>0</td>\n",
       "      <td>0</td>\n",
       "      <td>0</td>\n",
       "      <td>0</td>\n",
       "      <td>0</td>\n",
       "    </tr>\n",
       "    <tr>\n",
       "      <th>1</th>\n",
       "      <td>17795</td>\n",
       "      <td>24468.0</td>\n",
       "      <td>5.0</td>\n",
       "      <td>1997.0</td>\n",
       "      <td>2014.0</td>\n",
       "      <td>0</td>\n",
       "      <td>0</td>\n",
       "      <td>1</td>\n",
       "      <td>0</td>\n",
       "      <td>0</td>\n",
       "      <td>...</td>\n",
       "      <td>0</td>\n",
       "      <td>0</td>\n",
       "      <td>0</td>\n",
       "      <td>0</td>\n",
       "      <td>0</td>\n",
       "      <td>0</td>\n",
       "      <td>0</td>\n",
       "      <td>0</td>\n",
       "      <td>0</td>\n",
       "      <td>0</td>\n",
       "    </tr>\n",
       "    <tr>\n",
       "      <th>2</th>\n",
       "      <td>14500</td>\n",
       "      <td>45793.0</td>\n",
       "      <td>5.0</td>\n",
       "      <td>1984.0</td>\n",
       "      <td>2013.0</td>\n",
       "      <td>0</td>\n",
       "      <td>0</td>\n",
       "      <td>1</td>\n",
       "      <td>0</td>\n",
       "      <td>0</td>\n",
       "      <td>...</td>\n",
       "      <td>0</td>\n",
       "      <td>0</td>\n",
       "      <td>0</td>\n",
       "      <td>0</td>\n",
       "      <td>0</td>\n",
       "      <td>0</td>\n",
       "      <td>0</td>\n",
       "      <td>0</td>\n",
       "      <td>0</td>\n",
       "      <td>0</td>\n",
       "    </tr>\n",
       "    <tr>\n",
       "      <th>3</th>\n",
       "      <td>21499</td>\n",
       "      <td>5295.0</td>\n",
       "      <td>5.0</td>\n",
       "      <td>1598.0</td>\n",
       "      <td>2019.0</td>\n",
       "      <td>0</td>\n",
       "      <td>0</td>\n",
       "      <td>1</td>\n",
       "      <td>0</td>\n",
       "      <td>0</td>\n",
       "      <td>...</td>\n",
       "      <td>0</td>\n",
       "      <td>0</td>\n",
       "      <td>0</td>\n",
       "      <td>0</td>\n",
       "      <td>0</td>\n",
       "      <td>0</td>\n",
       "      <td>0</td>\n",
       "      <td>0</td>\n",
       "      <td>0</td>\n",
       "      <td>1</td>\n",
       "    </tr>\n",
       "    <tr>\n",
       "      <th>4</th>\n",
       "      <td>22975</td>\n",
       "      <td>33891.0</td>\n",
       "      <td>5.0</td>\n",
       "      <td>2967.0</td>\n",
       "      <td>2016.0</td>\n",
       "      <td>0</td>\n",
       "      <td>0</td>\n",
       "      <td>1</td>\n",
       "      <td>0</td>\n",
       "      <td>0</td>\n",
       "      <td>...</td>\n",
       "      <td>0</td>\n",
       "      <td>0</td>\n",
       "      <td>0</td>\n",
       "      <td>0</td>\n",
       "      <td>0</td>\n",
       "      <td>0</td>\n",
       "      <td>1</td>\n",
       "      <td>0</td>\n",
       "      <td>0</td>\n",
       "      <td>0</td>\n",
       "    </tr>\n",
       "  </tbody>\n",
       "</table>\n",
       "<p>5 rows × 67 columns</p>\n",
       "</div>"
      ],
      "text/plain": [
       "   price(£)  mileage(mi)  door_count  engine_size(cc)    year  \\\n",
       "0     19998      21249.0         5.0           1995.0  2016.0   \n",
       "1     17795      24468.0         5.0           1997.0  2014.0   \n",
       "2     14500      45793.0         5.0           1984.0  2013.0   \n",
       "3     21499       5295.0         5.0           1598.0  2019.0   \n",
       "4     22975      33891.0         5.0           2967.0  2016.0   \n",
       "\n",
       "   body_style_Convertible  body_style_Coupe  body_style_Estate  \\\n",
       "0                       0                 0                  1   \n",
       "1                       0                 0                  1   \n",
       "2                       0                 0                  1   \n",
       "3                       0                 0                  1   \n",
       "4                       0                 0                  1   \n",
       "\n",
       "   body_style_Hatchback  body_style_MPV  ...  brand_Subaru  brand_Suzuki  \\\n",
       "0                     0               0  ...             0             0   \n",
       "1                     0               0  ...             0             0   \n",
       "2                     0               0  ...             0             0   \n",
       "3                     0               0  ...             0             0   \n",
       "4                     0               0  ...             0             0   \n",
       "\n",
       "   brand_TVR  brand_Toyota  brand_Triumph  brand_Vauxhall  brand_Volkswagen  \\\n",
       "0          0             0              0               0                 0   \n",
       "1          0             0              0               0                 0   \n",
       "2          0             0              0               0                 0   \n",
       "3          0             0              0               0                 0   \n",
       "4          0             0              0               0                 1   \n",
       "\n",
       "   brand_Volvo  brand_Wiesmann  transmission_Manual  \n",
       "0            0               0                    0  \n",
       "1            0               0                    0  \n",
       "2            0               0                    0  \n",
       "3            0               0                    1  \n",
       "4            0               0                    0  \n",
       "\n",
       "[5 rows x 67 columns]"
      ]
     },
     "execution_count": 7,
     "metadata": {},
     "output_type": "execute_result"
    }
   ],
   "source": [
    "modeling_df.head()"
   ]
  },
  {
   "cell_type": "code",
   "execution_count": 8,
   "metadata": {},
   "outputs": [
    {
     "name": "stdout",
     "output_type": "stream",
     "text": [
      "Modeling dataframe shape: (9629, 67)\n"
     ]
    }
   ],
   "source": [
    "print(\"Modeling dataframe shape:\",modeling_df.shape)"
   ]
  },
  {
   "cell_type": "code",
   "execution_count": 9,
   "metadata": {},
   "outputs": [
    {
     "name": "stdout",
     "output_type": "stream",
     "text": [
      "----------------------\n",
      "X Shape: (9629, 66)\n",
      "y Shape: (9629, 1)\n",
      "----------------------\n"
     ]
    }
   ],
   "source": [
    "# Target \n",
    "X = modeling_df.drop(axis=1, columns=['price(£)'])\n",
    "# X = altered_df.drop(axis=1, columns=['price(£)'])\n",
    "\n",
    "# Predictors\n",
    "y = modeling_df.loc[:,['price(£)']]\n",
    "print('----------------------')\n",
    "print('X Shape:', X.shape)\n",
    "print('y Shape:', y.shape)\n",
    "print('----------------------')"
   ]
  },
  {
   "cell_type": "markdown",
   "metadata": {},
   "source": [
    "## Setting up the baseline\n",
    "\n",
    "In this section, I will be setting up my train,test, validation set. I will then fit my linear regression model to it."
   ]
  },
  {
   "cell_type": "markdown",
   "metadata": {},
   "source": [
    "### Train, test, validation"
   ]
  },
  {
   "cell_type": "code",
   "execution_count": 10,
   "metadata": {},
   "outputs": [],
   "source": [
    "# split data set\n",
    "X_train, X_test, y_train, y_test = train_test_split(X,y, test_size=1000, random_state=17)\n",
    "X_train_v, X_val, y_train_v, y_val = train_test_split(X_train,y_train, test_size =1000, random_state=17)"
   ]
  },
  {
   "cell_type": "code",
   "execution_count": 11,
   "metadata": {},
   "outputs": [
    {
     "name": "stdout",
     "output_type": "stream",
     "text": [
      "----------train sets----------\n",
      "X_train Shape: Rows 8629 Columns 66\n",
      "y_train Shape: Rows 8629 Columns 1\n",
      "----------test sets-----------\n",
      "X_test Shape: Rows 1000 Columns 66\n",
      "y_test Shape: Rows 1000 Columns 1\n",
      "-------validation sets---------\n",
      "X_train_v Shape: Rows 7629 Columns 66\n",
      "y_train_v Shape: Rows 7629 Columns 1\n",
      "X_val Shape: Rows 1000 Columns 66\n",
      "y_val Shape: Rows 1000 Columns 1\n",
      "------------------------------\n",
      "Numbers add up: \n",
      " train&test: True\n",
      "train_v&val: True\n",
      "------------------------------\n"
     ]
    }
   ],
   "source": [
    "# check the shape\n",
    "print(\"----------train sets----------\")\n",
    "print('X_train Shape:', 'Rows',X_train.shape[0], 'Columns', X_train.shape[1])\n",
    "print('y_train Shape:', 'Rows', y_train.shape[0], 'Columns', y_train.shape[1])\n",
    "print(\"----------test sets-----------\")\n",
    "print('X_test Shape:', 'Rows', X_test.shape[0], 'Columns', X_test.shape[1])\n",
    "print('y_test Shape:', 'Rows', y_test.shape[0], 'Columns', y_test.shape[1])\n",
    "print(\"-------validation sets---------\")\n",
    "print('X_train_v Shape:', 'Rows',X_train_v.shape[0], 'Columns', X_train_v.shape[1])\n",
    "print('y_train_v Shape:', 'Rows', y_train_v.shape[0], 'Columns', y_train_v.shape[1])\n",
    "print('X_val Shape:', 'Rows', X_val.shape[0], 'Columns', X_val.shape[1])\n",
    "print('y_val Shape:', 'Rows', y_val.shape[0], 'Columns', y_val.shape[1])\n",
    "print(\"------------------------------\")\n",
    "print(\"Numbers add up: \\n\", 'train&test:',(X_train.shape[0]+y_train.shape[0])/2+(X_test.shape[0]+y_test.shape[0])/2==len(modeling_df))\n",
    "print(\"train_v&val:\", (X_train_v.shape[0]+y_train_v.shape[0])/2+(X_val.shape[0]+y_val.shape[0])/2+(X_test.shape[0]+y_test.shape[0])/2==len(modeling_df))\n",
    "print(\"------------------------------\")"
   ]
  },
  {
   "cell_type": "markdown",
   "metadata": {},
   "source": [
    "### Scaling & transform"
   ]
  },
  {
   "cell_type": "code",
   "execution_count": 12,
   "metadata": {},
   "outputs": [],
   "source": [
    "# scale dataset\n",
    "scaler = StandardScaler()"
   ]
  },
  {
   "cell_type": "markdown",
   "metadata": {},
   "source": [
    "For our model to do machine learning it has to of course \"learn\". by fitting our regression to our training data set, It learns the pattern of the data. We don't want to fit our scaler to our test or validation set as we will use these data sets to validate our performance. <br>\n",
    "\n",
    "We do want to transform our test data sets into z scores though."
   ]
  },
  {
   "cell_type": "code",
   "execution_count": 13,
   "metadata": {},
   "outputs": [],
   "source": [
    "# fit the train set only to learn the patterns \n",
    "scaler.fit(X_train)\n",
    "\n",
    "# transform the data sets (giving them z scores)\n",
    "X_train_v = scaler.transform(X_train_v)\n",
    "X_val = scaler.transform(X_val)\n",
    "\n",
    "X_train = scaler.transform(X_train) \n",
    "X_test = scaler.transform(X_test)\n"
   ]
  },
  {
   "cell_type": "markdown",
   "metadata": {},
   "source": [
    "## Baseline Linear Regression"
   ]
  },
  {
   "cell_type": "code",
   "execution_count": 14,
   "metadata": {},
   "outputs": [
    {
     "data": {
      "text/plain": [
       "0.43751692713779167"
      ]
     },
     "execution_count": 14,
     "metadata": {},
     "output_type": "execute_result"
    }
   ],
   "source": [
    "# assign model to variable\n",
    "baseline_regressor = LinearRegression()\n",
    "\n",
    "# fit model to train and learn patterns\n",
    "baseline_regressor.fit(X_train_v, y_train_v)\n",
    "baseline_regressor.score(X_train_v, y_train_v)"
   ]
  },
  {
   "cell_type": "code",
   "execution_count": 15,
   "metadata": {},
   "outputs": [
    {
     "data": {
      "text/plain": [
       "array([[-4363.43369065,  -833.58204883,  5781.38602542,  4825.98524579,\n",
       "        -2287.8624373 , -1681.01312074, -1168.00778206, -1931.24314416,\n",
       "        -1127.06155297, -2509.27478743,   247.08460387,  3084.88642404,\n",
       "           69.91299428,   883.47398095,  -436.17991495,  1908.5867924 ,\n",
       "          -93.41935017,  -297.02959765,  -902.58765514,  -382.13158224,\n",
       "          146.19055073,    48.70414882,  -175.25159758,  -225.68191938,\n",
       "        10984.68748477,  -431.20809304, -1210.91354798,  -161.82729861,\n",
       "         -891.18576132,  -250.39068984,   152.67169231,  -329.45037008,\n",
       "         -917.04051608,  6564.61502303,   969.31824622,  -135.85912542,\n",
       "          212.27359881,   384.68250471,  -503.73033985,  3617.60925084,\n",
       "          229.96413477,   597.48842936,  -454.45176841,  -462.65371836,\n",
       "          396.71602748,  -518.01102204,  -730.60650837,  2735.45978451,\n",
       "         -430.72586852,  3305.20038727,   660.93535057,    86.38786795,\n",
       "         -513.14657681,  -519.65271857,  -336.72765232,  -359.31108875,\n",
       "           14.64937132,  -521.94633843,    39.73117904,  -379.39861368,\n",
       "          639.73927868, -1253.13781754,  -445.52781718,   590.125734  ,\n",
       "          860.19798185,  -839.24642567]])"
      ]
     },
     "execution_count": 15,
     "metadata": {},
     "output_type": "execute_result"
    }
   ],
   "source": [
    "baseline_regressor.coef_"
   ]
  },
  {
   "cell_type": "markdown",
   "metadata": {},
   "source": [
    "## Baseline Regression Evaluation\n",
    "There are several ways to check your Linear Regression model accuracy. Usually, you may use Root mean squared error. You may train several Linear Regression models, adding or removing features to your dataset, and see which one has the lowest RMSE - the best one in your case. Also try to normalize your data before fitting into Linear Regression model."
   ]
  },
  {
   "cell_type": "markdown",
   "metadata": {},
   "source": [
    "### Train evaluation metrics"
   ]
  },
  {
   "cell_type": "markdown",
   "metadata": {},
   "source": [
    "* __Mean Absolute error:__ This is the average of absolute errors of all the data points in the given dataset.\n",
    "* __Mean squared error:__ This is the average of the squares of the errors of all the data points in the given dataset. It is one of the most popular metrics.\n",
    "* __Median absolute error:__ This is the median of all the errors in the given dataset. The main advantage of this metric is that it's robust to outliers. A single bad point in the test dataset wouldn't skew the entire error metric, as opposed to a mean error metric.\n",
    "* __Explained variance score:__ This score measures how well our model can account for the variation in our dataset. A score of 1.0 indicates that our model is perfect.\n",
    "* __$R^2$ score:__ This is pronouced as  `R-squared`, and this score refers to the coefficient of determination. This tells us how well the unknown samples will be predicted by our model. The best possible score is 1.0, but the score can be negative as well."
   ]
  },
  {
   "cell_type": "code",
   "execution_count": 16,
   "metadata": {},
   "outputs": [],
   "source": [
    "# test prediction\n",
    "y_train_v_pred = baseline_regressor.predict(X_train_v)"
   ]
  },
  {
   "cell_type": "code",
   "execution_count": 17,
   "metadata": {},
   "outputs": [
    {
     "name": "stdout",
     "output_type": "stream",
     "text": [
      "Mean absolute error = 5265.27\n",
      "Mean squared error = 537479541.26\n",
      "Median absolute error = 2967.24\n",
      "Explain variance score= 0.44\n",
      "R2 score = 0.44\n"
     ]
    }
   ],
   "source": [
    "## Regression Evaluation metrics\n",
    "\n",
    "print(\"Mean absolute error =\", round(sm.mean_absolute_error(y_train_v, y_train_v_pred),2))\n",
    "print(\"Mean squared error =\", round(sm.mean_squared_error(y_train_v, y_train_v_pred),2))\n",
    "print(\"Median absolute error =\", round(sm.median_absolute_error(y_train_v, y_train_v_pred),2))\n",
    "print(\"Explain variance score=\", round(sm.explained_variance_score(y_train_v, y_train_v_pred),2))\n",
    "print(\"R2 score =\", round(sm.r2_score(y_train_v, y_train_v_pred),2))"
   ]
  },
  {
   "cell_type": "code",
   "execution_count": 18,
   "metadata": {},
   "outputs": [
    {
     "data": {
      "image/png": "[encoded data removed]",
      "text/plain": [
       "<Figure size 864x360 with 1 Axes>"
      ]
     },
     "metadata": {
      "needs_background": "light"
     },
     "output_type": "display_data"
    }
   ],
   "source": [
    "y_train_v_pred = baseline_regressor.predict(X_train_v[:10].round(-3))\n",
    "fig, ax = plt.subplots(figsize=(12,5))\n",
    "ax.scatter(np.arange(10), y_train_v_pred, label='predicted')\n",
    "ax.scatter(np.arange(10), y_train_v[:10], label='actual')\n",
    "ax.legend()\n",
    "ax.set_title('Actual vs Predicted for first 10 rows')\n",
    "ax.set_ylabel('Price')\n",
    "ax.set_xticks([])\n",
    "plt.show()"
   ]
  },
  {
   "cell_type": "markdown",
   "metadata": {},
   "source": [
    "### Val metrics"
   ]
  },
  {
   "cell_type": "code",
   "execution_count": 19,
   "metadata": {},
   "outputs": [],
   "source": [
    "y_val_pred = baseline_regressor.predict(X_val)"
   ]
  },
  {
   "cell_type": "code",
   "execution_count": 20,
   "metadata": {},
   "outputs": [
    {
     "data": {
      "text/plain": [
       "0.6454560347196856"
      ]
     },
     "execution_count": 20,
     "metadata": {},
     "output_type": "execute_result"
    }
   ],
   "source": [
    "baseline_regressor.score(X_val, y_val)"
   ]
  },
  {
   "cell_type": "code",
   "execution_count": 21,
   "metadata": {},
   "outputs": [
    {
     "name": "stdout",
     "output_type": "stream",
     "text": [
      "Mean absolute error = 4638.09\n",
      "Mean squared error = 91580491.29\n",
      "Median absolute error = 2958.52\n",
      "Explain variance score= 0.65\n",
      "R2 score = 0.65\n"
     ]
    }
   ],
   "source": [
    "## Regression Evaluation metrics\n",
    "import sklearn.metrics as sm\n",
    "print(\"Mean absolute error =\", round(sm.mean_absolute_error(y_val, y_val_pred),2))\n",
    "print(\"Mean squared error =\", round(sm.mean_squared_error(y_val, y_val_pred),2))\n",
    "print(\"Median absolute error =\", round(sm.median_absolute_error(y_val, y_val_pred),2))\n",
    "print(\"Explain variance score=\", round(sm.explained_variance_score(y_val, y_val_pred),2))\n",
    "print(\"R2 score =\", round(sm.r2_score(y_val, y_val_pred),2))"
   ]
  },
  {
   "cell_type": "markdown",
   "metadata": {},
   "source": [
    "### plotting predictions"
   ]
  },
  {
   "cell_type": "code",
   "execution_count": 22,
   "metadata": {},
   "outputs": [
    {
     "data": {
      "image/png": "[encoded data removed]",
      "text/plain": [
       "<Figure size 576x360 with 1 Axes>"
      ]
     },
     "metadata": {
      "needs_background": "light"
     },
     "output_type": "display_data"
    }
   ],
   "source": [
    "yvalpred =baseline_regressor.predict(X_val[50:60].round(-3))\n",
    "fig, ax = plt.subplots(figsize=(8,5))\n",
    "ax.scatter(np.arange(10), yvalpred, label='predicted')\n",
    "ax.scatter(np.arange(10), y_val[50:60], label='actual')\n",
    "ax.legend()\n",
    "ax.set_title('Actual vs Predicted for first 10 rows')\n",
    "ax.set_ylabel('Price £')\n",
    "ax.set_xticks([])\n",
    "# save output to figures folder\n",
    "plt.savefig('../figures/baseline_predicted_output.png')"
   ]
  },
  {
   "cell_type": "markdown",
   "metadata": {},
   "source": [
    "## Setting up Polynomial regressor\n",
    "Since my model is underfit I can increase my features by running a polynomial regression. I will then run a ridge and lasso regression and compare assign the one that provides adequate punishment."
   ]
  },
  {
   "cell_type": "code",
   "execution_count": 23,
   "metadata": {},
   "outputs": [],
   "source": [
    "# 2nd degree\n",
    "poly = PolynomialFeatures(2)"
   ]
  },
  {
   "cell_type": "code",
   "execution_count": 24,
   "metadata": {},
   "outputs": [
    {
     "data": {
      "text/html": [
       "<div>\n",
       "<style scoped>\n",
       "    .dataframe tbody tr th:only-of-type {\n",
       "        vertical-align: middle;\n",
       "    }\n",
       "\n",
       "    .dataframe tbody tr th {\n",
       "        vertical-align: top;\n",
       "    }\n",
       "\n",
       "    .dataframe thead th {\n",
       "        text-align: right;\n",
       "    }\n",
       "</style>\n",
       "<table border=\"1\" class=\"dataframe\">\n",
       "  <thead>\n",
       "    <tr style=\"text-align: right;\">\n",
       "      <th></th>\n",
       "      <th>1</th>\n",
       "      <th>mileage(mi)</th>\n",
       "      <th>door_count</th>\n",
       "      <th>engine_size(cc)</th>\n",
       "      <th>year</th>\n",
       "      <th>body_style_Convertible</th>\n",
       "      <th>body_style_Coupe</th>\n",
       "      <th>body_style_Estate</th>\n",
       "      <th>body_style_Hatchback</th>\n",
       "      <th>body_style_MPV</th>\n",
       "      <th>...</th>\n",
       "      <th>brand_Volkswagen^2</th>\n",
       "      <th>brand_Volkswagen brand_Volvo</th>\n",
       "      <th>brand_Volkswagen brand_Wiesmann</th>\n",
       "      <th>brand_Volkswagen transmission_Manual</th>\n",
       "      <th>brand_Volvo^2</th>\n",
       "      <th>brand_Volvo brand_Wiesmann</th>\n",
       "      <th>brand_Volvo transmission_Manual</th>\n",
       "      <th>brand_Wiesmann^2</th>\n",
       "      <th>brand_Wiesmann transmission_Manual</th>\n",
       "      <th>transmission_Manual^2</th>\n",
       "    </tr>\n",
       "  </thead>\n",
       "  <tbody>\n",
       "    <tr>\n",
       "      <th>0</th>\n",
       "      <td>1.0</td>\n",
       "      <td>21249.0</td>\n",
       "      <td>5.0</td>\n",
       "      <td>1995.0</td>\n",
       "      <td>2016.0</td>\n",
       "      <td>0.0</td>\n",
       "      <td>0.0</td>\n",
       "      <td>1.0</td>\n",
       "      <td>0.0</td>\n",
       "      <td>0.0</td>\n",
       "      <td>...</td>\n",
       "      <td>0.0</td>\n",
       "      <td>0.0</td>\n",
       "      <td>0.0</td>\n",
       "      <td>0.0</td>\n",
       "      <td>0.0</td>\n",
       "      <td>0.0</td>\n",
       "      <td>0.0</td>\n",
       "      <td>0.0</td>\n",
       "      <td>0.0</td>\n",
       "      <td>0.0</td>\n",
       "    </tr>\n",
       "    <tr>\n",
       "      <th>1</th>\n",
       "      <td>1.0</td>\n",
       "      <td>24468.0</td>\n",
       "      <td>5.0</td>\n",
       "      <td>1997.0</td>\n",
       "      <td>2014.0</td>\n",
       "      <td>0.0</td>\n",
       "      <td>0.0</td>\n",
       "      <td>1.0</td>\n",
       "      <td>0.0</td>\n",
       "      <td>0.0</td>\n",
       "      <td>...</td>\n",
       "      <td>0.0</td>\n",
       "      <td>0.0</td>\n",
       "      <td>0.0</td>\n",
       "      <td>0.0</td>\n",
       "      <td>0.0</td>\n",
       "      <td>0.0</td>\n",
       "      <td>0.0</td>\n",
       "      <td>0.0</td>\n",
       "      <td>0.0</td>\n",
       "      <td>0.0</td>\n",
       "    </tr>\n",
       "    <tr>\n",
       "      <th>2</th>\n",
       "      <td>1.0</td>\n",
       "      <td>45793.0</td>\n",
       "      <td>5.0</td>\n",
       "      <td>1984.0</td>\n",
       "      <td>2013.0</td>\n",
       "      <td>0.0</td>\n",
       "      <td>0.0</td>\n",
       "      <td>1.0</td>\n",
       "      <td>0.0</td>\n",
       "      <td>0.0</td>\n",
       "      <td>...</td>\n",
       "      <td>0.0</td>\n",
       "      <td>0.0</td>\n",
       "      <td>0.0</td>\n",
       "      <td>0.0</td>\n",
       "      <td>0.0</td>\n",
       "      <td>0.0</td>\n",
       "      <td>0.0</td>\n",
       "      <td>0.0</td>\n",
       "      <td>0.0</td>\n",
       "      <td>0.0</td>\n",
       "    </tr>\n",
       "    <tr>\n",
       "      <th>3</th>\n",
       "      <td>1.0</td>\n",
       "      <td>5295.0</td>\n",
       "      <td>5.0</td>\n",
       "      <td>1598.0</td>\n",
       "      <td>2019.0</td>\n",
       "      <td>0.0</td>\n",
       "      <td>0.0</td>\n",
       "      <td>1.0</td>\n",
       "      <td>0.0</td>\n",
       "      <td>0.0</td>\n",
       "      <td>...</td>\n",
       "      <td>0.0</td>\n",
       "      <td>0.0</td>\n",
       "      <td>0.0</td>\n",
       "      <td>0.0</td>\n",
       "      <td>0.0</td>\n",
       "      <td>0.0</td>\n",
       "      <td>0.0</td>\n",
       "      <td>0.0</td>\n",
       "      <td>0.0</td>\n",
       "      <td>1.0</td>\n",
       "    </tr>\n",
       "    <tr>\n",
       "      <th>4</th>\n",
       "      <td>1.0</td>\n",
       "      <td>33891.0</td>\n",
       "      <td>5.0</td>\n",
       "      <td>2967.0</td>\n",
       "      <td>2016.0</td>\n",
       "      <td>0.0</td>\n",
       "      <td>0.0</td>\n",
       "      <td>1.0</td>\n",
       "      <td>0.0</td>\n",
       "      <td>0.0</td>\n",
       "      <td>...</td>\n",
       "      <td>1.0</td>\n",
       "      <td>0.0</td>\n",
       "      <td>0.0</td>\n",
       "      <td>0.0</td>\n",
       "      <td>0.0</td>\n",
       "      <td>0.0</td>\n",
       "      <td>0.0</td>\n",
       "      <td>0.0</td>\n",
       "      <td>0.0</td>\n",
       "      <td>0.0</td>\n",
       "    </tr>\n",
       "  </tbody>\n",
       "</table>\n",
       "<p>5 rows × 2278 columns</p>\n",
       "</div>"
      ],
      "text/plain": [
       "     1  mileage(mi)  door_count  engine_size(cc)    year  \\\n",
       "0  1.0      21249.0         5.0           1995.0  2016.0   \n",
       "1  1.0      24468.0         5.0           1997.0  2014.0   \n",
       "2  1.0      45793.0         5.0           1984.0  2013.0   \n",
       "3  1.0       5295.0         5.0           1598.0  2019.0   \n",
       "4  1.0      33891.0         5.0           2967.0  2016.0   \n",
       "\n",
       "   body_style_Convertible  body_style_Coupe  body_style_Estate  \\\n",
       "0                     0.0               0.0                1.0   \n",
       "1                     0.0               0.0                1.0   \n",
       "2                     0.0               0.0                1.0   \n",
       "3                     0.0               0.0                1.0   \n",
       "4                     0.0               0.0                1.0   \n",
       "\n",
       "   body_style_Hatchback  body_style_MPV  ...  brand_Volkswagen^2  \\\n",
       "0                   0.0             0.0  ...                 0.0   \n",
       "1                   0.0             0.0  ...                 0.0   \n",
       "2                   0.0             0.0  ...                 0.0   \n",
       "3                   0.0             0.0  ...                 0.0   \n",
       "4                   0.0             0.0  ...                 1.0   \n",
       "\n",
       "   brand_Volkswagen brand_Volvo  brand_Volkswagen brand_Wiesmann  \\\n",
       "0                           0.0                              0.0   \n",
       "1                           0.0                              0.0   \n",
       "2                           0.0                              0.0   \n",
       "3                           0.0                              0.0   \n",
       "4                           0.0                              0.0   \n",
       "\n",
       "   brand_Volkswagen transmission_Manual  brand_Volvo^2  \\\n",
       "0                                   0.0            0.0   \n",
       "1                                   0.0            0.0   \n",
       "2                                   0.0            0.0   \n",
       "3                                   0.0            0.0   \n",
       "4                                   0.0            0.0   \n",
       "\n",
       "   brand_Volvo brand_Wiesmann  brand_Volvo transmission_Manual  \\\n",
       "0                         0.0                              0.0   \n",
       "1                         0.0                              0.0   \n",
       "2                         0.0                              0.0   \n",
       "3                         0.0                              0.0   \n",
       "4                         0.0                              0.0   \n",
       "\n",
       "   brand_Wiesmann^2  brand_Wiesmann transmission_Manual  transmission_Manual^2  \n",
       "0               0.0                                 0.0                    0.0  \n",
       "1               0.0                                 0.0                    0.0  \n",
       "2               0.0                                 0.0                    0.0  \n",
       "3               0.0                                 0.0                    1.0  \n",
       "4               0.0                                 0.0                    0.0  \n",
       "\n",
       "[5 rows x 2278 columns]"
      ]
     },
     "execution_count": 24,
     "metadata": {},
     "output_type": "execute_result"
    }
   ],
   "source": [
    "# check that the features have been added\n",
    "X_poly = poly.fit_transform(X)\n",
    "X_poly = pd.DataFrame(X_poly,columns = poly.get_feature_names(X.columns))\n",
    "X_poly.head()"
   ]
  },
  {
   "cell_type": "code",
   "execution_count": 25,
   "metadata": {},
   "outputs": [],
   "source": [
    "# split data set\n",
    "X_train, X_test, y_train, y_test = train_test_split(X_poly,y, test_size=1000, random_state=17)\n",
    "X_train_v, X_val, y_train_v, y_val = train_test_split(X_train,y_train, test_size =1000, random_state=17)"
   ]
  },
  {
   "cell_type": "code",
   "execution_count": 26,
   "metadata": {},
   "outputs": [],
   "source": [
    "# instantiate the scaler\n",
    "scaler = StandardScaler()"
   ]
  },
  {
   "cell_type": "code",
   "execution_count": 27,
   "metadata": {},
   "outputs": [],
   "source": [
    "# learn the train sets patterns\n",
    "scaler.fit(X_train_v)\n",
    "\n",
    "# transform the sets\n",
    "X_train_v = scaler.transform(X_train_v)\n",
    "X_val = scaler.transform(X_val)\n",
    "\n",
    "X_train = scaler.transform(X_train)\n",
    "X_test = scaler.transform(X_test)"
   ]
  },
  {
   "cell_type": "code",
   "execution_count": 28,
   "metadata": {},
   "outputs": [
    {
     "data": {
      "text/html": [
       "<div>\n",
       "<style scoped>\n",
       "    .dataframe tbody tr th:only-of-type {\n",
       "        vertical-align: middle;\n",
       "    }\n",
       "\n",
       "    .dataframe tbody tr th {\n",
       "        vertical-align: top;\n",
       "    }\n",
       "\n",
       "    .dataframe thead th {\n",
       "        text-align: right;\n",
       "    }\n",
       "</style>\n",
       "<table border=\"1\" class=\"dataframe\">\n",
       "  <thead>\n",
       "    <tr style=\"text-align: right;\">\n",
       "      <th></th>\n",
       "      <th>1</th>\n",
       "      <th>mileage(mi)</th>\n",
       "      <th>door_count</th>\n",
       "      <th>engine_size(cc)</th>\n",
       "      <th>year</th>\n",
       "      <th>body_style_Convertible</th>\n",
       "      <th>body_style_Coupe</th>\n",
       "      <th>body_style_Estate</th>\n",
       "      <th>body_style_Hatchback</th>\n",
       "      <th>body_style_MPV</th>\n",
       "      <th>...</th>\n",
       "      <th>brand_Volkswagen^2</th>\n",
       "      <th>brand_Volkswagen brand_Volvo</th>\n",
       "      <th>brand_Volkswagen brand_Wiesmann</th>\n",
       "      <th>brand_Volkswagen transmission_Manual</th>\n",
       "      <th>brand_Volvo^2</th>\n",
       "      <th>brand_Volvo brand_Wiesmann</th>\n",
       "      <th>brand_Volvo transmission_Manual</th>\n",
       "      <th>brand_Wiesmann^2</th>\n",
       "      <th>brand_Wiesmann transmission_Manual</th>\n",
       "      <th>transmission_Manual^2</th>\n",
       "    </tr>\n",
       "  </thead>\n",
       "  <tbody>\n",
       "    <tr>\n",
       "      <th>0</th>\n",
       "      <td>0.0</td>\n",
       "      <td>-0.080143</td>\n",
       "      <td>0.778896</td>\n",
       "      <td>-0.741910</td>\n",
       "      <td>0.278705</td>\n",
       "      <td>-0.408280</td>\n",
       "      <td>-0.405654</td>\n",
       "      <td>-0.409153</td>\n",
       "      <td>-0.414595</td>\n",
       "      <td>2.441468</td>\n",
       "      <td>...</td>\n",
       "      <td>-0.261987</td>\n",
       "      <td>0.0</td>\n",
       "      <td>0.0</td>\n",
       "      <td>-0.207872</td>\n",
       "      <td>-0.20267</td>\n",
       "      <td>0.0</td>\n",
       "      <td>-0.147758</td>\n",
       "      <td>-0.01145</td>\n",
       "      <td>-0.01145</td>\n",
       "      <td>0.90740</td>\n",
       "    </tr>\n",
       "    <tr>\n",
       "      <th>1</th>\n",
       "      <td>0.0</td>\n",
       "      <td>0.866498</td>\n",
       "      <td>-1.628476</td>\n",
       "      <td>-0.918435</td>\n",
       "      <td>-1.675378</td>\n",
       "      <td>2.449302</td>\n",
       "      <td>-0.405654</td>\n",
       "      <td>-0.409153</td>\n",
       "      <td>-0.414595</td>\n",
       "      <td>-0.409590</td>\n",
       "      <td>...</td>\n",
       "      <td>-0.261987</td>\n",
       "      <td>0.0</td>\n",
       "      <td>0.0</td>\n",
       "      <td>-0.207872</td>\n",
       "      <td>-0.20267</td>\n",
       "      <td>0.0</td>\n",
       "      <td>-0.147758</td>\n",
       "      <td>-0.01145</td>\n",
       "      <td>-0.01145</td>\n",
       "      <td>0.90740</td>\n",
       "    </tr>\n",
       "    <tr>\n",
       "      <th>2</th>\n",
       "      <td>0.0</td>\n",
       "      <td>1.290591</td>\n",
       "      <td>0.778896</td>\n",
       "      <td>-0.551263</td>\n",
       "      <td>0.278705</td>\n",
       "      <td>-0.408280</td>\n",
       "      <td>-0.405654</td>\n",
       "      <td>2.444073</td>\n",
       "      <td>-0.414595</td>\n",
       "      <td>-0.409590</td>\n",
       "      <td>...</td>\n",
       "      <td>-0.261987</td>\n",
       "      <td>0.0</td>\n",
       "      <td>0.0</td>\n",
       "      <td>-0.207872</td>\n",
       "      <td>-0.20267</td>\n",
       "      <td>0.0</td>\n",
       "      <td>-0.147758</td>\n",
       "      <td>-0.01145</td>\n",
       "      <td>-0.01145</td>\n",
       "      <td>0.90740</td>\n",
       "    </tr>\n",
       "    <tr>\n",
       "      <th>3</th>\n",
       "      <td>0.0</td>\n",
       "      <td>0.287531</td>\n",
       "      <td>0.778896</td>\n",
       "      <td>-0.753678</td>\n",
       "      <td>-0.893745</td>\n",
       "      <td>-0.408280</td>\n",
       "      <td>-0.405654</td>\n",
       "      <td>-0.409153</td>\n",
       "      <td>2.411990</td>\n",
       "      <td>-0.409590</td>\n",
       "      <td>...</td>\n",
       "      <td>-0.261987</td>\n",
       "      <td>0.0</td>\n",
       "      <td>0.0</td>\n",
       "      <td>-0.207872</td>\n",
       "      <td>-0.20267</td>\n",
       "      <td>0.0</td>\n",
       "      <td>-0.147758</td>\n",
       "      <td>-0.01145</td>\n",
       "      <td>-0.01145</td>\n",
       "      <td>-1.10205</td>\n",
       "    </tr>\n",
       "    <tr>\n",
       "      <th>4</th>\n",
       "      <td>0.0</td>\n",
       "      <td>-0.952704</td>\n",
       "      <td>0.778896</td>\n",
       "      <td>-1.212643</td>\n",
       "      <td>0.278705</td>\n",
       "      <td>-0.408280</td>\n",
       "      <td>-0.405654</td>\n",
       "      <td>-0.409153</td>\n",
       "      <td>2.411990</td>\n",
       "      <td>-0.409590</td>\n",
       "      <td>...</td>\n",
       "      <td>-0.261987</td>\n",
       "      <td>0.0</td>\n",
       "      <td>0.0</td>\n",
       "      <td>-0.207872</td>\n",
       "      <td>-0.20267</td>\n",
       "      <td>0.0</td>\n",
       "      <td>-0.147758</td>\n",
       "      <td>-0.01145</td>\n",
       "      <td>-0.01145</td>\n",
       "      <td>-1.10205</td>\n",
       "    </tr>\n",
       "  </tbody>\n",
       "</table>\n",
       "<p>5 rows × 2278 columns</p>\n",
       "</div>"
      ],
      "text/plain": [
       "     1  mileage(mi)  door_count  engine_size(cc)      year  \\\n",
       "0  0.0    -0.080143    0.778896        -0.741910  0.278705   \n",
       "1  0.0     0.866498   -1.628476        -0.918435 -1.675378   \n",
       "2  0.0     1.290591    0.778896        -0.551263  0.278705   \n",
       "3  0.0     0.287531    0.778896        -0.753678 -0.893745   \n",
       "4  0.0    -0.952704    0.778896        -1.212643  0.278705   \n",
       "\n",
       "   body_style_Convertible  body_style_Coupe  body_style_Estate  \\\n",
       "0               -0.408280         -0.405654          -0.409153   \n",
       "1                2.449302         -0.405654          -0.409153   \n",
       "2               -0.408280         -0.405654           2.444073   \n",
       "3               -0.408280         -0.405654          -0.409153   \n",
       "4               -0.408280         -0.405654          -0.409153   \n",
       "\n",
       "   body_style_Hatchback  body_style_MPV  ...  brand_Volkswagen^2  \\\n",
       "0             -0.414595        2.441468  ...           -0.261987   \n",
       "1             -0.414595       -0.409590  ...           -0.261987   \n",
       "2             -0.414595       -0.409590  ...           -0.261987   \n",
       "3              2.411990       -0.409590  ...           -0.261987   \n",
       "4              2.411990       -0.409590  ...           -0.261987   \n",
       "\n",
       "   brand_Volkswagen brand_Volvo  brand_Volkswagen brand_Wiesmann  \\\n",
       "0                           0.0                              0.0   \n",
       "1                           0.0                              0.0   \n",
       "2                           0.0                              0.0   \n",
       "3                           0.0                              0.0   \n",
       "4                           0.0                              0.0   \n",
       "\n",
       "   brand_Volkswagen transmission_Manual  brand_Volvo^2  \\\n",
       "0                             -0.207872       -0.20267   \n",
       "1                             -0.207872       -0.20267   \n",
       "2                             -0.207872       -0.20267   \n",
       "3                             -0.207872       -0.20267   \n",
       "4                             -0.207872       -0.20267   \n",
       "\n",
       "   brand_Volvo brand_Wiesmann  brand_Volvo transmission_Manual  \\\n",
       "0                         0.0                        -0.147758   \n",
       "1                         0.0                        -0.147758   \n",
       "2                         0.0                        -0.147758   \n",
       "3                         0.0                        -0.147758   \n",
       "4                         0.0                        -0.147758   \n",
       "\n",
       "   brand_Wiesmann^2  brand_Wiesmann transmission_Manual  transmission_Manual^2  \n",
       "0          -0.01145                            -0.01145                0.90740  \n",
       "1          -0.01145                            -0.01145                0.90740  \n",
       "2          -0.01145                            -0.01145                0.90740  \n",
       "3          -0.01145                            -0.01145               -1.10205  \n",
       "4          -0.01145                            -0.01145               -1.10205  \n",
       "\n",
       "[5 rows x 2278 columns]"
      ]
     },
     "execution_count": 28,
     "metadata": {},
     "output_type": "execute_result"
    }
   ],
   "source": [
    "# inspect features\n",
    "X_train_v = pd.DataFrame(X_train_v,columns = poly.get_feature_names(X.columns))\n",
    "X_train_v.head()"
   ]
  },
  {
   "cell_type": "markdown",
   "metadata": {},
   "source": [
    "## Fit and evaluate"
   ]
  },
  {
   "cell_type": "code",
   "execution_count": 29,
   "metadata": {},
   "outputs": [
    {
     "data": {
      "text/plain": [
       "0.5912492905583"
      ]
     },
     "execution_count": 29,
     "metadata": {},
     "output_type": "execute_result"
    }
   ],
   "source": [
    "# Fit the transormed polynomial data to the model\n",
    "lin_reg = LinearRegression()\n",
    "lin_reg.fit(X_train_v,y_train_v)\n",
    "lin_reg.score(X_train_v,y_train_v)"
   ]
  },
  {
   "cell_type": "markdown",
   "metadata": {},
   "source": [
    "Lower score and negative R-squared."
   ]
  },
  {
   "cell_type": "code",
   "execution_count": 30,
   "metadata": {},
   "outputs": [
    {
     "data": {
      "text/plain": [
       "-1.8335575067072729e+28"
      ]
     },
     "execution_count": 30,
     "metadata": {},
     "output_type": "execute_result"
    }
   ],
   "source": [
    "lin_reg.score(X_val,y_val)"
   ]
  },
  {
   "cell_type": "markdown",
   "metadata": {},
   "source": [
    "### Apply ridge"
   ]
  },
  {
   "cell_type": "code",
   "execution_count": 31,
   "metadata": {},
   "outputs": [
    {
     "data": {
      "text/plain": [
       "0.5920441906414671"
      ]
     },
     "execution_count": 31,
     "metadata": {},
     "output_type": "execute_result"
    }
   ],
   "source": [
    "ridge = Ridge(.01)\n",
    "ridge.fit(X_train_v,y_train_v)\n",
    "ridge.score(X_train_v,y_train_v)"
   ]
  },
  {
   "cell_type": "code",
   "execution_count": 32,
   "metadata": {},
   "outputs": [
    {
     "data": {
      "text/plain": [
       "0.07955823947179952"
      ]
     },
     "execution_count": 32,
     "metadata": {},
     "output_type": "execute_result"
    }
   ],
   "source": [
    "ridge.score(X_val,y_val)"
   ]
  },
  {
   "cell_type": "markdown",
   "metadata": {},
   "source": [
    "### Apply lasso"
   ]
  },
  {
   "cell_type": "code",
   "execution_count": 33,
   "metadata": {},
   "outputs": [
    {
     "data": {
      "text/plain": [
       "0.5680603513276032"
      ]
     },
     "execution_count": 33,
     "metadata": {},
     "output_type": "execute_result"
    }
   ],
   "source": [
    "lasso = Lasso(.01)\n",
    "lasso.fit(X_train_v,y_train_v)\n",
    "lasso.score(X_train_v,y_train_v)"
   ]
  },
  {
   "cell_type": "code",
   "execution_count": 34,
   "metadata": {},
   "outputs": [
    {
     "data": {
      "text/plain": [
       "0.5008883071936736"
      ]
     },
     "execution_count": 34,
     "metadata": {},
     "output_type": "execute_result"
    }
   ],
   "source": [
    "lasso.score(X_val,y_val)"
   ]
  },
  {
   "cell_type": "code",
   "execution_count": 41,
   "metadata": {},
   "outputs": [],
   "source": [
    "lasso_pred = lasso.predict(X_val)"
   ]
  },
  {
   "cell_type": "code",
   "execution_count": 42,
   "metadata": {},
   "outputs": [
    {
     "name": "stdout",
     "output_type": "stream",
     "text": [
      "Mean absolute error = 3940.73\n",
      "Mean squared error = 128923063.18\n",
      "Median absolute error = 2194.75\n",
      "Explain variance score= 0.5\n",
      "R2 score = 0.5\n"
     ]
    }
   ],
   "source": [
    "print(\"Mean absolute error =\", round(sm.mean_absolute_error(y_val, lasso_pred),2))\n",
    "print(\"Mean squared error =\", round(sm.mean_squared_error(y_val, lasso_pred),2))\n",
    "print(\"Median absolute error =\", round(sm.median_absolute_error(y_val, lasso_pred),2))\n",
    "print(\"Explain variance score=\", round(sm.explained_variance_score(y_val, lasso_pred),2))\n",
    "print(\"R2 score =\", round(sm.r2_score(y_val, lasso_pred),2))"
   ]
  },
  {
   "cell_type": "code",
   "execution_count": 35,
   "metadata": {},
   "outputs": [
    {
     "data": {
      "image/png": "[encoded data removed]",
      "text/plain": [
       "<Figure size 576x360 with 1 Axes>"
      ]
     },
     "metadata": {
      "needs_background": "light"
     },
     "output_type": "display_data"
    }
   ],
   "source": [
    "yvalpred =lasso.predict(X_val[40:50].round(-3))\n",
    "fig, ax = plt.subplots(figsize=(8,5))\n",
    "ax.scatter(np.arange(10), yvalpred, label='predicted')\n",
    "ax.scatter(np.arange(10), y_val[40:50], label='actual')\n",
    "ax.legend()\n",
    "ax.set_title('Actual vs Predicted for first 10 rows')\n",
    "ax.set_ylabel('Price £')\n",
    "ax.set_xticks([])\n",
    "# save output to figures folder\n",
    "plt.savefig('../figures/baseline_predicted_output.png')"
   ]
  },
  {
   "cell_type": "markdown",
   "metadata": {},
   "source": [
    "I will go with the linear regression model as it performed higher. I will do some feature engineering to make it a little bit better as it is underfitted quite a bit. I can also try random forrest regression or increase my data by running my web crawler again."
   ]
  }
 ],
 "metadata": {
  "kernelspec": {
   "display_name": "Python 3",
   "language": "python",
   "name": "python3"
  },
  "language_info": {
   "codemirror_mode": {
    "name": "ipython",
    "version": 3
   },
   "file_extension": ".py",
   "mimetype": "text/x-python",
   "name": "python",
   "nbconvert_exporter": "python",
   "pygments_lexer": "ipython3",
   "version": "3.7.4"
  },
  "toc-autonumbering": false
 },
 "nbformat": 4,
 "nbformat_minor": 4
}
